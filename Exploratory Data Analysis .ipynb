{
    "cells": [
        {
            "cell_type": "code",
            "execution_count": 1,
            "metadata": {},
            "outputs": [],
            "source": "# The code was removed by Watson Studio for sharing."
        },
        {
            "cell_type": "code",
            "execution_count": 2,
            "metadata": {},
            "outputs": [
                {
                    "name": "stdout",
                    "output_type": "stream",
                    "text": "Pixiedust database opened successfully\nTable VERSION_TRACKER created successfully\nTable METRICS_TRACKER created successfully\n\nShare anonymous install statistics? (opt-out instructions)\n\nPixieDust will record metadata on its environment the next time the package is installed or updated. The data is anonymized and aggregated to help plan for future releases, and records only the following values:\n\n{\n   \"data_sent\": currentDate,\n   \"runtime\": \"python\",\n   \"application_version\": currentPixiedustVersion,\n   \"space_id\": nonIdentifyingUniqueId,\n   \"config\": {\n       \"repository_id\": \"https://github.com/ibm-watson-data-lab/pixiedust\",\n       \"target_runtimes\": [\"Data Science Experience\"],\n       \"event_id\": \"web\",\n       \"event_organizer\": \"dev-journeys\"\n   }\n}\nYou can opt out by calling pixiedust.optOut() in a new cell.\n"
                },
                {
                    "data": {
                        "text/html": "\n        <div style=\"margin:10px\">\n            <a href=\"https://github.com/ibm-watson-data-lab/pixiedust\" target=\"_new\">\n                <img src=\"https://github.com/ibm-watson-data-lab/pixiedust/raw/master/docs/_static/pd_icon32.png\" style=\"float:left;margin-right:10px\"/>\n            </a>\n            <span>Pixiedust version 1.1.17</span>\n        </div>\n        ",
                        "text/plain": "<IPython.core.display.HTML object>"
                    },
                    "metadata": {},
                    "output_type": "display_data"
                },
                {
                    "name": "stdout",
                    "output_type": "stream",
                    "text": "\u001b[31mPixiedust runtime updated. Please restart kernel\u001b[0m\nTable USER_PREFERENCES created successfully\nTable service_connections created successfully\n"
                },
                {
                    "data": {
                        "text/html": "<div>Warning: You are not running the latest version of PixieDust. Current is 1.1.17, Latest is 1.1.18</div>",
                        "text/plain": "<IPython.core.display.HTML object>"
                    },
                    "metadata": {},
                    "output_type": "display_data"
                },
                {
                    "data": {
                        "text/html": "\n                <div>Please copy and run the following command in a new cell to upgrade: <span style=\"background-color:#ececec;font-family:monospace;padding:0 5px\">!pip install --user --upgrade pixiedust</span></div>\n            ",
                        "text/plain": "<IPython.core.display.HTML object>"
                    },
                    "metadata": {},
                    "output_type": "display_data"
                },
                {
                    "data": {
                        "text/html": "<div>Please restart kernel after upgrading.</div>",
                        "text/plain": "<IPython.core.display.HTML object>"
                    },
                    "metadata": {},
                    "output_type": "display_data"
                }
            ],
            "source": "import pixiedust"
        },
        {
            "cell_type": "code",
            "execution_count": null,
            "metadata": {},
            "outputs": [],
            "source": "!pip install --user --upgrade pixiedust"
        },
        {
            "cell_type": "markdown",
            "metadata": {},
            "source": "!pip install --user --upgrade pixiedust"
        },
        {
            "cell_type": "code",
            "execution_count": 3,
            "metadata": {},
            "outputs": [],
            "source": "from io import StringIO\nimport requests\nimport csv\nimport pandas as pd\nimport numpy as np\nimport matplotlib.pyplot as plt \nimport seaborn as sns\n"
        },
        {
            "cell_type": "code",
            "execution_count": 4,
            "metadata": {},
            "outputs": [],
            "source": "def get_file_handle(fname):\n    data_path = project.get_file(fname)\n    data_path.seek(0)\n    return data_path"
        },
        {
            "cell_type": "markdown",
            "metadata": {},
            "source": "# CDC Data"
        },
        {
            "cell_type": "code",
            "execution_count": 5,
            "metadata": {},
            "outputs": [
                {
                    "data": {
                        "text/html": "<div>\n<style scoped>\n    .dataframe tbody tr th:only-of-type {\n        vertical-align: middle;\n    }\n\n    .dataframe tbody tr th {\n        vertical-align: top;\n    }\n\n    .dataframe thead th {\n        text-align: right;\n    }\n</style>\n<table border=\"1\" class=\"dataframe\">\n  <thead>\n    <tr style=\"text-align: right;\">\n      <th></th>\n      <th>County</th>\n      <th>fips</th>\n      <th>Deaths</th>\n      <th>Population</th>\n      <th>DeathRate</th>\n      <th>Crisis</th>\n    </tr>\n  </thead>\n  <tbody>\n    <tr>\n      <th>0</th>\n      <td>Autauga County, AL</td>\n      <td>1001</td>\n      <td>10</td>\n      <td>276918</td>\n      <td>0.0</td>\n      <td>0</td>\n    </tr>\n    <tr>\n      <th>1</th>\n      <td>Baldwin County, AL</td>\n      <td>1003</td>\n      <td>69</td>\n      <td>998713</td>\n      <td>6.9</td>\n      <td>0</td>\n    </tr>\n    <tr>\n      <th>2</th>\n      <td>Blount County, AL</td>\n      <td>1009</td>\n      <td>41</td>\n      <td>288794</td>\n      <td>14.2</td>\n      <td>0</td>\n    </tr>\n    <tr>\n      <th>3</th>\n      <td>Cherokee County, AL</td>\n      <td>1019</td>\n      <td>10</td>\n      <td>129845</td>\n      <td>0.0</td>\n      <td>0</td>\n    </tr>\n    <tr>\n      <th>4</th>\n      <td>Cullman County, AL</td>\n      <td>1043</td>\n      <td>32</td>\n      <td>407016</td>\n      <td>7.9</td>\n      <td>0</td>\n    </tr>\n  </tbody>\n</table>\n</div>",
                        "text/plain": "                County  fips  Deaths  Population  DeathRate  Crisis\n0   Autauga County, AL  1001      10      276918        0.0       0\n1   Baldwin County, AL  1003      69      998713        6.9       0\n2    Blount County, AL  1009      41      288794       14.2       0\n3  Cherokee County, AL  1019      10      129845        0.0       0\n4   Cullman County, AL  1043      32      407016        7.9       0"
                    },
                    "execution_count": 5,
                    "metadata": {},
                    "output_type": "execute_result"
                }
            ],
            "source": "# define filename\nDATA_PATH = 'cdc_opioid_deaths.csv'\n\n# Using pandas to read the data \ndata_path = get_file_handle(DATA_PATH)\nloss_of_life_data = pd.read_csv(data_path)\nloss_of_life_data = loss_of_life_data.rename(columns = {'Crude Rate':'DeathRate'})\nloss_of_life_data.DeathRate.replace(\"Unreliable\", \"0\", inplace=True)\nloss_of_life_data[\"DeathRate\"] = loss_of_life_data.DeathRate.astype(\"float64\")\nloss_of_life_data = loss_of_life_data.rename(columns = {'County Code':'fips'})\nloss_of_life_data['Crisis'] = np.where(loss_of_life_data['DeathRate']>=22.05, 1, 0)\n\n# Display the first five rows\nloss_of_life_data.head()"
        },
        {
            "cell_type": "markdown",
            "metadata": {},
            "source": "Crude Rate = Death Rate = Death Count / County Population * 100,000"
        },
        {
            "cell_type": "markdown",
            "metadata": {},
            "source": "When the number of is less than 20 in this dataset its marked as \"Unreliable\", we will replace it with 0 "
        },
        {
            "cell_type": "markdown",
            "metadata": {},
            "source": "Renaming County Code to fips to join other data set on it "
        },
        {
            "cell_type": "code",
            "execution_count": 6,
            "metadata": {},
            "outputs": [
                {
                    "data": {
                        "image/png": "[encoded data removed]",
                        "text/plain": "<Figure size 432x288 with 1 Axes>"
                    },
                    "metadata": {
                        "needs_background": "light"
                    },
                    "output_type": "display_data"
                }
            ],
            "source": "DeathRate=loss_of_life_data['DeathRate']\nsns.distplot(DeathRate)\nplt.show()"
        },
        {
            "cell_type": "markdown",
            "metadata": {},
            "source": "The distribution of death rate is bimodal and right-skewed"
        },
        {
            "cell_type": "markdown",
            "metadata": {},
            "source": "Engineering a Boolean response column \"Crisis\" to classify counties with higher or equal rate of 22.05, since there is a drop of after 20"
        },
        {
            "cell_type": "code",
            "execution_count": 7,
            "metadata": {
                "pixiedust": {
                    "displayParams": {
                        "brunelMapType": "bubble",
                        "chartsize": "100",
                        "charttype": "subplots",
                        "clusterby": "Crisis",
                        "color": "County",
                        "dynamicfilter": "Population",
                        "filter": "{\"field\": \"DeathRate\", \"constraint\": \"greater_than\", \"value\": \"22.05\", \"case_matter\": \"False\", \"regex\": \"False\"}",
                        "handlerId": "barChart",
                        "keyFields": "Population,County",
                        "kind": "scatter",
                        "legend": "false",
                        "logx": "false",
                        "logy": "false",
                        "mapboxtoken": "pk.eyJ1IjoibWFwYm94IiwiYSI6ImNpejY4M29iazA2Z2gycXA4N2pmbDZmangifQ.-g_vE53SD2WrJ6tFX7QHmA",
                        "mpld3": "false",
                        "no_margin": "true",
                        "orientation": "vertical",
                        "rendererId": "bokeh",
                        "sortby": "Values DESC",
                        "tableFields": "DeathRate",
                        "timeseries": "false",
                        "valueFields": "Deaths",
                        "ylabel": "false"
                    }
                }
            },
            "outputs": [
                {
                    "data": {
                        "text/html": "<style type=\"text/css\">.pd_warning{display:none;}</style><div class=\"pd_warning\"><em>Hey, there's something awesome here! To see it, open this notebook outside GitHub, in a viewer like Jupyter</em></div>",
                        "text/plain": "<IPython.core.display.HTML object>"
                    },
                    "metadata": {
                        "pixieapp_metadata": null
                    },
                    "output_type": "display_data"
                }
            ],
            "source": "display(loss_of_life_data)"
        },
        {
            "cell_type": "code",
            "execution_count": 8,
            "metadata": {},
            "outputs": [
                {
                    "data": {
                        "text/plain": "(1616, 6)"
                    },
                    "execution_count": 8,
                    "metadata": {},
                    "output_type": "execute_result"
                }
            ],
            "source": "loss_of_life_data.shape #1616 counties "
        },
        {
            "cell_type": "code",
            "execution_count": 9,
            "metadata": {},
            "outputs": [
                {
                    "name": "stdout",
                    "output_type": "stream",
                    "text": "                     County   fips  Deaths  Population  DeathRate  Crisis\n1564     Wyoming County, WV  54109     103      112804       91.3       1\n1525       Boone County, WV  54005      94      118604       79.3       1\n1540    McDowell County, WV  54047      79      101626       77.7       1\n1546       Mingo County, WV  54059      95      127658       74.4       1\n829   Rio Arriba County, NM  35039     148      199672       74.1       1\n1528      Cabell County, WV  54011     288      484047       59.5       1\n1544      Mercer County, WV  54055     181      307924       58.8       1\n1554     Raleigh County, WV  54081     223      390206       57.1       1\n513       Powell County, KY  21197      35       61988       56.5       1\n460         Clay County, KY  21051      59      105846       55.7       1\n1539       Logan County, WV  54045      89      175910       50.6       1\n489       Leslie County, KY  21131      27       54356       49.7       1\n454     Campbell County, KY  21037     220      458006       48.0       1\n1393      Carbon County, UT  49007      48      103772       46.3       1\n445         Bell County, KY  21013      64      138300       46.3       1\n1560       Wayne County, WV  54099      93      205710       45.2       1\n476     Harrison County, KY  21097      42       93143       45.1       1\n1524    Berkeley County, WV  54003     239      551727       43.3       1\n1537     Kanawha County, WV  54039     410      948250       43.2       1\n1538     Lincoln County, WV  54043      46      107394       42.8       1\n1550    Nicholas County, WV  54067      55      128926       42.7       1\n1557     Summers County, WV  54089      28       66828       41.9       1\n524        Union County, KY  21225      31       74974       41.3       1\n461      Clinton County, KY  21053      21       50947       41.2       1\n467        Floyd County, KY  21071      78      190651       40.9       1\n1432   Dickenson County, VA  51051      31       76567       40.5       1\n498       Martin County, KY  21159      25       62236       40.2       1\n1548      Monroe County, WV  54063      27       67404       40.1       1\n1530     Fayette County, WV  54019      88      225920       39.0       1\n483       Kenton County, KY  21117     316      818742       38.6       1\n...                     ...    ...     ...         ...        ...     ...\n1153    Bradford County, PA  42015      17      308943        0.0       0\n405      Clinton County, IA  19045      13      240265        0.0       0\n1160     Clarion County, PA  42031      18      195633        0.0       0\n1162     Clinton County, PA  42035      12      197890        0.0       0\n1163    Columbia County, PA  42037      14      333898        0.0       0\n1168         Elk County, PA  42047      19      155575        0.0       0\n396       Shelby County, IN  18145      14      222581        0.0       0\n393       Ripley County, IN  18137      13      143046        0.0       0\n392     Randolph County, IN  18135      19      127080        0.0       0\n1173  Huntingdon County, PA  42061      14      228689        0.0       0\n1142       Union County, OR  41061      11      128979        0.0       0\n411          Lee County, IA  19111      18      176289        0.0       0\n1114       Texas County, OK  40139      12      108019        0.0       0\n1136     Malheur County, OR  41045      10      152287        0.0       0\n427     Franklin County, KS  20059      11      128426        0.0       0\n425     Cherokee County, KS  20021      11      103770        0.0       0\n1118     Washita County, OK  40149      11       57955        0.0       0\n1119    Woodward County, OK  40153      11      105671        0.0       0\n1120       Baker County, OR  41001      12       80050        0.0       0\n424       Butler County, KS  20015      18      331623        0.0       0\n423       Barton County, KS  20009      10      136329        0.0       0\n422     Atchison County, KS  20005      12       82853        0.0       0\n1126       Crook County, OR  41013      15      106742        0.0       0\n420      Webster County, IA  19187      10      185112        0.0       0\n419       Warren County, IA  19181      14      240500        0.0       0\n418        Story County, IA  19169      19      470730        0.0       0\n1132        Lake County, OR  41037      13       39095        0.0       0\n414     Marshall County, IA  19127      13      203775        0.0       0\n413       Marion County, IA  19125      13      166519        0.0       0\n0        Autauga County, AL   1001      10      276918        0.0       0\n\n[1616 rows x 6 columns]\n"
                }
            ],
            "source": "loss_of_life_data.sort_values(by=['DeathRate'], inplace=True, ascending=False)\n\nprint (loss_of_life_data)"
        },
        {
            "cell_type": "markdown",
            "metadata": {},
            "source": "# Education Data"
        },
        {
            "cell_type": "code",
            "execution_count": 10,
            "metadata": {},
            "outputs": [
                {
                    "data": {
                        "text/html": "<div>\n<style scoped>\n    .dataframe tbody tr th:only-of-type {\n        vertical-align: middle;\n    }\n\n    .dataframe tbody tr th {\n        vertical-align: top;\n    }\n\n    .dataframe thead th {\n        text-align: right;\n    }\n</style>\n<table border=\"1\" class=\"dataframe\">\n  <thead>\n    <tr style=\"text-align: right;\">\n      <th></th>\n      <th>FIPS Code</th>\n      <th>State</th>\n      <th>Area name</th>\n      <th>Less than a high school diploma, 2012-2016</th>\n      <th>High school diploma only, 2012-2016</th>\n      <th>Some college or associate's degree, 2012-2016</th>\n      <th>Bachelor's degree or higher, 2012-2016</th>\n      <th>Percent of adults with less than a high school diploma, 2012-2016</th>\n      <th>Percent of adults with a high school diploma only, 2012-2016</th>\n      <th>Percent of adults completing some college or associate's degree, 2012-2016</th>\n      <th>Percent of adults with a bachelor's degree or higher, 2012-2016</th>\n    </tr>\n  </thead>\n  <tbody>\n    <tr>\n      <th>0</th>\n      <td>0</td>\n      <td>US</td>\n      <td>United States</td>\n      <td>27,818,380</td>\n      <td>58,820,411</td>\n      <td>62,242,569</td>\n      <td>64,767,787</td>\n      <td>13.0</td>\n      <td>27.5</td>\n      <td>29.1</td>\n      <td>30.3</td>\n    </tr>\n    <tr>\n      <th>1</th>\n      <td>1000</td>\n      <td>AL</td>\n      <td>Alabama</td>\n      <td>496,036</td>\n      <td>1,009,593</td>\n      <td>972,703</td>\n      <td>783,076</td>\n      <td>15.2</td>\n      <td>31.0</td>\n      <td>29.8</td>\n      <td>24.0</td>\n    </tr>\n    <tr>\n      <th>2</th>\n      <td>1001</td>\n      <td>AL</td>\n      <td>Autauga County</td>\n      <td>4,528</td>\n      <td>12,519</td>\n      <td>10,451</td>\n      <td>8,968</td>\n      <td>12.4</td>\n      <td>34.3</td>\n      <td>28.7</td>\n      <td>24.6</td>\n    </tr>\n    <tr>\n      <th>3</th>\n      <td>1003</td>\n      <td>AL</td>\n      <td>Baldwin County</td>\n      <td>13,956</td>\n      <td>40,154</td>\n      <td>44,486</td>\n      <td>41,350</td>\n      <td>10.0</td>\n      <td>28.7</td>\n      <td>31.8</td>\n      <td>29.5</td>\n    </tr>\n    <tr>\n      <th>4</th>\n      <td>1005</td>\n      <td>AL</td>\n      <td>Barbour County</td>\n      <td>4,824</td>\n      <td>6,422</td>\n      <td>4,775</td>\n      <td>2,366</td>\n      <td>26.2</td>\n      <td>34.9</td>\n      <td>26.0</td>\n      <td>12.9</td>\n    </tr>\n  </tbody>\n</table>\n</div>",
                        "text/plain": "   FIPS Code State       Area name Less than a high school diploma, 2012-2016  \\\n0          0    US   United States                                 27,818,380   \n1       1000    AL         Alabama                                    496,036   \n2       1001    AL  Autauga County                                      4,528   \n3       1003    AL  Baldwin County                                     13,956   \n4       1005    AL  Barbour County                                      4,824   \n\n  High school diploma only, 2012-2016  \\\n0                          58,820,411   \n1                           1,009,593   \n2                              12,519   \n3                              40,154   \n4                               6,422   \n\n  Some college or associate's degree, 2012-2016  \\\n0                                    62,242,569   \n1                                       972,703   \n2                                        10,451   \n3                                        44,486   \n4                                         4,775   \n\n  Bachelor's degree or higher, 2012-2016  \\\n0                             64,767,787   \n1                                783,076   \n2                                  8,968   \n3                                 41,350   \n4                                  2,366   \n\n   Percent of adults with less than a high school diploma, 2012-2016  \\\n0                                               13.0                   \n1                                               15.2                   \n2                                               12.4                   \n3                                               10.0                   \n4                                               26.2                   \n\n   Percent of adults with a high school diploma only, 2012-2016  \\\n0                                               27.5              \n1                                               31.0              \n2                                               34.3              \n3                                               28.7              \n4                                               34.9              \n\n   Percent of adults completing some college or associate's degree, 2012-2016  \\\n0                                               29.1                            \n1                                               29.8                            \n2                                               28.7                            \n3                                               31.8                            \n4                                               26.0                            \n\n   Percent of adults with a bachelor's degree or higher, 2012-2016  \n0                                               30.3                \n1                                               24.0                \n2                                               24.6                \n3                                               29.5                \n4                                               12.9                "
                    },
                    "execution_count": 10,
                    "metadata": {},
                    "output_type": "execute_result"
                }
            ],
            "source": "# define filename\nDATA_PATH = 'Education_clean.csv'\n\n# Using pandas to read the data \ndata_path = get_file_handle(DATA_PATH)\nEducation_data = pd.read_csv(data_path, encoding='cp1252')\n# Display the first five rows\nEducation_data.head()"
        },
        {
            "cell_type": "code",
            "execution_count": 11,
            "metadata": {},
            "outputs": [],
            "source": "import re"
        },
        {
            "cell_type": "code",
            "execution_count": 12,
            "metadata": {},
            "outputs": [],
            "source": "Education_data.columns = Education_data.columns.str.replace(r\"[\\\"\\',]\", '')"
        },
        {
            "cell_type": "code",
            "execution_count": 13,
            "metadata": {},
            "outputs": [
                {
                    "data": {
                        "text/plain": "Index(['FIPS Code', 'State', 'Area name',\n       'Less than a high school diploma 2012-2016',\n       'High school diploma only 2012-2016',\n       'Some college or associates degree 2012-2016',\n       'Bachelors degree or higher 2012-2016',\n       'Percent of adults with less than a high school diploma 2012-2016',\n       'Percent of adults with a high school diploma only 2012-2016',\n       'Percent of adults completing some college or associates degree 2012-2016',\n       'Percent of adults with a bachelors degree or higher 2012-2016'],\n      dtype='object')"
                    },
                    "execution_count": 13,
                    "metadata": {},
                    "output_type": "execute_result"
                }
            ],
            "source": "Education_data.columns"
        },
        {
            "cell_type": "code",
            "execution_count": null,
            "metadata": {},
            "outputs": [],
            "source": "#Education_data.columns = Education_data.columns.str.strip().str.lower().str.replace(' ', '_').str.replace('(', '').str.replace(')', '').str.replace('\u2019','')"
        },
        {
            "cell_type": "code",
            "execution_count": 14,
            "metadata": {},
            "outputs": [],
            "source": "Education_data[\"FIPS Code\"].value_counts(dropna=False)\nEducation_data[Education_data[\"FIPS Code\"].isnull()]\nEducation_data = Education_data.dropna(how=\"all\")"
        },
        {
            "cell_type": "code",
            "execution_count": 15,
            "metadata": {},
            "outputs": [],
            "source": "Education_data[\"FIPS Code\"] = Education_data[\"FIPS Code\"].astype(\"int\")"
        },
        {
            "cell_type": "code",
            "execution_count": 16,
            "metadata": {},
            "outputs": [],
            "source": "Education_data.rename(columns = {'FIPS Code':'fips','Area name':'area','Percent of adults with less than a high school diploma 2012-2016':'PCT_POP_less_HSD','Percent of adults with a high school diploma only 2012-2016':\n                                 'PCT_POP_with_HSD','Percent of adults completing some college or associates degree 2012-2016':'PCT_POP_some_college','Percent of adults with a bachelors degree or higher 2012-2016':\n                                  'PCT_POP_with_BA'}, inplace = True)"
        },
        {
            "cell_type": "code",
            "execution_count": 17,
            "metadata": {},
            "outputs": [
                {
                    "data": {
                        "text/html": "<div>\n<style scoped>\n    .dataframe tbody tr th:only-of-type {\n        vertical-align: middle;\n    }\n\n    .dataframe tbody tr th {\n        vertical-align: top;\n    }\n\n    .dataframe thead th {\n        text-align: right;\n    }\n</style>\n<table border=\"1\" class=\"dataframe\">\n  <thead>\n    <tr style=\"text-align: right;\">\n      <th></th>\n      <th>fips</th>\n      <th>State</th>\n      <th>area</th>\n      <th>PCT_POP_less_HSD</th>\n      <th>PCT_POP_with_HSD</th>\n      <th>PCT_POP_some_college</th>\n      <th>PCT_POP_with_BA</th>\n    </tr>\n  </thead>\n  <tbody>\n    <tr>\n      <th>0</th>\n      <td>0</td>\n      <td>US</td>\n      <td>United States</td>\n      <td>13.0</td>\n      <td>27.5</td>\n      <td>29.1</td>\n      <td>30.3</td>\n    </tr>\n    <tr>\n      <th>1</th>\n      <td>1000</td>\n      <td>AL</td>\n      <td>Alabama</td>\n      <td>15.2</td>\n      <td>31.0</td>\n      <td>29.8</td>\n      <td>24.0</td>\n    </tr>\n    <tr>\n      <th>2</th>\n      <td>1001</td>\n      <td>AL</td>\n      <td>Autauga County</td>\n      <td>12.4</td>\n      <td>34.3</td>\n      <td>28.7</td>\n      <td>24.6</td>\n    </tr>\n    <tr>\n      <th>3</th>\n      <td>1003</td>\n      <td>AL</td>\n      <td>Baldwin County</td>\n      <td>10.0</td>\n      <td>28.7</td>\n      <td>31.8</td>\n      <td>29.5</td>\n    </tr>\n    <tr>\n      <th>4</th>\n      <td>1005</td>\n      <td>AL</td>\n      <td>Barbour County</td>\n      <td>26.2</td>\n      <td>34.9</td>\n      <td>26.0</td>\n      <td>12.9</td>\n    </tr>\n  </tbody>\n</table>\n</div>",
                        "text/plain": "   fips State            area  PCT_POP_less_HSD  PCT_POP_with_HSD  \\\n0     0    US   United States              13.0              27.5   \n1  1000    AL         Alabama              15.2              31.0   \n2  1001    AL  Autauga County              12.4              34.3   \n3  1003    AL  Baldwin County              10.0              28.7   \n4  1005    AL  Barbour County              26.2              34.9   \n\n   PCT_POP_some_college  PCT_POP_with_BA  \n0                  29.1             30.3  \n1                  29.8             24.0  \n2                  28.7             24.6  \n3                  31.8             29.5  \n4                  26.0             12.9  "
                    },
                    "execution_count": 17,
                    "metadata": {},
                    "output_type": "execute_result"
                }
            ],
            "source": "features = ['fips','State','area','PCT_POP_less_HSD','PCT_POP_with_HSD','PCT_POP_some_college','PCT_POP_with_BA']\nEducation_data = Education_data[features]\nEducation_data.head()"
        },
        {
            "cell_type": "code",
            "execution_count": 18,
            "metadata": {},
            "outputs": [],
            "source": "Principal_data = pd.merge (loss_of_life_data, Education_data, on='fips')"
        },
        {
            "cell_type": "code",
            "execution_count": 19,
            "metadata": {},
            "outputs": [
                {
                    "data": {
                        "text/html": "<div>\n<style scoped>\n    .dataframe tbody tr th:only-of-type {\n        vertical-align: middle;\n    }\n\n    .dataframe tbody tr th {\n        vertical-align: top;\n    }\n\n    .dataframe thead th {\n        text-align: right;\n    }\n</style>\n<table border=\"1\" class=\"dataframe\">\n  <thead>\n    <tr style=\"text-align: right;\">\n      <th></th>\n      <th>County</th>\n      <th>fips</th>\n      <th>Deaths</th>\n      <th>Population</th>\n      <th>DeathRate</th>\n      <th>Crisis</th>\n      <th>State</th>\n      <th>area</th>\n      <th>PCT_POP_less_HSD</th>\n      <th>PCT_POP_with_HSD</th>\n      <th>PCT_POP_some_college</th>\n      <th>PCT_POP_with_BA</th>\n    </tr>\n  </thead>\n  <tbody>\n    <tr>\n      <th>0</th>\n      <td>Wyoming County, WV</td>\n      <td>54109</td>\n      <td>103</td>\n      <td>112804</td>\n      <td>91.3</td>\n      <td>1</td>\n      <td>WV</td>\n      <td>Wyoming County</td>\n      <td>22.6</td>\n      <td>47.6</td>\n      <td>21.5</td>\n      <td>8.2</td>\n    </tr>\n    <tr>\n      <th>1</th>\n      <td>Boone County, WV</td>\n      <td>54005</td>\n      <td>94</td>\n      <td>118604</td>\n      <td>79.3</td>\n      <td>1</td>\n      <td>WV</td>\n      <td>Boone County</td>\n      <td>20.8</td>\n      <td>50.5</td>\n      <td>20.0</td>\n      <td>8.7</td>\n    </tr>\n    <tr>\n      <th>2</th>\n      <td>McDowell County, WV</td>\n      <td>54047</td>\n      <td>79</td>\n      <td>101626</td>\n      <td>77.7</td>\n      <td>1</td>\n      <td>WV</td>\n      <td>McDowell County</td>\n      <td>35.1</td>\n      <td>44.9</td>\n      <td>14.8</td>\n      <td>5.2</td>\n    </tr>\n    <tr>\n      <th>3</th>\n      <td>Mingo County, WV</td>\n      <td>54059</td>\n      <td>95</td>\n      <td>127658</td>\n      <td>74.4</td>\n      <td>1</td>\n      <td>WV</td>\n      <td>Mingo County</td>\n      <td>26.1</td>\n      <td>41.2</td>\n      <td>22.8</td>\n      <td>9.9</td>\n    </tr>\n    <tr>\n      <th>4</th>\n      <td>Rio Arriba County, NM</td>\n      <td>35039</td>\n      <td>148</td>\n      <td>199672</td>\n      <td>74.1</td>\n      <td>1</td>\n      <td>NM</td>\n      <td>Rio Arriba County</td>\n      <td>15.8</td>\n      <td>33.0</td>\n      <td>33.1</td>\n      <td>18.1</td>\n    </tr>\n  </tbody>\n</table>\n</div>",
                        "text/plain": "                  County   fips  Deaths  Population  DeathRate  Crisis State  \\\n0     Wyoming County, WV  54109     103      112804       91.3       1    WV   \n1       Boone County, WV  54005      94      118604       79.3       1    WV   \n2    McDowell County, WV  54047      79      101626       77.7       1    WV   \n3       Mingo County, WV  54059      95      127658       74.4       1    WV   \n4  Rio Arriba County, NM  35039     148      199672       74.1       1    NM   \n\n                area  PCT_POP_less_HSD  PCT_POP_with_HSD  \\\n0     Wyoming County              22.6              47.6   \n1       Boone County              20.8              50.5   \n2    McDowell County              35.1              44.9   \n3       Mingo County              26.1              41.2   \n4  Rio Arriba County              15.8              33.0   \n\n   PCT_POP_some_college  PCT_POP_with_BA  \n0                  21.5              8.2  \n1                  20.0              8.7  \n2                  14.8              5.2  \n3                  22.8              9.9  \n4                  33.1             18.1  "
                    },
                    "execution_count": 19,
                    "metadata": {},
                    "output_type": "execute_result"
                }
            ],
            "source": "Principal_data.head()"
        },
        {
            "cell_type": "code",
            "execution_count": 20,
            "metadata": {
                "pixiedust": {
                    "displayParams": {
                        "brunelMapType": "Chord",
                        "charttype": "subplots",
                        "clusterby": "Crisis",
                        "dynamicfilter": "DeathRate",
                        "handlerId": "mapView",
                        "keyFields": "DeathRate,PCT_POP_less_HSD,PCT_POP_some_college,PCT_POP_with_BA,PCT_POP_with_HSD,County",
                        "rendererId": "brunel",
                        "valueFields": "Population"
                    }
                }
            },
            "outputs": [
                {
                    "data": {
                        "text/html": "<style type=\"text/css\">.pd_warning{display:none;}</style><div class=\"pd_warning\"><em>Hey, there's something awesome here! To see it, open this notebook outside GitHub, in a viewer like Jupyter</em></div>\n        <div class=\"pd_save is-viewer-good\" style=\"padding-right:10px;text-align: center;line-height:initial !important;font-size: xx-large;font-weight: 500;color: coral;\">\n            \n        </div>\n    <div id=\"chartFigure0d510add\" class=\"pd_save is-viewer-good\" style=\"overflow-x:auto\">\n            <!--\n  ~ Copyright (c) 2015 IBM Corporation and others.\n  ~\n  ~ Licensed under the Apache License, Version 2.0 (the \"License\");\n  ~ You may not use this file except in compliance with the License.\n  ~ You may obtain a copy of the License at\n  ~\n  ~     http://www.apache.org/licenses/LICENSE-2.0\n  ~\n  ~ Unless required by applicable law or agreed to in writing, software\n  ~ distributed under the License is distributed on an \"AS IS\" BASIS,\n  ~ WITHOUT WARRANTIES OR CONDITIONS OF ANY KIND, either express or implied.\n  ~ See the License for the specific language governing permissions and\n  ~ limitations under the License.\n  -->\n\n\n<link rel=\"stylesheet\" type=\"text/css\" href=\"/data/jupyter2/static-file-content-delivery-network/nbextensions/brunel_ext/brunel.2.3.css\">\n<link rel=\"stylesheet\" type=\"text/css\" href=\"/data/jupyter2/static-file-content-delivery-network/nbextensions/brunel_ext/sumoselect.css\">\n\n<style>\n    \n</style>\n\n<div id=\"controlsid55341d24-6d1d-11ea-83f0-dd43ad6976db\" class=\"brunel\"></div>\n<svg id=\"visid55341b8a-6d1d-11ea-83f0-dd43ad6976db\" width=\"1464\" height=\"500\"></svg>\n<script type=\"text/javascript\">/*\n * Copyright (c) 2015 IBM Corporation and others.\n *\n * Licensed under the Apache License, Version 2.0 (the \"License\");\n * You may not use this file except in compliance with the License.\n * You may obtain a copy of the License at\n *\n *     http://www.apache.org/licenses/LICENSE-2.0\n *\n * Unless required by applicable law or agreed to in writing, software\n * distributed under the License is distributed on an \"AS IS\" BASIS,\n * WITHOUT WARRANTIES OR CONDITIONS OF ANY KIND, either express or implied.\n * See the License for the specific language governing permissions and\n * limitations under the License.\n */\n\nrequire.config({\n    waitSeconds: 60,\n    paths: {\n        'd3': '//cdnjs.cloudflare.com/ajax/libs/d3/4.2.1/d3.min',\n        'topojson': '//cdnjs.cloudflare.com/ajax/libs/topojson/1.6.20/topojson.min',\n        'brunel' : '/data/jupyter2/static-file-content-delivery-network/nbextensions/brunel_ext/brunel.2.3.min',\n        'brunelControls' : '/data/jupyter2/static-file-content-delivery-network/nbextensions/brunel_ext/brunel.controls.2.3.min'\n    },\n    shim: {\n       'brunel' : {\n            exports: 'BrunelD3',\n            deps: ['d3', 'topojson'],\n            init: function() {\n               return {\n                 BrunelD3 : BrunelD3,\n                 BrunelData : BrunelData\n              }\n            }\n        },\n       'brunelControls' : {\n            exports: 'BrunelEventHandlers',\n            init: function() {\n               return {\n                 BrunelEventHandlers: BrunelEventHandlers,\n                 BrunelJQueryControlFactory: BrunelJQueryControlFactory\n              }\n            }\n        }\n\n    }\n\n});\n\nrequire([\"d3\"], function(d3) {\n    require([\"brunel\", \"brunelControls\"], function(brunel, brunelControls) {\n        function  BrunelVis(visId) {\n  \"use strict\";                                                                       // strict mode\n  var datasets = [],                                      // array of datasets for the original data\n      pre = function(d, i) { return d },                         // default pre-process does nothing\n      post = function(d, i) { return d },                       // default post-process does nothing\n      transitionTime = 200,                                        // transition time for animations\n      charts = [],                                                       // the charts in the system\n      vis = d3.select('#' + visId).attr('class', 'brunel');                     // the SVG container\n\n  BrunelD3.addDefinitions(vis);                                   // ensure standard symbols present\n\n  // Define chart #1 in the visualization //////////////////////////////////////////////////////////\n\n  charts[0] = function(parentNode, filterRows) {\n    var geom = BrunelD3.geometry(parentNode || vis.node(), 0, 0, 1, 1, 0, 0, 0, 60),\n      elements = [];                                              // array of elements in this chart\n\n    // Define groups for the chart parts ///////////////////////////////////////////////////////////\n\n    var chart =  vis.append('g').attr('class', 'chart1')\n      .attr('transform','translate(' + geom.chart_left + ',' + geom.chart_top + ')');\n    var overlay = chart.append('g').attr('class', 'element').attr('class', 'overlay');\n    var zoom = d3.zoom().scaleExtent([1/3,3]);\n    var zoomNode = overlay.append('rect').attr('class', 'overlay')\n      .attr('x', geom.inner_left).attr('y', geom.inner_top)\n      .attr('width', geom.inner_rawWidth).attr('height', geom.inner_rawHeight)\n      .style('cursor', 'default')\n      .node();\n    zoomNode.__zoom = d3.zoomIdentity;\n    chart.append('rect').attr('class', 'background').attr('width', geom.chart_right-geom.chart_left).attr('height', geom.chart_bottom-geom.chart_top);\n    var interior = chart.append('g').attr('class', 'interior zoomNone')\n      .attr('transform','translate(' + geom.inner_left + ',' + geom.inner_top + ')')\n      .attr('clip-path', 'url(#clip_visid55341b8a-6d1d-11ea-83f0-dd43ad6976db_chart1_inner)');\n    interior.append('rect').attr('class', 'inner').attr('width', geom.inner_width).attr('height', geom.inner_height);\n    var gridGroup = interior.append('g').attr('class', 'grid');\n    var legends = chart.append('g').attr('class', 'legend')\n      .attr('transform','translate(' + (geom.chart_right-geom.chart_left - 3) + ',' + 0 + ')');\n    vis.append('clipPath').attr('id', 'clip_visid55341b8a-6d1d-11ea-83f0-dd43ad6976db_chart1_inner').append('rect')\n      .attr('x', 0).attr('y', 0)\n      .attr('width', geom.inner_rawWidth+1).attr('height', geom.inner_rawHeight+1);\n    var scale_x = d3.scaleLinear(), scale_y = d3.scaleLinear();\n    var base_scales = [scale_x, scale_y];                           // untransformed original scales\n    zoom.on('zoom', function(t, time) {\n        t = t || d3.event.transform;\n        zoomNode.__zoom = t;\n        interior.attr('class', 'interior ' + BrunelD3.zoomLabel(t.k));;\n        build(time || -1);\n    });\n\n    // Define element #1 ///////////////////////////////////////////////////////////////////////////\n\n    elements[0] = function() {\n      var original, processed,                           // data sets passed in and then transformed\n        element, data,                                 // brunel element information and brunel data\n        selection, merged;                                      // d3 selection and merged selection\n      var elementGroup = interior.append('g').attr('class', 'element1')\n        .attr('transform','translate(' + geom.inner_width/2 + ',' + geom.inner_height/2 + ')'),\n        main = elementGroup.append('g').attr('class', 'main'),\n        labels = BrunelD3.undoTransform(elementGroup.append('g').attr('class', 'labels').attr('aria-hidden', 'true'), elementGroup),\n        diagramExtras = elementGroup.append('g').attr('class', 'extras');\n\n      function makeData() {\n        original = datasets[0];\n        if (filterRows) original = original.retainRows(filterRows);\n        processed = pre(original, 0)\n          .summarize('#count=#count:sum; DeathRate=DeathRate:base; PCT_POP_less_HSD=PCT_POP_less_HSD:base; PCT_POP_some_college=PCT_POP_some_college:base; PCT_POP_with_BA=PCT_POP_with_BA:base; PCT_POP_with_HSD=PCT_POP_with_HSD:base; County=County:base; Population=Population');\n        processed = post(processed, 0);\n        var f0 = processed.field('DeathRate'),\n          f1 = processed.field('PCT_POP_less_HSD'),\n          f2 = processed.field('PCT_POP_some_college'),\n          f3 = processed.field('PCT_POP_with_BA'),\n          f4 = processed.field('PCT_POP_with_HSD'),\n          f5 = processed.field('County'),\n          f6 = processed.field('Population'),\n          f7 = processed.field('#count'),\n          f8 = processed.field('#row'),\n          f9 = processed.field('#selection');\n        var keyFunc = function(d) { return f0.value(d)+ '|' + f1.value(d)+ '|' + f2.value(d)+ '|' + f3.value(d)+ '|' + f4.value(d)+ '|' + f5.value(d)+ '|' + f6.value(d) };\n        data = {\n          DeathRate:    function(d) { return f0.value(d.row) },\n          PCT_POP_less_HSD:function(d) { return f1.value(d.row) },\n          PCT_POP_some_college:function(d) { return f2.value(d.row) },\n          PCT_POP_with_BA:function(d) { return f3.value(d.row) },\n          PCT_POP_with_HSD:function(d) { return f4.value(d.row) },\n          County:       function(d) { return f5.value(d.row) },\n          Population:   function(d) { return f6.value(d.row) },\n          $count:       function(d) { return f7.value(d.row) },\n          $row:         function(d) { return f8.value(d.row) },\n          $selection:   function(d) { return f9.value(d.row) },\n          DeathRate_f:  function(d) { return f0.valueFormatted(d.row) },\n          PCT_POP_less_HSD_f:function(d) { return f1.valueFormatted(d.row) },\n          PCT_POP_some_college_f:function(d) { return f2.valueFormatted(d.row) },\n          PCT_POP_with_BA_f:function(d) { return f3.valueFormatted(d.row) },\n          PCT_POP_with_HSD_f:function(d) { return f4.valueFormatted(d.row) },\n          County_f:     function(d) { return f5.valueFormatted(d.row) },\n          Population_f: function(d) { return f6.valueFormatted(d.row) },\n          $count_f:     function(d) { return f7.valueFormatted(d.row) },\n          $row_f:       function(d) { return f8.valueFormatted(d.row) },\n          $selection_f: function(d) { return f9.valueFormatted(d.row) },\n          _split:       function(d) { return f7.value(d.row) },\n          _key:         keyFunc,\n          _rows:        BrunelD3.makeRowsWithKeys(keyFunc, processed.rowCount())\n        };\n      }\n      // Aesthetic Functions\n      var scale_color = d3.scaleLinear().domain([1, 1, 1, 1, 1])\n        .interpolate(d3.interpolateHcl)\n        .range([ '#f1eef6', '#bdc9e1', '#74a9cf', '#2b8cbe', '#045a8d']);\n      var color = function(d) { return scale_color(data.$count(d)) };\n      legends._legend = legends._legend || { title: ['Count'], \n        ticks: [2, 1.5, 1, 0.5, 0]};\n      legends._legend.color = scale_color;\n\n      // Build element from data ///////////////////////////////////////////////////////////////////\n\n      function build(transitionMillis) {\n        element = elements[0];\n        // Define chord data structures using Brunel's enhanced chord diagram builder\n        var chords = BrunelData.diagram_Chord.make(processed,'DeathRate', 'PCT_POP_less_HSD');\n        var arc_width = 9.6;                                                // width of exterior arc\n        function keyFunction(d) { return d.source.index + '|' + d.target.index };//  special key function for the edges\n        var R = scale_x(geom.inner_radius)-scale_x(0), svgTrans = 'translate(' + scale_x(0) + ',' + scale_y(0) + ')';\n        main.attr('class', 'diagram chord');\n\n        // Define selection entry operations\n        function initialState(selection) {\n          selection\n            .attr('class', 'element edge filled')\n        }\n\n        // Define selection update operations on merged data\n        function updateState(selection) {\n          selection\n            .attr('d', d3.ribbon().radius(R-arc_width))\n            .attr('class', 'element edge')\n            .attr('transform', svgTrans)\n            .filter(BrunelD3.hasData)                     // following only performed for data items\n            .style('fill', color)\n\n          // Add in the arcs on the outside for the groups\n          diagramExtras.attr('class', 'diagram chord arcs');\n          var arcGroup = diagramExtras.selectAll('g').data(chords.groups),\n            addedArcGroups = arcGroup.enter().append('g'),\n            arcPath = d3.arc().innerRadius(R - arc_width).outerRadius(R);\n          addedArcGroups.append('path').attr('class', 'box')\n            .attr('id', function(d, i) { return 'arc' + i; });\n          addedArcGroups.append('text').attr('class', 'label')\n            .attr('dy', arc_width*0.72).attr('class', 'label')\n            .append('textPath').attr('xlink:href', function(d, i) { return '#arc' + i });\n          var mergedArcGroups = addedArcGroups.merge(arcGroup);\n          BrunelD3.tween(mergedArcGroups, transitionMillis, function(d, i) { \n              var group = d3.select(this);\n              group.attr('transform', svgTrans);\n              return function() {\n                  group.select('path').attr('d', arcPath(d));\n                  group.select('textPath').text(d.name);\n                  BrunelD3.centerInWedge(group.select('text'), arc_width);\n              }\n          });\n\n          BrunelD3.transition(arcGroup.exit(), transitionMillis/3)\n            .style('opacity', 0.5).each( function() {\n              this.remove(); BrunelD3.removeLabels(this); \n          });\n          ;\n        }\n\n        // Define labeling for the selection\n        function label(selection, transitionMillis) {\n\n          var tooltipLabeling  = {\n            index: -1, method: 'poly', location: ['center', 'center'], inside: true, align: 'middle', pad: 0, dy: 0.3,\n            fit: true, granularity: 0,\n            content: function(d) {\n              return d.row == null ? null : '<span class=\"title\">Death Rate: </span>'\n\t\t\t+ '<span class=\"field\">' + data.DeathRate_f(d) + '</span>'\n\t\t\t+ '<br/>'\n\t\t\t+ '<span class=\"title\">PCT POP Less HSD: </span>'\n\t\t\t+ '<span class=\"field\">' + data.PCT_POP_less_HSD_f(d) + '</span>'\n\t\t\t+ '<br/>'\n\t\t\t+ '<span class=\"title\">PCT POP Some College: </span>'\n\t\t\t+ '<span class=\"field\">' + data.PCT_POP_some_college_f(d) + '</span>'\n\t\t\t+ '<br/>'\n\t\t\t+ '<span class=\"title\">PCT POP With BA: </span>'\n\t\t\t+ '<span class=\"field\">' + data.PCT_POP_with_BA_f(d) + '</span>'\n\t\t\t+ '<br/>'\n\t\t\t+ '<span class=\"title\">PCT POP With HSD: </span>'\n\t\t\t+ '<span class=\"field\">' + data.PCT_POP_with_HSD_f(d) + '</span>'\n\t\t\t+ '<br/>'\n\t\t\t+ '<span class=\"title\">County: </span>'\n\t\t\t+ '<span class=\"field\">' + data.County_f(d) + '</span>'\n\t\t\t+ '<br/>'\n\t\t\t+ '<span class=\"title\">Population: </span>'\n\t\t\t+ '<span class=\"field\">' + data.Population_f(d) + '</span>'\n\t\t\t+ '<br/>'\n\t\t\t+ '<span class=\"title\">Count: </span>'\n\t\t\t+ '<span class=\"field\">' + data.$count_f(d) + '</span>'\n            }\n          };\n          BrunelD3.addTooltip(selection, tooltipLabeling, geom);\n        }\n        // Create selections, set the initial state and transition updates\n        selection = main.selectAll('.element').data(chords.chords, function(d) { return d.source.index + '|' + d.target.index });\n        var added = selection.enter().append('path');\n        merged = selection.merge(added);\n        initialState(added);\n        selection.filter(BrunelD3.hasData)\n          .classed('selected', BrunelD3.isSelected(data))\n          .filter(BrunelD3.isSelected(data)).raise();\n        updateState(BrunelD3.transition(merged, transitionMillis));\n        label(merged, transitionMillis);\n\n        BrunelD3.transition(selection.exit(), transitionMillis/3)\n          .style('opacity', 0.5).each( function() {\n            this.remove(); BrunelD3.removeLabels(this); \n        });\n      }\n\n      return {\n        data:           function() { return processed },\n        original:       function() { return original },\n        internal:       function() { return data },\n        selection:      function() { return merged },\n        makeData:       makeData,\n        build:          build,\n        chart:          function() { return charts[0] },\n        group:          function() { return elementGroup },\n        fields: {\n          x:            ['DeathRate', 'PCT_POP_less_HSD', 'PCT_POP_some_college', 'PCT_POP_with_BA', \n              'PCT_POP_with_HSD', 'County'],\n          y:            ['Population'],\n          key:          ['DeathRate', 'PCT_POP_less_HSD', 'PCT_POP_some_college', 'PCT_POP_with_BA', \n              'PCT_POP_with_HSD', 'County', 'Population'],\n          color:        ['#count']\n        }\n      };\n    }();\n\n    function build(time, noData) {\n      var first = elements[0].data() == null;\n      if (first) time = 0;                                           // no transition for first call\n      if ((first || time > -1) && !noData) {\n        elements[0].makeData();\n        BrunelD3.addLegend(legends, legends._legend);\n      }\n      elements[0].build(time);\n    }\n\n    // Expose the following components of the chart\n    return {\n      elements : elements,\n      interior : interior,\n      zoom: function(params, time) {\n          if (params) zoom.on('zoom').call(zoomNode, params, time);\n          return d3.zoomTransform(zoomNode);\n      },\n      build : build\n    };\n    }();\n\n  function setData(rowData, i) { datasets[i||0] = BrunelD3.makeData(rowData) }\n  function updateAll(time) { charts.forEach(function(x) {x.build(time || 0)}) }\n  function buildAll() {\n    for (var i=0;i<arguments.length;i++) setData(arguments[i], i);\n    updateAll(transitionTime);\n  }\n\n  return {\n    dataPreProcess:     function(f) { if (f) pre = f; return pre },\n    dataPostProcess:    function(f) { if (f) post = f; return post },\n    data:               function(d,i) { if (d) setData(d,i); return datasets[i||0] },\n    visId:              visId,\n    build:              buildAll,\n    rebuild:            updateAll,\n    charts:             charts\n  }\n}\n\n// Data Tables /////////////////////////////////////////////////////////////////////////////////////\n\nvar table1 = {\n   summarized: false,\n   names: ['DeathRate', 'PCT_POP_less_HSD', 'PCT_POP_some_college', 'PCT_POP_with_BA', 'PCT_POP_with_HSD', 'County', 'Population'], \n   options: ['numeric', 'numeric', 'numeric', 'numeric', 'numeric', 'string', 'numeric'], \n   rows: [[0, 5.3, 37.8, 24.7, 32.2, 'Miami County, KS', 163786],\n  [0, 6.7, 35.8, 24.3, 33.1, 'Goodhue County, MN', 232334],\n  [0, 7.4, 31.7, 28.7, 32.3, 'Calumet County, WI', 248057],\n  [0, 7.6, 33.8, 17.9, 40.8, 'Jasper County, IA', 183650],\n  [0, 8.1, 35.9, 19.9, 36.1, 'Franklin County, KS', 128426],\n  [0, 8.1, 46.1, 21.9, 23.9, 'Plumas County, CA', 93900],\n  [0, 8.9, 34.2, 22.1, 34.8, 'Sawyer County, WI', 82276],\n  [0, 9.2, 28.3, 20.6, 41.9, 'Morgan County, IL', 174373],\n  [0, 9.6, 35.8, 23, 31.6, 'Baker County, OR', 80050],\n  [0, 10.9, 24.5, 20.5, 44.1, 'Tioga County, PA', 210658],\n  [0, 10.9, 34, 13.8, 41.3, 'Pine County, MN', 145360],\n  [0, 11, 41, 17.6, 30.4, 'Montgomery County, KS', 168876],\n  [0, 12.3, 28.9, 12.2, 46.7, 'Morgan County, OH', 74239],\n  [0, 12.4, 28.7, 24.6, 34.3, 'Autauga County, AL', 276918],\n  [0, 13.1, 26.3, 38.8, 21.7, 'Chatham County, NC', 344662],\n  [0, 13.9, 32.6, 11.2, 42.3, 'Greene County, IL', 66973],\n  [0, 14.1, 25.1, 18.5, 42.3, 'Taylor County, WV', 84804],\n  [0, 14.9, 22.7, 36.2, 26.2, 'Harrisonburg city, VA', 260470],\n  [0, 17.2, 25.9, 13, 43.9, 'Logan County, AR', 109529],\n  [0, 17.4, 34.4, 17, 31.2, 'Russell County, AL', 294845],\n  [0, 19.6, 24, 11.6, 44.8, 'Grainger County, TN', 114190],\n  [0, 21.3, 26.7, 9.6, 42.5, 'Poinsett County, AR', 120761],\n  [0, 21.7, 34.7, 19, 24.6, 'San Benito County, CA', 290957],\n  [0, 22.1, 33.5, 12.9, 31.5, 'Copiah County, MS', 143928],\n  [0, 22.8, 23.8, 11.4, 41.9, 'Hickman County, TN', 121479],\n  [0, 24.7, 24.9, 14.3, 36.1, 'Atascosa County, TX', 238545],\n  [3.1, 10.8, 27, 44.6, 17.5, 'Fort Bend County, TX', 3422327],\n  [3.1, 11.1, 30.7, 36.3, 21.9, 'Hays County, TX', 929250],\n  [3.6, 16.3, 34.5, 20.7, 28.5, 'Gregg County, TX', 616739],\n  [3.8, 16.2, 33.1, 17.7, 33, 'Johnson County, TX', 788868],\n  [4.7, 13.2, 29.7, 33, 24.1, 'Montgomery County, TX', 2596893],\n  [5.2, 7.6, 30.1, 39.6, 22.7, 'Beaufort County, SC', 878477],\n  [5.3, 8.9, 31, 29.3, 30.9, 'Shawnee County, KS', 893099],\n  [5.4, 10, 32.7, 21.2, 36.1, 'Wayne County, NY', 459730],\n  [5.9, 19.4, 32.5, 18.4, 29.7, 'Bastrop County, TX', 391917],\n  [6.1, 14, 22.9, 19.9, 43.3, 'Lebanon County, PA', 683026],\n  [6.3, 9.8, 37.6, 22.1, 30.5, 'Williamson County, IL', 335632],\n  [6.4, 13.1, 39.4, 18.1, 29.3, 'Twin Falls County, ID', 405355],\n  [6.7, 15.7, 30.3, 20, 34, 'Orangeburg County, SC', 449619],\n  [6.8, 19.1, 27.9, 17.1, 35.9, 'Darlington County, SC', 338655],\n  [7.1, 8.7, 33.4, 29.3, 28.6, 'Rensselaer County, NY', 799863],\n  [7.1, 9, 35.4, 29.8, 25.8, 'Polk County, OR', 392277],\n  [7.8, 12.4, 31.8, 28.2, 27.6, 'Glynn County, GA', 412786],\n  [8.3, 5.5, 32.7, 30.1, 31.7, 'Marquette County, MI', 336932],\n  [8.4, 15.8, 25.5, 31.2, 27.5, 'Washington County, AR', 1102139],\n  [9.3, 5.3, 30.9, 42.5, 21.2, 'St. Johns County, FL', 1091481],\n  [9.7, 6.7, 36.8, 34.1, 22.4, 'Clackamas County, OR', 1976669],\n  [9.9, 9.3, 37.7, 17.9, 35.2, 'Stephenson County, IL', 231507],\n  [10, 5.6, 38.8, 33.4, 22.2, 'Fairbanks North Star Borough, AK', 500301],\n  [10.1, 13.5, 23.4, 20.1, 43.1, 'Franklin County, PA', 763741],\n  [10.2, 10.6, 35.5, 18.1, 35.8, 'Bay County, MI', 530352],\n  [10.2, 12, 28.2, 38.9, 20.9, 'Watauga County, NC', 263631],\n  [10.3, 7.1, 25.8, 41, 26.1, 'Warren County, OH', 1109601],\n  [10.3, 10, 33.4, 18.2, 38.3, 'Macoupin County, IL', 232517],\n  [10.3, 12.2, 31, 29.6, 27.1, 'Hamilton County, TN', 1757274],\n  [10.7, 10.8, 36.8, 23.2, 29.1, 'DeSoto County, MS', 854321],\n  [11.4, 9.6, 29.9, 26.7, 33.8, 'Madison County, NY', 360311],\n  [11.4, 20, 20.1, 34.1, 25.8, 'Kings County, NY', 13045462],\n  [11.5, 6.5, 36.6, 27.8, 29.2, 'St. Louis County, MN', 1002219],\n  [11.8, 12, 29.6, 15.1, 43.3, 'Christian County, IL', 169779],\n  [11.9, 9.2, 30.3, 30.2, 30.2, 'Rutherford County, TN', 1451252],\n  [12, 23.6, 29.3, 12.6, 34.4, 'Robeson County, NC', 672529],\n  [12.1, 12.3, 30, 31.9, 25.7, 'Orange County, FL', 6282995],\n  [12.2, 10.8, 27.1, 35.8, 26.2, 'Talbot County, MD', 188462],\n  [12.3, 17.5, 21.6, 26.7, 34.2, 'Passaic County, NJ', 2536274],\n  [13.1, 8.6, 35, 30.4, 26, 'Chesapeake city, VA', 1165728],\n  [13.2, 10.8, 36.7, 24.7, 27.8, 'Newport News city, VA', 909921],\n  [13.3, 17.8, 32.4, 13.8, 36.1, 'St. Francois County, MO', 331239],\n  [13.4, 21.4, 29.5, 14.7, 34.3, 'Scotland County, NC', 178448],\n  [14.4, 15.9, 30.8, 19.6, 33.7, 'Nash County, NC', 473082],\n  [14.6, 11.5, 30, 12.7, 45.8, 'Crawford County, OH', 212526],\n  [14.8, 10, 44.4, 20.1, 25.5, 'Shasta County, CA', 896534],\n  [14.9, 15.7, 22.3, 14.7, 47.3, 'Henry County, TN', 161212],\n  [15.6, 8.5, 25.6, 35.3, 30.6, 'Windham County, VT', 218087],\n  [15.8, 6.5, 26, 44.6, 22.9, 'Washington County, RI', 631663],\n  [15.8, 10.7, 36.4, 23, 29.8, 'Lincoln County, OR', 233751],\n  [15.8, 14.7, 27.2, 25.4, 32.7, 'Loudon County, TN', 253596],\n  [16.1, 12.8, 35.1, 17.7, 34.4, 'Baxter County, AR', 204977],\n  [16.5, 8.4, 25.2, 18.6, 47.9, 'Wyoming County, PA', 139580],\n  [16.8, 12.2, 34.4, 22.9, 30.5, 'McCracken County, KY', 326418],\n  [17, 6.1, 24.2, 49.4, 20.3, 'Chittenden County, VT', 801463],\n  [17.5, 10.8, 42.5, 19.5, 27.2, 'Sanpete County, UT', 142807],\n  [17.8, 12.5, 26, 38.2, 23.3, 'Davidson County, TN', 3338543],\n  [18.1, 22.4, 31.5, 15.3, 30.8, 'Surry County, NC', 364435],\n  [18.3, 16.1, 33.1, 17.6, 33.2, 'Rowan County, NC', 694208],\n  [18.3, 19.7, 31.4, 13.8, 35, 'Richmond County, NC', 229141],\n  [19.1, 11.2, 30.9, 31.3, 26.6, 'St. Tammany Parish, LA', 1231305],\n  [19.6, 15.1, 34.4, 21.1, 29.5, 'Portsmouth city, VA', 480132],\n  [20.7, 19.3, 25, 11, 44.7, 'McNairy County, TN', 130588],\n  [21, 10.6, 30.6, 26.9, 31.8, 'Floyd County, IN', 381474],\n  [21, 12.8, 29.9, 16.4, 40.9, 'Richland County, OH', 609202],\n  [21.8, 11.1, 25.7, 18, 45.2, 'Trumbull County, OH', 1024599],\n  [23.5, 10.5, 37, 17.6, 35, 'St. Clair County, MI', 800653],\n  [26.4, 7.7, 29.7, 34.8, 27.7, 'Strafford County, NH', 628569],\n  [29.1, 11.2, 26.7, 29.9, 32.2, 'Jefferson County, WV', 278140],\n  [30.2, 12.1, 30.9, 17.8, 39.2, 'Coos County, NH', 158997],\n  [31.3, 12, 29.4, 20.1, 38.5, 'Washington County, ME', 159535],\n  [33.8, 19.5, 25.4, 11.6, 43.4, 'Escambia County, AL', 189227],\n  [34.1, 20, 19, 11.4, 49.6, 'Hampshire County, WV', 117291],\n  [49.7, 36.3, 19.4, 9.7, 34.6, 'Leslie County, KY', 54356]]\n};\n\n// Call Code to Build the system ///////////////////////////////////////////////////////////////////\n\nvar v  = new BrunelVis('visid55341b8a-6d1d-11ea-83f0-dd43ad6976db');\nvar eventHandler = BrunelEventHandlers( v);\neventHandler.make_filter_handler( {\"DeathRate\":{\"filter_type\":\"range\",\"datasetIndex\":0,\"filter\":{\"min\":0.0,\"max\":49.7}}});\nv.build(table1);\n\n// Create and wire controls ////////////////////////////////////////////////////////////////////////\n\n$(function() {\n  $( '#controlsid55341d24-6d1d-11ea-83f0-dd43ad6976db').append( BrunelJQueryControlFactory .make_range_slider( 'visid55341b8a-6d1d-11ea-83f0-dd43ad6976db', 0, 'DeathRate', 'Death Rate', null, null, v.data(null, 0).field( 'DeathRate'), false, null, null));\n\n});\n\n    });\n});</script>\n        </div>",
                        "text/plain": "<IPython.core.display.HTML object>"
                    },
                    "metadata": {},
                    "output_type": "display_data"
                }
            ],
            "source": "display(Principal_data)"
        },
        {
            "cell_type": "markdown",
            "metadata": {},
            "source": "# Employment Data "
        },
        {
            "cell_type": "code",
            "execution_count": 21,
            "metadata": {},
            "outputs": [
                {
                    "data": {
                        "text/html": "<div>\n<style scoped>\n    .dataframe tbody tr th:only-of-type {\n        vertical-align: middle;\n    }\n\n    .dataframe tbody tr th {\n        vertical-align: top;\n    }\n\n    .dataframe thead th {\n        text-align: right;\n    }\n</style>\n<table border=\"1\" class=\"dataframe\">\n  <thead>\n    <tr style=\"text-align: right;\">\n      <th></th>\n      <th>fips</th>\n      <th>State</th>\n      <th>Area_name</th>\n      <th>Rural_urban_continuum_code_2013</th>\n      <th>Urban_influence_code_2013</th>\n      <th>Metro_2013</th>\n      <th>Civilian_labor_force_2016</th>\n      <th>Employed_2016</th>\n      <th>Unemployed_2016</th>\n      <th>Unemployment_rate_2016</th>\n      <th>Civilian_labor_force_2017</th>\n      <th>Employed_2017</th>\n      <th>Unemployed_2017</th>\n      <th>Unemployment_rate_2017</th>\n      <th>Median_Household_Income_2016</th>\n      <th>Med_HH_Income_Percent_of_State_Total_2016</th>\n    </tr>\n  </thead>\n  <tbody>\n    <tr>\n      <th>0</th>\n      <td>0</td>\n      <td>US</td>\n      <td>United States</td>\n      <td>NaN</td>\n      <td>NaN</td>\n      <td>NaN</td>\n      <td>158,921,892</td>\n      <td>151,183,680</td>\n      <td>7,738,212</td>\n      <td>4.9</td>\n      <td>160,588,515</td>\n      <td>153,594,100</td>\n      <td>6,994,415</td>\n      <td>4.4</td>\n      <td>$57,617</td>\n      <td>NaN</td>\n    </tr>\n    <tr>\n      <th>1</th>\n      <td>1000</td>\n      <td>AL</td>\n      <td>Alabama</td>\n      <td>NaN</td>\n      <td>NaN</td>\n      <td>NaN</td>\n      <td>2,173,175</td>\n      <td>2,045,624</td>\n      <td>127,551</td>\n      <td>5.9</td>\n      <td>2168444</td>\n      <td>2073106</td>\n      <td>95338</td>\n      <td>4.4</td>\n      <td>$46,309</td>\n      <td>100.0</td>\n    </tr>\n    <tr>\n      <th>2</th>\n      <td>1001</td>\n      <td>AL</td>\n      <td>Autauga County, AL</td>\n      <td>2.0</td>\n      <td>2.0</td>\n      <td>1.0</td>\n      <td>25,918</td>\n      <td>24,593</td>\n      <td>1,325</td>\n      <td>5.1</td>\n      <td>25909</td>\n      <td>24908</td>\n      <td>1001</td>\n      <td>3.9</td>\n      <td>$54,487</td>\n      <td>117.7</td>\n    </tr>\n    <tr>\n      <th>3</th>\n      <td>1003</td>\n      <td>AL</td>\n      <td>Baldwin County, AL</td>\n      <td>3.0</td>\n      <td>2.0</td>\n      <td>1.0</td>\n      <td>90,500</td>\n      <td>85,656</td>\n      <td>4,844</td>\n      <td>5.4</td>\n      <td>91567</td>\n      <td>87915</td>\n      <td>3652</td>\n      <td>4.0</td>\n      <td>$56,460</td>\n      <td>121.9</td>\n    </tr>\n    <tr>\n      <th>4</th>\n      <td>1005</td>\n      <td>AL</td>\n      <td>Barbour County, AL</td>\n      <td>6.0</td>\n      <td>6.0</td>\n      <td>0.0</td>\n      <td>8,402</td>\n      <td>7,700</td>\n      <td>702</td>\n      <td>8.4</td>\n      <td>8236</td>\n      <td>7750</td>\n      <td>486</td>\n      <td>5.9</td>\n      <td>$32,884</td>\n      <td>71.0</td>\n    </tr>\n  </tbody>\n</table>\n</div>",
                        "text/plain": "   fips State           Area_name  Rural_urban_continuum_code_2013  \\\n0     0    US       United States                              NaN   \n1  1000    AL             Alabama                              NaN   \n2  1001    AL  Autauga County, AL                              2.0   \n3  1003    AL  Baldwin County, AL                              3.0   \n4  1005    AL  Barbour County, AL                              6.0   \n\n   Urban_influence_code_2013  Metro_2013  Civilian_labor_force_2016   \\\n0                        NaN         NaN                 158,921,892   \n1                        NaN         NaN                   2,173,175   \n2                        2.0         1.0                      25,918   \n3                        2.0         1.0                      90,500   \n4                        6.0         0.0                       8,402   \n\n   Employed_2016   Unemployed_2016   Unemployment_rate_2016  \\\n0     151,183,680         7,738,212                     4.9   \n1       2,045,624           127,551                     5.9   \n2          24,593             1,325                     5.1   \n3          85,656             4,844                     5.4   \n4           7,700               702                     8.4   \n\n  Civilian_labor_force_2017 Employed_2017 Unemployed_2017  \\\n0               160,588,515   153,594,100       6,994,415   \n1                   2168444       2073106           95338   \n2                     25909         24908            1001   \n3                     91567         87915            3652   \n4                      8236          7750             486   \n\n   Unemployment_rate_2017 Median_Household_Income_2016  \\\n0                     4.4                     $57,617    \n1                     4.4                     $46,309    \n2                     3.9                     $54,487    \n3                     4.0                     $56,460    \n4                     5.9                     $32,884    \n\n   Med_HH_Income_Percent_of_State_Total_2016  \n0                                        NaN  \n1                                      100.0  \n2                                      117.7  \n3                                      121.9  \n4                                       71.0  "
                    },
                    "execution_count": 21,
                    "metadata": {},
                    "output_type": "execute_result"
                }
            ],
            "source": "# define filename\nDATA_PATH = 'Unemployment_clean.csv'\n\n# Using pandas to read the data \ndata_path = get_file_handle(DATA_PATH)\nUnemployment_data = pd.read_csv(data_path)\nUnemployment_data.rename(columns = {\"FIPStxt\":\"fips\"}, inplace = True)\nUnemployment_data.fips = Unemployment_data.fips.astype(\"int\")\n# Display the first five rows\nUnemployment_data.head()"
        },
        {
            "cell_type": "code",
            "execution_count": 22,
            "metadata": {},
            "outputs": [],
            "source": "Principal_data = pd.merge(Principal_data,Unemployment_data, on=\"fips\")"
        },
        {
            "cell_type": "code",
            "execution_count": 23,
            "metadata": {},
            "outputs": [
                {
                    "data": {
                        "text/plain": "Index(['County', 'fips', 'Deaths', 'Population', 'DeathRate', 'Crisis',\n       'State_x', 'area', 'PCT_POP_less_HSD', 'PCT_POP_with_HSD',\n       'PCT_POP_some_college', 'PCT_POP_with_BA', 'State_y', 'Area_name',\n       'Rural_urban_continuum_code_2013', 'Urban_influence_code_2013',\n       'Metro_2013', ' Civilian_labor_force_2016 ', ' Employed_2016 ',\n       ' Unemployed_2016 ', 'Unemployment_rate_2016',\n       'Civilian_labor_force_2017', 'Employed_2017', 'Unemployed_2017',\n       'Unemployment_rate_2017', 'Median_Household_Income_2016',\n       'Med_HH_Income_Percent_of_State_Total_2016'],\n      dtype='object')"
                    },
                    "execution_count": 23,
                    "metadata": {},
                    "output_type": "execute_result"
                }
            ],
            "source": "Principal_data.columns"
        },
        {
            "cell_type": "code",
            "execution_count": 24,
            "metadata": {},
            "outputs": [],
            "source": "Principal_data = Principal_data.drop(['State_y','Area_name', 'Civilian_labor_force_2017','Employed_2017','Unemployment_rate_2017','Unemployed_2017',' Civilian_labor_force_2016 ', ' Employed_2016 ',\n       ' Unemployed_2016 ',], axis= 1)\nPrincipal_data.rename(columns = {'State_x':'state','Unemployment_rate_2016':'unemployment_rate','Median_Household_Income_2016':'HH_income',\n                                'Med_HH_Income_Percent_of_State_Total_2016':'HH_income_PCT' },inplace = True )\n"
        },
        {
            "cell_type": "code",
            "execution_count": 25,
            "metadata": {},
            "outputs": [
                {
                    "data": {
                        "text/plain": "Index(['County', 'fips', 'Deaths', 'Population', 'DeathRate', 'Crisis',\n       'state', 'area', 'PCT_POP_less_HSD', 'PCT_POP_with_HSD',\n       'PCT_POP_some_college', 'PCT_POP_with_BA',\n       'Rural_urban_continuum_code_2013', 'Urban_influence_code_2013',\n       'Metro_2013', 'unemployment_rate', 'HH_income', 'HH_income_PCT'],\n      dtype='object')"
                    },
                    "execution_count": 25,
                    "metadata": {},
                    "output_type": "execute_result"
                }
            ],
            "source": "Principal_data.columns"
        },
        {
            "cell_type": "code",
            "execution_count": 26,
            "metadata": {},
            "outputs": [
                {
                    "data": {
                        "text/html": "<div>\n<style scoped>\n    .dataframe tbody tr th:only-of-type {\n        vertical-align: middle;\n    }\n\n    .dataframe tbody tr th {\n        vertical-align: top;\n    }\n\n    .dataframe thead th {\n        text-align: right;\n    }\n</style>\n<table border=\"1\" class=\"dataframe\">\n  <thead>\n    <tr style=\"text-align: right;\">\n      <th></th>\n      <th>state</th>\n      <th>area</th>\n      <th>fips</th>\n      <th>Deaths</th>\n      <th>Population</th>\n      <th>DeathRate</th>\n      <th>PCT_POP_less_HSD</th>\n      <th>PCT_POP_with_HSD</th>\n      <th>PCT_POP_some_college</th>\n      <th>PCT_POP_with_BA</th>\n      <th>Rural_urban_continuum_code_2013</th>\n      <th>Urban_influence_code_2013</th>\n      <th>Metro_2013</th>\n      <th>unemployment_rate</th>\n      <th>HH_income</th>\n      <th>HH_income_PCT</th>\n      <th>Crisis</th>\n    </tr>\n  </thead>\n  <tbody>\n    <tr>\n      <th>0</th>\n      <td>WV</td>\n      <td>Wyoming County</td>\n      <td>54109</td>\n      <td>103</td>\n      <td>112804</td>\n      <td>91.3</td>\n      <td>22.6</td>\n      <td>47.6</td>\n      <td>21.5</td>\n      <td>8.2</td>\n      <td>6.0</td>\n      <td>7.0</td>\n      <td>0.0</td>\n      <td>10.2</td>\n      <td>$36,018</td>\n      <td>83.4</td>\n      <td>1</td>\n    </tr>\n    <tr>\n      <th>1</th>\n      <td>WV</td>\n      <td>Boone County</td>\n      <td>54005</td>\n      <td>94</td>\n      <td>118604</td>\n      <td>79.3</td>\n      <td>20.8</td>\n      <td>50.5</td>\n      <td>20.0</td>\n      <td>8.7</td>\n      <td>3.0</td>\n      <td>2.0</td>\n      <td>1.0</td>\n      <td>9.1</td>\n      <td>$36,313</td>\n      <td>84.1</td>\n      <td>1</td>\n    </tr>\n    <tr>\n      <th>2</th>\n      <td>WV</td>\n      <td>McDowell County</td>\n      <td>54047</td>\n      <td>79</td>\n      <td>101626</td>\n      <td>77.7</td>\n      <td>35.1</td>\n      <td>44.9</td>\n      <td>14.8</td>\n      <td>5.2</td>\n      <td>7.0</td>\n      <td>10.0</td>\n      <td>0.0</td>\n      <td>12.2</td>\n      <td>$24,460</td>\n      <td>56.7</td>\n      <td>1</td>\n    </tr>\n    <tr>\n      <th>3</th>\n      <td>WV</td>\n      <td>Mingo County</td>\n      <td>54059</td>\n      <td>95</td>\n      <td>127658</td>\n      <td>74.4</td>\n      <td>26.1</td>\n      <td>41.2</td>\n      <td>22.8</td>\n      <td>9.9</td>\n      <td>7.0</td>\n      <td>9.0</td>\n      <td>0.0</td>\n      <td>12.6</td>\n      <td>$30,638</td>\n      <td>71.0</td>\n      <td>1</td>\n    </tr>\n    <tr>\n      <th>4</th>\n      <td>NM</td>\n      <td>Rio Arriba County</td>\n      <td>35039</td>\n      <td>148</td>\n      <td>199672</td>\n      <td>74.1</td>\n      <td>15.8</td>\n      <td>33.0</td>\n      <td>33.1</td>\n      <td>18.1</td>\n      <td>4.0</td>\n      <td>5.0</td>\n      <td>0.0</td>\n      <td>7.5</td>\n      <td>$37,174</td>\n      <td>79.4</td>\n      <td>1</td>\n    </tr>\n  </tbody>\n</table>\n</div>",
                        "text/plain": "  state               area   fips  Deaths  Population  DeathRate  \\\n0    WV     Wyoming County  54109     103      112804       91.3   \n1    WV       Boone County  54005      94      118604       79.3   \n2    WV    McDowell County  54047      79      101626       77.7   \n3    WV       Mingo County  54059      95      127658       74.4   \n4    NM  Rio Arriba County  35039     148      199672       74.1   \n\n   PCT_POP_less_HSD  PCT_POP_with_HSD  PCT_POP_some_college  PCT_POP_with_BA  \\\n0              22.6              47.6                  21.5              8.2   \n1              20.8              50.5                  20.0              8.7   \n2              35.1              44.9                  14.8              5.2   \n3              26.1              41.2                  22.8              9.9   \n4              15.8              33.0                  33.1             18.1   \n\n   Rural_urban_continuum_code_2013  Urban_influence_code_2013  Metro_2013  \\\n0                              6.0                        7.0         0.0   \n1                              3.0                        2.0         1.0   \n2                              7.0                       10.0         0.0   \n3                              7.0                        9.0         0.0   \n4                              4.0                        5.0         0.0   \n\n   unemployment_rate HH_income  HH_income_PCT  Crisis  \n0               10.2  $36,018            83.4       1  \n1                9.1  $36,313            84.1       1  \n2               12.2  $24,460            56.7       1  \n3               12.6  $30,638            71.0       1  \n4                7.5  $37,174            79.4       1  "
                    },
                    "execution_count": 26,
                    "metadata": {},
                    "output_type": "execute_result"
                }
            ],
            "source": "column_order = ['state','area','County','fips','Deaths','Population', 'DeathRate', 'PCT_POP_less_HSD', 'PCT_POP_with_HSD',\n       'PCT_POP_some_college', 'PCT_POP_with_BA',\n       'Rural_urban_continuum_code_2013', 'Urban_influence_code_2013',\n       'Metro_2013','unemployment_rate', 'HH_income', 'HH_income_PCT','Crisis']\nPrincipal_data = Principal_data[column_order]\nPrincipal_data.drop('County',axis = 1 , inplace = True)\nPrincipal_data.head()"
        },
        {
            "cell_type": "markdown",
            "metadata": {},
            "source": "# Pverty Estimates Data"
        },
        {
            "cell_type": "code",
            "execution_count": 27,
            "metadata": {},
            "outputs": [
                {
                    "data": {
                        "text/html": "<div>\n<style scoped>\n    .dataframe tbody tr th:only-of-type {\n        vertical-align: middle;\n    }\n\n    .dataframe tbody tr th {\n        vertical-align: top;\n    }\n\n    .dataframe thead th {\n        text-align: right;\n    }\n</style>\n<table border=\"1\" class=\"dataframe\">\n  <thead>\n    <tr style=\"text-align: right;\">\n      <th></th>\n      <th>fips</th>\n      <th>State</th>\n      <th>Area_Name</th>\n      <th>PCTPOVALL_2016</th>\n      <th>PCTPOV017_2016</th>\n      <th>PCTPOV517_2016</th>\n    </tr>\n  </thead>\n  <tbody>\n    <tr>\n      <th>0</th>\n      <td>0</td>\n      <td>US</td>\n      <td>United States</td>\n      <td>14.0</td>\n      <td>20.0</td>\n      <td>18.0</td>\n    </tr>\n    <tr>\n      <th>1</th>\n      <td>1000</td>\n      <td>AL</td>\n      <td>Alabama</td>\n      <td>17.0</td>\n      <td>25.0</td>\n      <td>24.0</td>\n    </tr>\n    <tr>\n      <th>2</th>\n      <td>1001</td>\n      <td>AL</td>\n      <td>Autauga County</td>\n      <td>14.0</td>\n      <td>19.0</td>\n      <td>18.0</td>\n    </tr>\n    <tr>\n      <th>3</th>\n      <td>1003</td>\n      <td>AL</td>\n      <td>Baldwin County</td>\n      <td>12.0</td>\n      <td>18.0</td>\n      <td>17.0</td>\n    </tr>\n    <tr>\n      <th>4</th>\n      <td>1005</td>\n      <td>AL</td>\n      <td>Barbour County</td>\n      <td>30.0</td>\n      <td>40.0</td>\n      <td>37.0</td>\n    </tr>\n  </tbody>\n</table>\n</div>",
                        "text/plain": "   fips State       Area_Name  PCTPOVALL_2016  PCTPOV017_2016  PCTPOV517_2016\n0     0    US   United States            14.0            20.0            18.0\n1  1000    AL         Alabama            17.0            25.0            24.0\n2  1001    AL  Autauga County            14.0            19.0            18.0\n3  1003    AL  Baldwin County            12.0            18.0            17.0\n4  1005    AL  Barbour County            30.0            40.0            37.0"
                    },
                    "execution_count": 27,
                    "metadata": {},
                    "output_type": "execute_result"
                }
            ],
            "source": "# define filename\nDATA_PATH = 'PovertyEstimates_clean.csv'\n\n# Using pandas to read the data \ndata_path = get_file_handle(DATA_PATH)\nPoverty_data = pd.read_csv(data_path)\nPoverty_data.rename(columns = {\"FIPStxt\":\"fips\"}, inplace = True)\nPoverty_data.fips = Poverty_data.fips.astype(\"int\")\nPoverty_data.drop(['POVALL_2016','POV017_2016','POV517_2016'], axis = 1, inplace = True)\n\n# Display the first five rows\nPoverty_data.head()\n\n"
        },
        {
            "cell_type": "code",
            "execution_count": 28,
            "metadata": {},
            "outputs": [],
            "source": "Principal_data = pd.merge(Principal_data,Poverty_data, on=\"fips\")"
        },
        {
            "cell_type": "code",
            "execution_count": 29,
            "metadata": {},
            "outputs": [
                {
                    "data": {
                        "text/plain": "Index(['state', 'area', 'fips', 'Deaths', 'Population', 'DeathRate',\n       'PCT_POP_less_HSD', 'PCT_POP_with_HSD', 'PCT_POP_some_college',\n       'PCT_POP_with_BA', 'Rural_urban_continuum_code_2013',\n       'Urban_influence_code_2013', 'Metro_2013', 'unemployment_rate',\n       'HH_income', 'HH_income_PCT', 'Crisis', 'State', 'Area_Name',\n       'PCTPOVALL_2016', 'PCTPOV017_2016', 'PCTPOV517_2016'],\n      dtype='object')"
                    },
                    "execution_count": 29,
                    "metadata": {},
                    "output_type": "execute_result"
                }
            ],
            "source": "Principal_data.columns"
        },
        {
            "cell_type": "code",
            "execution_count": 30,
            "metadata": {},
            "outputs": [],
            "source": "Principal_data.drop(['State', 'Area_Name'],axis =1, inplace = True)"
        },
        {
            "cell_type": "code",
            "execution_count": 31,
            "metadata": {},
            "outputs": [],
            "source": "column_order = ['state', 'area', 'fips', 'Deaths', 'Population', 'DeathRate',\n       'PCT_POP_less_HSD', 'PCT_POP_with_HSD', 'PCT_POP_some_college',\n       'PCT_POP_with_BA', 'Rural_urban_continuum_code_2013',\n       'Urban_influence_code_2013', 'Metro_2013', 'unemployment_rate', 'HH_income',\n       'HH_income_PCT', 'PCTPOVALL_2016', 'PCTPOV017_2016',\n       'PCTPOV517_2016','Crisis']\nPrincipal_data = Principal_data[column_order ]\n"
        },
        {
            "cell_type": "code",
            "execution_count": 32,
            "metadata": {},
            "outputs": [],
            "source": "Principal_data.HH_income = Principal_data.HH_income.str.replace(\"$\",'')\nPrincipal_data.HH_income = Principal_data.HH_income.str.replace(\",\",'')"
        },
        {
            "cell_type": "code",
            "execution_count": 33,
            "metadata": {},
            "outputs": [],
            "source": "Principal_data[\"HH_income\"] = Principal_data.HH_income .astype(\"float64\")"
        },
        {
            "cell_type": "code",
            "execution_count": 34,
            "metadata": {},
            "outputs": [
                {
                    "data": {
                        "text/html": "<div>\n<style scoped>\n    .dataframe tbody tr th:only-of-type {\n        vertical-align: middle;\n    }\n\n    .dataframe tbody tr th {\n        vertical-align: top;\n    }\n\n    .dataframe thead th {\n        text-align: right;\n    }\n</style>\n<table border=\"1\" class=\"dataframe\">\n  <thead>\n    <tr style=\"text-align: right;\">\n      <th></th>\n      <th>state</th>\n      <th>area</th>\n      <th>fips</th>\n      <th>Deaths</th>\n      <th>Population</th>\n      <th>DeathRate</th>\n      <th>PCT_POP_less_HSD</th>\n      <th>PCT_POP_with_HSD</th>\n      <th>PCT_POP_some_college</th>\n      <th>PCT_POP_with_BA</th>\n      <th>Rural_urban_continuum_code_2013</th>\n      <th>Urban_influence_code_2013</th>\n      <th>Metro_2013</th>\n      <th>unemployment_rate</th>\n      <th>HH_income</th>\n      <th>HH_income_PCT</th>\n      <th>PCTPOVALL_2016</th>\n      <th>PCTPOV017_2016</th>\n      <th>PCTPOV517_2016</th>\n      <th>Crisis</th>\n    </tr>\n  </thead>\n  <tbody>\n    <tr>\n      <th>0</th>\n      <td>WV</td>\n      <td>Wyoming County</td>\n      <td>54109</td>\n      <td>103</td>\n      <td>112804</td>\n      <td>91.3</td>\n      <td>22.6</td>\n      <td>47.6</td>\n      <td>21.5</td>\n      <td>8.2</td>\n      <td>6.0</td>\n      <td>7.0</td>\n      <td>0.0</td>\n      <td>10.2</td>\n      <td>36018.0</td>\n      <td>83.4</td>\n      <td>24.0</td>\n      <td>31.0</td>\n      <td>28.0</td>\n      <td>1</td>\n    </tr>\n    <tr>\n      <th>1</th>\n      <td>WV</td>\n      <td>Boone County</td>\n      <td>54005</td>\n      <td>94</td>\n      <td>118604</td>\n      <td>79.3</td>\n      <td>20.8</td>\n      <td>50.5</td>\n      <td>20.0</td>\n      <td>8.7</td>\n      <td>3.0</td>\n      <td>2.0</td>\n      <td>1.0</td>\n      <td>9.1</td>\n      <td>36313.0</td>\n      <td>84.1</td>\n      <td>24.0</td>\n      <td>30.0</td>\n      <td>28.0</td>\n      <td>1</td>\n    </tr>\n    <tr>\n      <th>2</th>\n      <td>WV</td>\n      <td>McDowell County</td>\n      <td>54047</td>\n      <td>79</td>\n      <td>101626</td>\n      <td>77.7</td>\n      <td>35.1</td>\n      <td>44.9</td>\n      <td>14.8</td>\n      <td>5.2</td>\n      <td>7.0</td>\n      <td>10.0</td>\n      <td>0.0</td>\n      <td>12.2</td>\n      <td>24460.0</td>\n      <td>56.7</td>\n      <td>36.0</td>\n      <td>44.0</td>\n      <td>42.0</td>\n      <td>1</td>\n    </tr>\n    <tr>\n      <th>3</th>\n      <td>WV</td>\n      <td>Mingo County</td>\n      <td>54059</td>\n      <td>95</td>\n      <td>127658</td>\n      <td>74.4</td>\n      <td>26.1</td>\n      <td>41.2</td>\n      <td>22.8</td>\n      <td>9.9</td>\n      <td>7.0</td>\n      <td>9.0</td>\n      <td>0.0</td>\n      <td>12.6</td>\n      <td>30638.0</td>\n      <td>71.0</td>\n      <td>28.0</td>\n      <td>37.0</td>\n      <td>36.0</td>\n      <td>1</td>\n    </tr>\n    <tr>\n      <th>4</th>\n      <td>NM</td>\n      <td>Rio Arriba County</td>\n      <td>35039</td>\n      <td>148</td>\n      <td>199672</td>\n      <td>74.1</td>\n      <td>15.8</td>\n      <td>33.0</td>\n      <td>33.1</td>\n      <td>18.1</td>\n      <td>4.0</td>\n      <td>5.0</td>\n      <td>0.0</td>\n      <td>7.5</td>\n      <td>37174.0</td>\n      <td>79.4</td>\n      <td>23.0</td>\n      <td>28.0</td>\n      <td>29.0</td>\n      <td>1</td>\n    </tr>\n  </tbody>\n</table>\n</div>",
                        "text/plain": "  state               area   fips  Deaths  Population  DeathRate  \\\n0    WV     Wyoming County  54109     103      112804       91.3   \n1    WV       Boone County  54005      94      118604       79.3   \n2    WV    McDowell County  54047      79      101626       77.7   \n3    WV       Mingo County  54059      95      127658       74.4   \n4    NM  Rio Arriba County  35039     148      199672       74.1   \n\n   PCT_POP_less_HSD  PCT_POP_with_HSD  PCT_POP_some_college  PCT_POP_with_BA  \\\n0              22.6              47.6                  21.5              8.2   \n1              20.8              50.5                  20.0              8.7   \n2              35.1              44.9                  14.8              5.2   \n3              26.1              41.2                  22.8              9.9   \n4              15.8              33.0                  33.1             18.1   \n\n   Rural_urban_continuum_code_2013  Urban_influence_code_2013  Metro_2013  \\\n0                              6.0                        7.0         0.0   \n1                              3.0                        2.0         1.0   \n2                              7.0                       10.0         0.0   \n3                              7.0                        9.0         0.0   \n4                              4.0                        5.0         0.0   \n\n   unemployment_rate  HH_income  HH_income_PCT  PCTPOVALL_2016  \\\n0               10.2    36018.0           83.4            24.0   \n1                9.1    36313.0           84.1            24.0   \n2               12.2    24460.0           56.7            36.0   \n3               12.6    30638.0           71.0            28.0   \n4                7.5    37174.0           79.4            23.0   \n\n   PCTPOV017_2016  PCTPOV517_2016  Crisis  \n0            31.0            28.0       1  \n1            30.0            28.0       1  \n2            44.0            42.0       1  \n3            37.0            36.0       1  \n4            28.0            29.0       1  "
                    },
                    "execution_count": 34,
                    "metadata": {},
                    "output_type": "execute_result"
                }
            ],
            "source": "Principal_data.head()"
        },
        {
            "cell_type": "code",
            "execution_count": 35,
            "metadata": {},
            "outputs": [
                {
                    "data": {
                        "text/plain": "state                               object\narea                                object\nfips                                 int64\nDeaths                               int64\nPopulation                           int64\nDeathRate                          float64\nPCT_POP_less_HSD                   float64\nPCT_POP_with_HSD                   float64\nPCT_POP_some_college               float64\nPCT_POP_with_BA                    float64\nRural_urban_continuum_code_2013    float64\nUrban_influence_code_2013          float64\nMetro_2013                         float64\nunemployment_rate                  float64\nHH_income                          float64\nHH_income_PCT                      float64\nPCTPOVALL_2016                     float64\nPCTPOV017_2016                     float64\nPCTPOV517_2016                     float64\nCrisis                               int64\ndtype: object"
                    },
                    "execution_count": 35,
                    "metadata": {},
                    "output_type": "execute_result"
                }
            ],
            "source": "Principal_data.dtypes\n"
        },
        {
            "cell_type": "code",
            "execution_count": 36,
            "metadata": {},
            "outputs": [],
            "source": "#Principal_data = Principal_data.loc[:,~Principal_data.columns.duplicated()]"
        },
        {
            "cell_type": "markdown",
            "metadata": {},
            "source": "# Principal Data Dictonary"
        },
        {
            "cell_type": "markdown",
            "metadata": {},
            "source": "'state': = State Abbreviation\n\n'area': = County Name; Note: These are only counties that have at least 1 instance of opioid use from 2012 - 2016\n\n'fips': Federal Information Processing Standards code which uniquely identifies counties in the United States\n\n'deaths': The number of deaths officially attributed at least in part to ICD-10 codes relating to opiate abuse\n\n'population': Population of the county\n\n'death_rate': Crude Rate = Death Count / County Population * 100,000\n\n'PCT_POP_less_HSD ': Percentage of the population of the county with less education than a high school diploma\n\n'PCT_POP_with_HSD  ': Percentage of the population of the county with only a high school diploma\n\n'PCT_POP_some_college ': Percentage of the population of the county that has attended but not completed college\n\n'PCT_POP_with_BA': Percentage of the population of the county with a college degree\n\n'Rural_urban_continuum_code_2013': A classification scheme that distinguishes metropolitan counties by the population size of their metro area, and nonmetropolitan counties by degree of urbanization and adjacency to a metro area; Scaled 1-9\n\n'Urban_influence_code_2013': A classification scheme that distinguishes metropolitan counties by population size of their metro area, and nonmetropolitan counties by size of the largest city or town and proximity to metro and micropolitan areas; Scaled 1-12\n\n'Metro_2013': A dummy variable that classifies the county as metropolitan (1) or rural (0)\n\n'unemployment_rate': Rate of unemployment in 2016\n\n'HH_income': Median county household income in 2016\n\n'HH_income_pct': County Household Median Income as a percent of the State Total Median Household Income\n\n'PCTPOVALL_2016': Estimate of people of all ages in poverty in 2016\n\n'PCTPOV017_2016': Estimate of people age 0-17 in poverty 2016\n\n'PCTPOV517_2016': Estimate of people age 5-17 in poverty 2016\n\n'crisis': Boolean response variable indicating whether the level of opioid use is categorized as a crisis (1) or not (0). Note: this classification is based on our 90% thresholding."
        },
        {
            "cell_type": "markdown",
            "metadata": {},
            "source": "# Scaling and Normalazing Principla Data"
        },
        {
            "cell_type": "code",
            "execution_count": 38,
            "metadata": {},
            "outputs": [],
            "source": "RUCC = pd.get_dummies(Principal_data['Rural_urban_continuum_code_2013'], prefix = 'RUCC')\nUIC = pd.get_dummies(Principal_data['Urban_influence_code_2013'], prefix = 'UIC')\n\nNorm_Principal_data = pd.concat([Principal_data,RUCC,UIC], axis = 1)"
        },
        {
            "cell_type": "code",
            "execution_count": 39,
            "metadata": {},
            "outputs": [
                {
                    "data": {
                        "text/plain": "Index(['state', 'area', 'fips', 'Deaths', 'Population', 'DeathRate',\n       'PCT_POP_less_HSD', 'PCT_POP_with_HSD', 'PCT_POP_some_college',\n       'PCT_POP_with_BA', 'Metro_2013', 'unemployment_rate', 'HH_income',\n       'HH_income_PCT', 'PCTPOVALL_2016', 'PCTPOV017_2016', 'PCTPOV517_2016',\n       'Crisis', 'RUCC_1.0', 'RUCC_2.0', 'RUCC_3.0', 'RUCC_4.0', 'RUCC_5.0',\n       'RUCC_6.0', 'RUCC_7.0', 'RUCC_8.0', 'RUCC_9.0', 'UIC_1.0', 'UIC_2.0',\n       'UIC_3.0', 'UIC_4.0', 'UIC_5.0', 'UIC_6.0', 'UIC_7.0', 'UIC_8.0',\n       'UIC_9.0', 'UIC_10.0', 'UIC_11.0', 'UIC_12.0'],\n      dtype='object')"
                    },
                    "execution_count": 39,
                    "metadata": {},
                    "output_type": "execute_result"
                }
            ],
            "source": "Norm_Principal_data = Norm_Principal_data.drop (['Rural_urban_continuum_code_2013','Urban_influence_code_2013'], axis = 1)\nNorm_Principal_data.columns"
        },
        {
            "cell_type": "code",
            "execution_count": 40,
            "metadata": {},
            "outputs": [],
            "source": "from sklearn import preprocessing as pp"
        },
        {
            "cell_type": "code",
            "execution_count": 41,
            "metadata": {},
            "outputs": [
                {
                    "data": {
                        "text/html": "<div>\n<style scoped>\n    .dataframe tbody tr th:only-of-type {\n        vertical-align: middle;\n    }\n\n    .dataframe tbody tr th {\n        vertical-align: top;\n    }\n\n    .dataframe thead th {\n        text-align: right;\n    }\n</style>\n<table border=\"1\" class=\"dataframe\">\n  <thead>\n    <tr style=\"text-align: right;\">\n      <th></th>\n      <th>state</th>\n      <th>area</th>\n      <th>fips</th>\n      <th>Deaths</th>\n      <th>Population</th>\n      <th>DeathRate</th>\n      <th>PCT_POP_less_HSD</th>\n      <th>PCT_POP_with_HSD</th>\n      <th>PCT_POP_some_college</th>\n      <th>PCT_POP_with_BA</th>\n      <th>...</th>\n      <th>UIC_3.0</th>\n      <th>UIC_4.0</th>\n      <th>UIC_5.0</th>\n      <th>UIC_6.0</th>\n      <th>UIC_7.0</th>\n      <th>UIC_8.0</th>\n      <th>UIC_9.0</th>\n      <th>UIC_10.0</th>\n      <th>UIC_11.0</th>\n      <th>UIC_12.0</th>\n    </tr>\n  </thead>\n  <tbody>\n    <tr>\n      <th>0</th>\n      <td>WV</td>\n      <td>Wyoming County</td>\n      <td>54109</td>\n      <td>103</td>\n      <td>112804</td>\n      <td>91.3</td>\n      <td>1.631471</td>\n      <td>1.931206</td>\n      <td>-1.784319</td>\n      <td>-1.493169</td>\n      <td>...</td>\n      <td>0</td>\n      <td>0</td>\n      <td>0</td>\n      <td>0</td>\n      <td>1</td>\n      <td>0</td>\n      <td>0</td>\n      <td>0</td>\n      <td>0</td>\n      <td>0</td>\n    </tr>\n    <tr>\n      <th>1</th>\n      <td>WV</td>\n      <td>Boone County</td>\n      <td>54005</td>\n      <td>94</td>\n      <td>118604</td>\n      <td>79.3</td>\n      <td>1.311588</td>\n      <td>2.315505</td>\n      <td>-2.093279</td>\n      <td>-1.444026</td>\n      <td>...</td>\n      <td>0</td>\n      <td>0</td>\n      <td>0</td>\n      <td>0</td>\n      <td>0</td>\n      <td>0</td>\n      <td>0</td>\n      <td>0</td>\n      <td>0</td>\n      <td>0</td>\n    </tr>\n    <tr>\n      <th>2</th>\n      <td>WV</td>\n      <td>McDowell County</td>\n      <td>54047</td>\n      <td>79</td>\n      <td>101626</td>\n      <td>77.7</td>\n      <td>3.852880</td>\n      <td>1.573410</td>\n      <td>-3.164339</td>\n      <td>-1.788028</td>\n      <td>...</td>\n      <td>0</td>\n      <td>0</td>\n      <td>0</td>\n      <td>0</td>\n      <td>0</td>\n      <td>0</td>\n      <td>0</td>\n      <td>1</td>\n      <td>0</td>\n      <td>0</td>\n    </tr>\n    <tr>\n      <th>3</th>\n      <td>WV</td>\n      <td>Mingo County</td>\n      <td>54059</td>\n      <td>95</td>\n      <td>127658</td>\n      <td>74.4</td>\n      <td>2.253466</td>\n      <td>1.083097</td>\n      <td>-1.516554</td>\n      <td>-1.326082</td>\n      <td>...</td>\n      <td>0</td>\n      <td>0</td>\n      <td>0</td>\n      <td>0</td>\n      <td>0</td>\n      <td>0</td>\n      <td>1</td>\n      <td>0</td>\n      <td>0</td>\n      <td>0</td>\n    </tr>\n    <tr>\n      <th>4</th>\n      <td>NM</td>\n      <td>Rio Arriba County</td>\n      <td>35039</td>\n      <td>148</td>\n      <td>199672</td>\n      <td>74.1</td>\n      <td>0.423024</td>\n      <td>-0.003543</td>\n      <td>0.604970</td>\n      <td>-0.520133</td>\n      <td>...</td>\n      <td>0</td>\n      <td>0</td>\n      <td>1</td>\n      <td>0</td>\n      <td>0</td>\n      <td>0</td>\n      <td>0</td>\n      <td>0</td>\n      <td>0</td>\n      <td>0</td>\n    </tr>\n  </tbody>\n</table>\n<p>5 rows \u00d7 39 columns</p>\n</div>",
                        "text/plain": "  state               area   fips  Deaths  Population  DeathRate  \\\n0    WV     Wyoming County  54109     103      112804       91.3   \n1    WV       Boone County  54005      94      118604       79.3   \n2    WV    McDowell County  54047      79      101626       77.7   \n3    WV       Mingo County  54059      95      127658       74.4   \n4    NM  Rio Arriba County  35039     148      199672       74.1   \n\n   PCT_POP_less_HSD  PCT_POP_with_HSD  PCT_POP_some_college  PCT_POP_with_BA  \\\n0          1.631471          1.931206             -1.784319        -1.493169   \n1          1.311588          2.315505             -2.093279        -1.444026   \n2          3.852880          1.573410             -3.164339        -1.788028   \n3          2.253466          1.083097             -1.516554        -1.326082   \n4          0.423024         -0.003543              0.604970        -0.520133   \n\n   ...  UIC_3.0  UIC_4.0  UIC_5.0  UIC_6.0  UIC_7.0  UIC_8.0  UIC_9.0  \\\n0  ...        0        0        0        0        1        0        0   \n1  ...        0        0        0        0        0        0        0   \n2  ...        0        0        0        0        0        0        0   \n3  ...        0        0        0        0        0        0        1   \n4  ...        0        0        1        0        0        0        0   \n\n   UIC_10.0  UIC_11.0  UIC_12.0  \n0         0         0         0  \n1         0         0         0  \n2         1         0         0  \n3         0         0         0  \n4         0         0         0  \n\n[5 rows x 39 columns]"
                    },
                    "execution_count": 41,
                    "metadata": {},
                    "output_type": "execute_result"
                }
            ],
            "source": "scale_cols = ['PCT_POP_less_HSD', 'PCT_POP_with_HSD', 'PCT_POP_some_college',\n       'PCT_POP_with_BA', 'Metro_2013', 'unemployment_rate', 'HH_income',\n       'HH_income_PCT', 'PCTPOVALL_2016', 'PCTPOV017_2016', 'PCTPOV517_2016']\n\nscaler = pp.StandardScaler()\n\nNorm_Principal_data[scale_cols] = scaler.fit_transform(Norm_Principal_data[scale_cols])\nNorm_Principal_data.head()"
        },
        {
            "cell_type": "code",
            "execution_count": 42,
            "metadata": {},
            "outputs": [
                {
                    "name": "stderr",
                    "output_type": "stream",
                    "text": "2020-03-23 15:46:08,118 - __PROJECT_LIB__ - ERROR - Project__save_data(): failed to save data! File 'Norm_Principal_data.csv' already exists in storage! Set the optional parameter 'overwrite' to True if you want to overwrite.\n"
                },
                {
                    "ename": "RuntimeError",
                    "evalue": "Project__save_data(): failed to save data! File 'Norm_Principal_data.csv' already exists in storage! Set the optional parameter 'overwrite' to True if you want to overwrite.",
                    "output_type": "error",
                    "traceback": [
                        "\u001b[0;31m---------------------------------------------------------------------------\u001b[0m",
                        "\u001b[0;31mRuntimeError\u001b[0m                              Traceback (most recent call last)",
                        "\u001b[0;32m<ipython-input-42-4b79059c374d>\u001b[0m in \u001b[0;36m<module>\u001b[0;34m\u001b[0m\n\u001b[0;32m----> 1\u001b[0;31m \u001b[0mproject\u001b[0m\u001b[0;34m.\u001b[0m\u001b[0msave_data\u001b[0m\u001b[0;34m(\u001b[0m\u001b[0;34m\"Norm_Principal_data.csv\"\u001b[0m\u001b[0;34m,\u001b[0m \u001b[0mNorm_Principal_data\u001b[0m\u001b[0;34m.\u001b[0m\u001b[0mto_csv\u001b[0m\u001b[0;34m(\u001b[0m\u001b[0mindex\u001b[0m\u001b[0;34m=\u001b[0m\u001b[0;32mFalse\u001b[0m\u001b[0;34m)\u001b[0m\u001b[0;34m)\u001b[0m\u001b[0;34m\u001b[0m\u001b[0;34m\u001b[0m\u001b[0m\n\u001b[0m\u001b[1;32m      2\u001b[0m \u001b[0;34m\u001b[0m\u001b[0m\n\u001b[1;32m      3\u001b[0m \u001b[0;31m# the function returns a dict which contains the asset_id, bucket_name and file_name\u001b[0m\u001b[0;34m\u001b[0m\u001b[0;34m\u001b[0m\u001b[0;34m\u001b[0m\u001b[0m\n\u001b[1;32m      4\u001b[0m \u001b[0;31m# upon successful saving of the data\u001b[0m\u001b[0;34m\u001b[0m\u001b[0;34m\u001b[0m\u001b[0;34m\u001b[0m\u001b[0m\n",
                        "\u001b[0;32m/opt/conda/envs/Python36/lib/python3.6/site-packages/project_lib/project.py\u001b[0m in \u001b[0;36msave_data\u001b[0;34m(self, file_name, data, set_project_asset, overwrite, direct_storage)\u001b[0m\n\u001b[1;32m    268\u001b[0m             \u001b[0;32mif\u001b[0m \u001b[0mexists_in_os\u001b[0m\u001b[0;34m:\u001b[0m\u001b[0;34m\u001b[0m\u001b[0;34m\u001b[0m\u001b[0m\n\u001b[1;32m    269\u001b[0m                 logger.log_and_throw(\"Project__save_data(): failed to save data! File '{}' already exists in storage!\".format(file_name) +\n\u001b[0;32m--> 270\u001b[0;31m                                      \" Set the optional parameter 'overwrite' to True if you want to overwrite.\")\n\u001b[0m\u001b[1;32m    271\u001b[0m \u001b[0;34m\u001b[0m\u001b[0m\n\u001b[1;32m    272\u001b[0m             \u001b[0;31m# if exists_in_os is None, save_data_to_storage will do the check\u001b[0m\u001b[0;34m\u001b[0m\u001b[0;34m\u001b[0m\u001b[0;34m\u001b[0m\u001b[0m\n",
                        "\u001b[0;32m/opt/conda/envs/Python36/lib/python3.6/site-packages/project_lib/utils/logger.py\u001b[0m in \u001b[0;36mlog_and_throw\u001b[0;34m(self, err_msg)\u001b[0m\n\u001b[1;32m     50\u001b[0m         \u001b[0;31m# see  https://github.ibm.com/ax/planning/issues/4946\u001b[0m\u001b[0;34m\u001b[0m\u001b[0;34m\u001b[0m\u001b[0;34m\u001b[0m\u001b[0m\n\u001b[1;32m     51\u001b[0m         \u001b[0mself\u001b[0m\u001b[0;34m.\u001b[0m\u001b[0mlogger\u001b[0m\u001b[0;34m.\u001b[0m\u001b[0merror\u001b[0m\u001b[0;34m(\u001b[0m\u001b[0merr_msg\u001b[0m\u001b[0;34m)\u001b[0m\u001b[0;34m\u001b[0m\u001b[0;34m\u001b[0m\u001b[0m\n\u001b[0;32m---> 52\u001b[0;31m         \u001b[0;32mraise\u001b[0m \u001b[0mRuntimeError\u001b[0m\u001b[0;34m(\u001b[0m\u001b[0merr_msg\u001b[0m\u001b[0;34m)\u001b[0m\u001b[0;34m\u001b[0m\u001b[0;34m\u001b[0m\u001b[0m\n\u001b[0m\u001b[1;32m     53\u001b[0m \u001b[0;34m\u001b[0m\u001b[0m\n\u001b[1;32m     54\u001b[0m     \u001b[0;32mdef\u001b[0m \u001b[0mlog_and_throw_response\u001b[0m\u001b[0;34m(\u001b[0m\u001b[0mself\u001b[0m\u001b[0;34m,\u001b[0m \u001b[0mmethod_name\u001b[0m\u001b[0;34m,\u001b[0m \u001b[0mres_status_code\u001b[0m\u001b[0;34m,\u001b[0m \u001b[0mres_text\u001b[0m\u001b[0;34m)\u001b[0m\u001b[0;34m:\u001b[0m\u001b[0;34m\u001b[0m\u001b[0;34m\u001b[0m\u001b[0m\n",
                        "\u001b[0;31mRuntimeError\u001b[0m: Project__save_data(): failed to save data! File 'Norm_Principal_data.csv' already exists in storage! Set the optional parameter 'overwrite' to True if you want to overwrite."
                    ]
                }
            ],
            "source": "project.save_data(\"Norm_Principal_data.csv\", Norm_Principal_data.to_csv(index=False))\n\n# the function returns a dict which contains the asset_id, bucket_name and file_name\n# upon successful saving of the data"
        },
        {
            "cell_type": "code",
            "execution_count": null,
            "metadata": {},
            "outputs": [],
            "source": ""
        }
    ],
    "metadata": {
        "kernelspec": {
            "display_name": "Python 3.6",
            "language": "python",
            "name": "python3"
        },
        "language_info": {
            "codemirror_mode": {
                "name": "ipython",
                "version": 3
            },
            "file_extension": ".py",
            "mimetype": "text/x-python",
            "name": "python",
            "nbconvert_exporter": "python",
            "pygments_lexer": "ipython3",
            "version": "3.6.9"
        }
    },
    "nbformat": 4,
    "nbformat_minor": 1
}
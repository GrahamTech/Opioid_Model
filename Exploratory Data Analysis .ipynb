{
    "cells": [
        {
            "cell_type": "code",
            "execution_count": null,
            "metadata": {},
            "outputs": [],
            "source": "# The code was removed by Watson Studio for sharing."
        },
        {
            "cell_type": "code",
            "execution_count": null,
            "metadata": {},
            "outputs": [],
            "source": "from io import StringIO\nimport requests\nimport csv\nimport pandas as pd\nimport numpy as np\nimport matplotlib.pyplot as plt \n"
        },
        {
            "cell_type": "code",
            "execution_count": null,
            "metadata": {},
            "outputs": [],
            "source": "def get_file_handle(fname):\n    data_path = project.get_file(fname)\n    data_path.seek(0)\n    return data_path"
        },
        {
            "cell_type": "code",
            "execution_count": null,
            "metadata": {},
            "outputs": [],
            "source": "# define filename\nDATA_PATH = 'Unemployment_clean.csv'\n\n# Using pandas to read the data \ndata_path = get_file_handle(DATA_PATH)\nUnemployment_data = pd.read_csv(data_path)\n# Display the first five rows\nUnemployment_data.head()"
        },
        {
            "cell_type": "code",
            "execution_count": null,
            "metadata": {},
            "outputs": [],
            "source": "import pixiedust"
        },
        {
            "cell_type": "code",
            "execution_count": null,
            "metadata": {},
            "outputs": [],
            "source": "!pip install --user --upgrade pixiedust"
        },
        {
            "cell_type": "markdown",
            "metadata": {},
            "source": "!pip install --user --upgrade pixiedust"
        },
        {
            "cell_type": "code",
            "execution_count": null,
            "metadata": {
                "pixiedust": {
                    "displayParams": {
                        "binsize": "2",
                        "brunelMapType": "Chord",
                        "chartsize": "100",
                        "charttype": "stacked",
                        "clusterby": "County",
                        "color": "County",
                        "dynamicfilter": "State",
                        "filter": "{\"field\": \"Deaths\", \"constraint\": \"equal_to\", \"value\": \"None\", \"case_matter\": \"False\", \"regex\": \"False\"}",
                        "handlerId": "mapView",
                        "keyFields": "State,Area_name",
                        "kind": "scatter",
                        "legend": "false",
                        "mapboxtoken": "pk.eyJ1IjoibWFwYm94IiwiYSI6ImNpejY4M29iazA2Z2gycXA4N2pmbDZmangifQ.-g_vE53SD2WrJ6tFX7QHmA",
                        "no_margin": "true",
                        "orientation": "horizontal",
                        "quantiles": "0.0,0.25,0.5,0.75,1.0",
                        "rendererId": "brunel",
                        "rowCount": "100",
                        "sortby": "Values ASC",
                        "tableFields": "County,Deaths",
                        "table_nocount": "false",
                        "table_noschema": "false",
                        "table_nosearch": "false",
                        "table_showrows": "Missing values",
                        "valueFields": "Unemployment_rate_2016,Unemployment_rate_2017"
                    }
                },
                "scrolled": false
            },
            "outputs": [],
            "source": "display(Unemployment_data)"
        },
        {
            "cell_type": "code",
            "execution_count": null,
            "metadata": {},
            "outputs": [],
            "source": "# define filename\nDATA_PATH = 'cdc_opioid_deaths.csv'\n\n# Using pandas to read the data \ndata_path = get_file_handle(DATA_PATH)\nloss_of_life_data = pd.read_csv(data_path)\n# Display the first five rows\nloss_of_life_data.head()"
        },
        {
            "cell_type": "code",
            "execution_count": null,
            "metadata": {
                "pixiedust": {
                    "displayParams": {
                        "brunelMapType": "bubble",
                        "chartsize": "100",
                        "charttype": "subplots",
                        "color": "County",
                        "dynamicfilter": "Population",
                        "filter": "{}",
                        "handlerId": "scatterPlot",
                        "keyFields": "Population,County",
                        "kind": "scatter",
                        "legend": "false",
                        "logx": "false",
                        "logy": "false",
                        "mapboxtoken": "pk.eyJ1IjoibWFwYm94IiwiYSI6ImNpejY4M29iazA2Z2gycXA4N2pmbDZmangifQ.-g_vE53SD2WrJ6tFX7QHmA",
                        "mpld3": "false",
                        "no_margin": "true",
                        "orientation": "vertical",
                        "rendererId": "brunel",
                        "sortby": "Keys DESC",
                        "timeseries": "false",
                        "valueFields": "Deaths",
                        "ylabel": "false"
                    }
                }
            },
            "outputs": [],
            "source": "display(loss_of_life_data)"
        },
        {
            "cell_type": "code",
            "execution_count": null,
            "metadata": {},
            "outputs": [],
            "source": "# define filename\nDATA_PATH = 'Education_clean.csv'\n\n# Using pandas to read the data \ndata_path = get_file_handle(DATA_PATH)\nEducation_data = pd.read_csv(data_path, encoding='cp1252')\n# Display the first five rows\nEducation_data.head()"
        },
        {
            "cell_type": "code",
            "execution_count": null,
            "metadata": {},
            "outputs": [],
            "source": "Education_data.columns"
        },
        {
            "cell_type": "code",
            "execution_count": null,
            "metadata": {
                "pixiedust": {
                    "displayParams": {
                        "chartsize": "100",
                        "color": "Area_name",
                        "dynamicfilter": "pd_count",
                        "handlerId": "barChart",
                        "keyFields": "State",
                        "kind": "resid",
                        "legend": "false",
                        "rendererId": "brunel",
                        "timeseries": "false",
                        "valueFields": "Unemployment_rate_2016"
                    }
                }
            },
            "outputs": [],
            "source": "display(Education_data)"
        },
        {
            "cell_type": "code",
            "execution_count": null,
            "metadata": {},
            "outputs": [],
            "source": "# define filename\nDATA_PATH = 'VSRR_Provisional_Drug_Overdose_Death_Counts_2.csv'\n\n# Using pandas to read the data \ndata_path = get_file_handle(DATA_PATH)\nVSRR_data = pd.read_csv(data_path)\n# Display the first five rows\nVSRR_data.head()\n\n"
        },
        {
            "cell_type": "code",
            "execution_count": null,
            "metadata": {
                "pixiedust": {
                    "displayParams": {
                        "handlerId": "mapView",
                        "keyFields": "Indicator",
                        "rendererId": "brunel"
                    }
                }
            },
            "outputs": [],
            "source": "display(VSRR_data)"
        },
        {
            "cell_type": "code",
            "execution_count": null,
            "metadata": {},
            "outputs": [],
            "source": ""
        },
        {
            "cell_type": "code",
            "execution_count": null,
            "metadata": {},
            "outputs": [],
            "source": ""
        },
        {
            "cell_type": "code",
            "execution_count": null,
            "metadata": {},
            "outputs": [],
            "source": ""
        },
        {
            "cell_type": "code",
            "execution_count": null,
            "metadata": {},
            "outputs": [],
            "source": ""
        },
        {
            "cell_type": "code",
            "execution_count": null,
            "metadata": {},
            "outputs": [],
            "source": ""
        },
        {
            "cell_type": "code",
            "execution_count": null,
            "metadata": {},
            "outputs": [],
            "source": ""
        }
    ],
    "metadata": {
        "kernelspec": {
            "display_name": "Python 3.6",
            "language": "python",
            "name": "python3"
        },
        "language_info": {
            "codemirror_mode": {
                "name": "ipython",
                "version": 3
            },
            "file_extension": ".py",
            "mimetype": "text/x-python",
            "name": "python",
            "nbconvert_exporter": "python",
            "pygments_lexer": "ipython3",
            "version": "3.6.9"
        }
    },
    "nbformat": 4,
    "nbformat_minor": 1
}
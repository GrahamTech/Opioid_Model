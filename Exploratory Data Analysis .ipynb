{
    "cells": [
        {
            "cell_type": "code",
            "execution_count": 1,
            "metadata": {},
            "outputs": [],
            "source": "# The code was removed by Watson Studio for sharing."
        },
        {
            "cell_type": "code",
            "execution_count": 2,
            "metadata": {},
            "outputs": [
                {
                    "name": "stdout",
                    "output_type": "stream",
                    "text": "Pixiedust database opened successfully\n"
                },
                {
                    "data": {
                        "text/html": "\n        <div style=\"margin:10px\">\n            <a href=\"https://github.com/ibm-watson-data-lab/pixiedust\" target=\"_new\">\n                <img src=\"https://github.com/ibm-watson-data-lab/pixiedust/raw/master/docs/_static/pd_icon32.png\" style=\"float:left;margin-right:10px\"/>\n            </a>\n            <span>Pixiedust version 1.1.18</span>\n        </div>\n        ",
                        "text/plain": "<IPython.core.display.HTML object>"
                    },
                    "metadata": {},
                    "output_type": "display_data"
                }
            ],
            "source": "import pixiedust"
        },
        {
            "cell_type": "code",
            "execution_count": 3,
            "metadata": {},
            "outputs": [
                {
                    "name": "stdout",
                    "output_type": "stream",
                    "text": "Requirement already up-to-date: pixiedust in /home/dsxuser/.local/lib/python3.6/site-packages (1.1.18)\nRequirement already satisfied, skipping upgrade: geojson in /opt/conda/envs/Python36/lib/python3.6/site-packages (from pixiedust) (2.4.1)\nRequirement already satisfied, skipping upgrade: colour in /opt/conda/envs/Python36/lib/python3.6/site-packages (from pixiedust) (0.1.5)\nRequirement already satisfied, skipping upgrade: requests in /opt/conda/envs/Python36/lib/python3.6/site-packages (from pixiedust) (2.21.0)\nRequirement already satisfied, skipping upgrade: astunparse in /opt/conda/envs/Python36/lib/python3.6/site-packages (from pixiedust) (1.6.2)\nRequirement already satisfied, skipping upgrade: markdown in /opt/conda/envs/Python36/lib/python3.6/site-packages (from pixiedust) (3.0.1)\nRequirement already satisfied, skipping upgrade: mpld3 in /opt/conda/envs/Python36/lib/python3.6/site-packages (from pixiedust) (0.3)\nRequirement already satisfied, skipping upgrade: lxml in /opt/conda/envs/Python36/lib/python3.6/site-packages (from pixiedust) (4.3.1)\nRequirement already satisfied, skipping upgrade: urllib3<1.25,>=1.21.1 in /opt/conda/envs/Python36/lib/python3.6/site-packages (from requests->pixiedust) (1.24.1)\nRequirement already satisfied, skipping upgrade: idna<2.9,>=2.5 in /opt/conda/envs/Python36/lib/python3.6/site-packages (from requests->pixiedust) (2.8)\nRequirement already satisfied, skipping upgrade: chardet<3.1.0,>=3.0.2 in /opt/conda/envs/Python36/lib/python3.6/site-packages (from requests->pixiedust) (3.0.4)\nRequirement already satisfied, skipping upgrade: certifi>=2017.4.17 in /opt/conda/envs/Python36/lib/python3.6/site-packages (from requests->pixiedust) (2019.11.28)\nRequirement already satisfied, skipping upgrade: wheel<1.0,>=0.23.0 in /opt/conda/envs/Python36/lib/python3.6/site-packages (from astunparse->pixiedust) (0.32.3)\nRequirement already satisfied, skipping upgrade: six<2.0,>=1.6.1 in /opt/conda/envs/Python36/lib/python3.6/site-packages (from astunparse->pixiedust) (1.12.0)\n"
                }
            ],
            "source": "!pip install --user --upgrade pixiedust"
        },
        {
            "cell_type": "markdown",
            "metadata": {},
            "source": "!pip install --user --upgrade pixiedust"
        },
        {
            "cell_type": "code",
            "execution_count": 4,
            "metadata": {},
            "outputs": [],
            "source": "from io import StringIO\nimport requests\nimport csv\nimport pandas as pd\nimport numpy as np\nimport matplotlib.pyplot as plt \nimport seaborn as sns\n"
        },
        {
            "cell_type": "code",
            "execution_count": 5,
            "metadata": {},
            "outputs": [],
            "source": "def get_file_handle(fname):\n    data_path = project.get_file(fname)\n    data_path.seek(0)\n    return data_path"
        },
        {
            "cell_type": "markdown",
            "metadata": {},
            "source": "# CDC Data"
        },
        {
            "cell_type": "code",
            "execution_count": 6,
            "metadata": {},
            "outputs": [
                {
                    "data": {
                        "text/html": "<div>\n<style scoped>\n    .dataframe tbody tr th:only-of-type {\n        vertical-align: middle;\n    }\n\n    .dataframe tbody tr th {\n        vertical-align: top;\n    }\n\n    .dataframe thead th {\n        text-align: right;\n    }\n</style>\n<table border=\"1\" class=\"dataframe\">\n  <thead>\n    <tr style=\"text-align: right;\">\n      <th></th>\n      <th>County</th>\n      <th>fips</th>\n      <th>Deaths</th>\n      <th>Population</th>\n      <th>DeathRate</th>\n      <th>Crisis</th>\n    </tr>\n  </thead>\n  <tbody>\n    <tr>\n      <th>0</th>\n      <td>Autauga County, AL</td>\n      <td>1001</td>\n      <td>10</td>\n      <td>276918</td>\n      <td>0.0</td>\n      <td>0</td>\n    </tr>\n    <tr>\n      <th>1</th>\n      <td>Baldwin County, AL</td>\n      <td>1003</td>\n      <td>69</td>\n      <td>998713</td>\n      <td>6.9</td>\n      <td>0</td>\n    </tr>\n    <tr>\n      <th>2</th>\n      <td>Blount County, AL</td>\n      <td>1009</td>\n      <td>41</td>\n      <td>288794</td>\n      <td>14.2</td>\n      <td>0</td>\n    </tr>\n    <tr>\n      <th>3</th>\n      <td>Cherokee County, AL</td>\n      <td>1019</td>\n      <td>10</td>\n      <td>129845</td>\n      <td>0.0</td>\n      <td>0</td>\n    </tr>\n    <tr>\n      <th>4</th>\n      <td>Cullman County, AL</td>\n      <td>1043</td>\n      <td>32</td>\n      <td>407016</td>\n      <td>7.9</td>\n      <td>0</td>\n    </tr>\n  </tbody>\n</table>\n</div>",
                        "text/plain": "                County  fips  Deaths  Population  DeathRate  Crisis\n0   Autauga County, AL  1001      10      276918        0.0       0\n1   Baldwin County, AL  1003      69      998713        6.9       0\n2    Blount County, AL  1009      41      288794       14.2       0\n3  Cherokee County, AL  1019      10      129845        0.0       0\n4   Cullman County, AL  1043      32      407016        7.9       0"
                    },
                    "execution_count": 6,
                    "metadata": {},
                    "output_type": "execute_result"
                }
            ],
            "source": "# define filename\nDATA_PATH = 'cdc_opioid_deaths.csv'\n\n# Using pandas to read the data \ndata_path = get_file_handle(DATA_PATH)\nloss_of_life_data = pd.read_csv(data_path)\nloss_of_life_data = loss_of_life_data.rename(columns = {'Crude Rate':'DeathRate'})\nloss_of_life_data.DeathRate.replace(\"Unreliable\", \"0\", inplace=True)\nloss_of_life_data[\"DeathRate\"] = loss_of_life_data.DeathRate.astype(\"float64\")\nloss_of_life_data = loss_of_life_data.rename(columns = {'County Code':'fips'})\nloss_of_life_data['Crisis'] = np.where(loss_of_life_data['DeathRate']>=22.05, 1, 0)\n\n# Display the first five rows\nloss_of_life_data.head()"
        },
        {
            "cell_type": "markdown",
            "metadata": {},
            "source": "Crude Rate = Death Rate = Death Count / County Population * 100,000"
        },
        {
            "cell_type": "markdown",
            "metadata": {},
            "source": "When the number of is less than 20 in this dataset its marked as \"Unreliable\", we will replace it with 0 "
        },
        {
            "cell_type": "markdown",
            "metadata": {},
            "source": "Renaming County Code to fips to join other data set on it "
        },
        {
            "cell_type": "code",
            "execution_count": 7,
            "metadata": {},
            "outputs": [
                {
                    "data": {
                        "image/png": "[encoded data removed]",
                        "text/plain": "<Figure size 432x288 with 1 Axes>"
                    },
                    "metadata": {
                        "needs_background": "light"
                    },
                    "output_type": "display_data"
                }
            ],
            "source": "DeathRate=loss_of_life_data['DeathRate']\nsns.distplot(DeathRate)\nplt.show()"
        },
        {
            "cell_type": "markdown",
            "metadata": {},
            "source": "The distribution of death rate is bimodal and right-skewed"
        },
        {
            "cell_type": "markdown",
            "metadata": {},
            "source": "Engineering a Boolean response column \"Crisis\" to classify counties with higher or equal rate of 22.05, since there is a drop of after 20"
        },
        {
            "cell_type": "code",
            "execution_count": 8,
            "metadata": {
                "pixiedust": {
                    "displayParams": {
                        "brunelMapType": "bubble",
                        "chartsize": "100",
                        "charttype": "subplots",
                        "clusterby": "Crisis",
                        "color": "County",
                        "dynamicfilter": "Population",
                        "filter": "{\"field\": \"DeathRate\", \"constraint\": \"greater_than\", \"value\": \"22.05\", \"case_matter\": \"False\", \"regex\": \"False\"}",
                        "handlerId": "barChart",
                        "keyFields": "Population,County",
                        "kind": "scatter",
                        "legend": "false",
                        "logx": "false",
                        "logy": "false",
                        "mapboxtoken": "pk.eyJ1IjoibWFwYm94IiwiYSI6ImNpejY4M29iazA2Z2gycXA4N2pmbDZmangifQ.-g_vE53SD2WrJ6tFX7QHmA",
                        "mpld3": "false",
                        "no_margin": "true",
                        "orientation": "vertical",
                        "rendererId": "bokeh",
                        "sortby": "Values DESC",
                        "tableFields": "DeathRate",
                        "timeseries": "false",
                        "valueFields": "Deaths",
                        "ylabel": "false"
                    }
                }
            },
            "outputs": [
                {
                    "data": {
                        "text/html": "<style type=\"text/css\">.pd_warning{display:none;}</style><div class=\"pd_warning\"><em>Hey, there's something awesome here! To see it, open this notebook outside GitHub, in a viewer like Jupyter</em></div>",
                        "text/plain": "<IPython.core.display.HTML object>"
                    },
                    "metadata": {
                        "pixieapp_metadata": null
                    },
                    "output_type": "display_data"
                }
            ],
            "source": "display(loss_of_life_data)"
        },
        {
            "cell_type": "code",
            "execution_count": 9,
            "metadata": {},
            "outputs": [
                {
                    "data": {
                        "text/plain": "(1616, 6)"
                    },
                    "execution_count": 9,
                    "metadata": {},
                    "output_type": "execute_result"
                }
            ],
            "source": "loss_of_life_data.shape #1616 counties "
        },
        {
            "cell_type": "code",
            "execution_count": 10,
            "metadata": {},
            "outputs": [
                {
                    "name": "stdout",
                    "output_type": "stream",
                    "text": "                     County   fips  Deaths  Population  DeathRate  Crisis\n1564     Wyoming County, WV  54109     103      112804       91.3       1\n1525       Boone County, WV  54005      94      118604       79.3       1\n1540    McDowell County, WV  54047      79      101626       77.7       1\n1546       Mingo County, WV  54059      95      127658       74.4       1\n829   Rio Arriba County, NM  35039     148      199672       74.1       1\n1528      Cabell County, WV  54011     288      484047       59.5       1\n1544      Mercer County, WV  54055     181      307924       58.8       1\n1554     Raleigh County, WV  54081     223      390206       57.1       1\n513       Powell County, KY  21197      35       61988       56.5       1\n460         Clay County, KY  21051      59      105846       55.7       1\n1539       Logan County, WV  54045      89      175910       50.6       1\n489       Leslie County, KY  21131      27       54356       49.7       1\n454     Campbell County, KY  21037     220      458006       48.0       1\n1393      Carbon County, UT  49007      48      103772       46.3       1\n445         Bell County, KY  21013      64      138300       46.3       1\n1560       Wayne County, WV  54099      93      205710       45.2       1\n476     Harrison County, KY  21097      42       93143       45.1       1\n1524    Berkeley County, WV  54003     239      551727       43.3       1\n1537     Kanawha County, WV  54039     410      948250       43.2       1\n1538     Lincoln County, WV  54043      46      107394       42.8       1\n1550    Nicholas County, WV  54067      55      128926       42.7       1\n1557     Summers County, WV  54089      28       66828       41.9       1\n524        Union County, KY  21225      31       74974       41.3       1\n461      Clinton County, KY  21053      21       50947       41.2       1\n467        Floyd County, KY  21071      78      190651       40.9       1\n1432   Dickenson County, VA  51051      31       76567       40.5       1\n498       Martin County, KY  21159      25       62236       40.2       1\n1548      Monroe County, WV  54063      27       67404       40.1       1\n1530     Fayette County, WV  54019      88      225920       39.0       1\n483       Kenton County, KY  21117     316      818742       38.6       1\n...                     ...    ...     ...         ...        ...     ...\n1153    Bradford County, PA  42015      17      308943        0.0       0\n405      Clinton County, IA  19045      13      240265        0.0       0\n1160     Clarion County, PA  42031      18      195633        0.0       0\n1162     Clinton County, PA  42035      12      197890        0.0       0\n1163    Columbia County, PA  42037      14      333898        0.0       0\n1168         Elk County, PA  42047      19      155575        0.0       0\n396       Shelby County, IN  18145      14      222581        0.0       0\n393       Ripley County, IN  18137      13      143046        0.0       0\n392     Randolph County, IN  18135      19      127080        0.0       0\n1173  Huntingdon County, PA  42061      14      228689        0.0       0\n1142       Union County, OR  41061      11      128979        0.0       0\n411          Lee County, IA  19111      18      176289        0.0       0\n1114       Texas County, OK  40139      12      108019        0.0       0\n1136     Malheur County, OR  41045      10      152287        0.0       0\n427     Franklin County, KS  20059      11      128426        0.0       0\n425     Cherokee County, KS  20021      11      103770        0.0       0\n1118     Washita County, OK  40149      11       57955        0.0       0\n1119    Woodward County, OK  40153      11      105671        0.0       0\n1120       Baker County, OR  41001      12       80050        0.0       0\n424       Butler County, KS  20015      18      331623        0.0       0\n423       Barton County, KS  20009      10      136329        0.0       0\n422     Atchison County, KS  20005      12       82853        0.0       0\n1126       Crook County, OR  41013      15      106742        0.0       0\n420      Webster County, IA  19187      10      185112        0.0       0\n419       Warren County, IA  19181      14      240500        0.0       0\n418        Story County, IA  19169      19      470730        0.0       0\n1132        Lake County, OR  41037      13       39095        0.0       0\n414     Marshall County, IA  19127      13      203775        0.0       0\n413       Marion County, IA  19125      13      166519        0.0       0\n0        Autauga County, AL   1001      10      276918        0.0       0\n\n[1616 rows x 6 columns]\n"
                }
            ],
            "source": "loss_of_life_data.sort_values(by=['DeathRate'], inplace=True, ascending=False)\n\nprint (loss_of_life_data)"
        },
        {
            "cell_type": "markdown",
            "metadata": {},
            "source": "# Education Data"
        },
        {
            "cell_type": "code",
            "execution_count": 11,
            "metadata": {},
            "outputs": [
                {
                    "data": {
                        "text/html": "<div>\n<style scoped>\n    .dataframe tbody tr th:only-of-type {\n        vertical-align: middle;\n    }\n\n    .dataframe tbody tr th {\n        vertical-align: top;\n    }\n\n    .dataframe thead th {\n        text-align: right;\n    }\n</style>\n<table border=\"1\" class=\"dataframe\">\n  <thead>\n    <tr style=\"text-align: right;\">\n      <th></th>\n      <th>FIPS Code</th>\n      <th>State</th>\n      <th>Area name</th>\n      <th>Less than a high school diploma, 2012-2016</th>\n      <th>High school diploma only, 2012-2016</th>\n      <th>Some college or associate's degree, 2012-2016</th>\n      <th>Bachelor's degree or higher, 2012-2016</th>\n      <th>Percent of adults with less than a high school diploma, 2012-2016</th>\n      <th>Percent of adults with a high school diploma only, 2012-2016</th>\n      <th>Percent of adults completing some college or associate's degree, 2012-2016</th>\n      <th>Percent of adults with a bachelor's degree or higher, 2012-2016</th>\n    </tr>\n  </thead>\n  <tbody>\n    <tr>\n      <th>0</th>\n      <td>0</td>\n      <td>US</td>\n      <td>United States</td>\n      <td>27,818,380</td>\n      <td>58,820,411</td>\n      <td>62,242,569</td>\n      <td>64,767,787</td>\n      <td>13.0</td>\n      <td>27.5</td>\n      <td>29.1</td>\n      <td>30.3</td>\n    </tr>\n    <tr>\n      <th>1</th>\n      <td>1000</td>\n      <td>AL</td>\n      <td>Alabama</td>\n      <td>496,036</td>\n      <td>1,009,593</td>\n      <td>972,703</td>\n      <td>783,076</td>\n      <td>15.2</td>\n      <td>31.0</td>\n      <td>29.8</td>\n      <td>24.0</td>\n    </tr>\n    <tr>\n      <th>2</th>\n      <td>1001</td>\n      <td>AL</td>\n      <td>Autauga County</td>\n      <td>4,528</td>\n      <td>12,519</td>\n      <td>10,451</td>\n      <td>8,968</td>\n      <td>12.4</td>\n      <td>34.3</td>\n      <td>28.7</td>\n      <td>24.6</td>\n    </tr>\n    <tr>\n      <th>3</th>\n      <td>1003</td>\n      <td>AL</td>\n      <td>Baldwin County</td>\n      <td>13,956</td>\n      <td>40,154</td>\n      <td>44,486</td>\n      <td>41,350</td>\n      <td>10.0</td>\n      <td>28.7</td>\n      <td>31.8</td>\n      <td>29.5</td>\n    </tr>\n    <tr>\n      <th>4</th>\n      <td>1005</td>\n      <td>AL</td>\n      <td>Barbour County</td>\n      <td>4,824</td>\n      <td>6,422</td>\n      <td>4,775</td>\n      <td>2,366</td>\n      <td>26.2</td>\n      <td>34.9</td>\n      <td>26.0</td>\n      <td>12.9</td>\n    </tr>\n  </tbody>\n</table>\n</div>",
                        "text/plain": "   FIPS Code State       Area name Less than a high school diploma, 2012-2016  \\\n0          0    US   United States                                 27,818,380   \n1       1000    AL         Alabama                                    496,036   \n2       1001    AL  Autauga County                                      4,528   \n3       1003    AL  Baldwin County                                     13,956   \n4       1005    AL  Barbour County                                      4,824   \n\n  High school diploma only, 2012-2016  \\\n0                          58,820,411   \n1                           1,009,593   \n2                              12,519   \n3                              40,154   \n4                               6,422   \n\n  Some college or associate's degree, 2012-2016  \\\n0                                    62,242,569   \n1                                       972,703   \n2                                        10,451   \n3                                        44,486   \n4                                         4,775   \n\n  Bachelor's degree or higher, 2012-2016  \\\n0                             64,767,787   \n1                                783,076   \n2                                  8,968   \n3                                 41,350   \n4                                  2,366   \n\n   Percent of adults with less than a high school diploma, 2012-2016  \\\n0                                               13.0                   \n1                                               15.2                   \n2                                               12.4                   \n3                                               10.0                   \n4                                               26.2                   \n\n   Percent of adults with a high school diploma only, 2012-2016  \\\n0                                               27.5              \n1                                               31.0              \n2                                               34.3              \n3                                               28.7              \n4                                               34.9              \n\n   Percent of adults completing some college or associate's degree, 2012-2016  \\\n0                                               29.1                            \n1                                               29.8                            \n2                                               28.7                            \n3                                               31.8                            \n4                                               26.0                            \n\n   Percent of adults with a bachelor's degree or higher, 2012-2016  \n0                                               30.3                \n1                                               24.0                \n2                                               24.6                \n3                                               29.5                \n4                                               12.9                "
                    },
                    "execution_count": 11,
                    "metadata": {},
                    "output_type": "execute_result"
                }
            ],
            "source": "# define filename\nDATA_PATH = 'Education_clean.csv'\n\n# Using pandas to read the data \ndata_path = get_file_handle(DATA_PATH)\nEducation_data = pd.read_csv(data_path, encoding='cp1252')\n# Display the first five rows\nEducation_data.head()"
        },
        {
            "cell_type": "code",
            "execution_count": 12,
            "metadata": {},
            "outputs": [],
            "source": "import re"
        },
        {
            "cell_type": "code",
            "execution_count": 13,
            "metadata": {},
            "outputs": [],
            "source": "Education_data.columns = Education_data.columns.str.replace(r\"[\\\"\\',]\", '')"
        },
        {
            "cell_type": "code",
            "execution_count": 14,
            "metadata": {},
            "outputs": [
                {
                    "data": {
                        "text/plain": "Index(['FIPS Code', 'State', 'Area name',\n       'Less than a high school diploma 2012-2016',\n       'High school diploma only 2012-2016',\n       'Some college or associates degree 2012-2016',\n       'Bachelors degree or higher 2012-2016',\n       'Percent of adults with less than a high school diploma 2012-2016',\n       'Percent of adults with a high school diploma only 2012-2016',\n       'Percent of adults completing some college or associates degree 2012-2016',\n       'Percent of adults with a bachelors degree or higher 2012-2016'],\n      dtype='object')"
                    },
                    "execution_count": 14,
                    "metadata": {},
                    "output_type": "execute_result"
                }
            ],
            "source": "Education_data.columns"
        },
        {
            "cell_type": "code",
            "execution_count": 15,
            "metadata": {},
            "outputs": [],
            "source": "#Education_data.columns = Education_data.columns.str.strip().str.lower().str.replace(' ', '_').str.replace('(', '').str.replace(')', '').str.replace('\u2019','')"
        },
        {
            "cell_type": "code",
            "execution_count": 16,
            "metadata": {},
            "outputs": [],
            "source": "Education_data[\"FIPS Code\"].value_counts(dropna=False)\nEducation_data[Education_data[\"FIPS Code\"].isnull()]\nEducation_data = Education_data.dropna(how=\"all\")"
        },
        {
            "cell_type": "code",
            "execution_count": 17,
            "metadata": {},
            "outputs": [],
            "source": "Education_data[\"FIPS Code\"] = Education_data[\"FIPS Code\"].astype(\"int\")"
        },
        {
            "cell_type": "code",
            "execution_count": 18,
            "metadata": {},
            "outputs": [],
            "source": "Education_data.rename(columns = {'FIPS Code':'fips','Area name':'area','Percent of adults with less than a high school diploma 2012-2016':'PCT_POP_less_HSD','Percent of adults with a high school diploma only 2012-2016':\n                                 'PCT_POP_with_HSD','Percent of adults completing some college or associates degree 2012-2016':'PCT_POP_some_college','Percent of adults with a bachelors degree or higher 2012-2016':\n                                  'PCT_POP_with_BA'}, inplace = True)"
        },
        {
            "cell_type": "code",
            "execution_count": 19,
            "metadata": {},
            "outputs": [
                {
                    "data": {
                        "text/html": "<div>\n<style scoped>\n    .dataframe tbody tr th:only-of-type {\n        vertical-align: middle;\n    }\n\n    .dataframe tbody tr th {\n        vertical-align: top;\n    }\n\n    .dataframe thead th {\n        text-align: right;\n    }\n</style>\n<table border=\"1\" class=\"dataframe\">\n  <thead>\n    <tr style=\"text-align: right;\">\n      <th></th>\n      <th>fips</th>\n      <th>State</th>\n      <th>area</th>\n      <th>PCT_POP_less_HSD</th>\n      <th>PCT_POP_with_HSD</th>\n      <th>PCT_POP_some_college</th>\n      <th>PCT_POP_with_BA</th>\n    </tr>\n  </thead>\n  <tbody>\n    <tr>\n      <th>0</th>\n      <td>0</td>\n      <td>US</td>\n      <td>United States</td>\n      <td>13.0</td>\n      <td>27.5</td>\n      <td>29.1</td>\n      <td>30.3</td>\n    </tr>\n    <tr>\n      <th>1</th>\n      <td>1000</td>\n      <td>AL</td>\n      <td>Alabama</td>\n      <td>15.2</td>\n      <td>31.0</td>\n      <td>29.8</td>\n      <td>24.0</td>\n    </tr>\n    <tr>\n      <th>2</th>\n      <td>1001</td>\n      <td>AL</td>\n      <td>Autauga County</td>\n      <td>12.4</td>\n      <td>34.3</td>\n      <td>28.7</td>\n      <td>24.6</td>\n    </tr>\n    <tr>\n      <th>3</th>\n      <td>1003</td>\n      <td>AL</td>\n      <td>Baldwin County</td>\n      <td>10.0</td>\n      <td>28.7</td>\n      <td>31.8</td>\n      <td>29.5</td>\n    </tr>\n    <tr>\n      <th>4</th>\n      <td>1005</td>\n      <td>AL</td>\n      <td>Barbour County</td>\n      <td>26.2</td>\n      <td>34.9</td>\n      <td>26.0</td>\n      <td>12.9</td>\n    </tr>\n  </tbody>\n</table>\n</div>",
                        "text/plain": "   fips State            area  PCT_POP_less_HSD  PCT_POP_with_HSD  \\\n0     0    US   United States              13.0              27.5   \n1  1000    AL         Alabama              15.2              31.0   \n2  1001    AL  Autauga County              12.4              34.3   \n3  1003    AL  Baldwin County              10.0              28.7   \n4  1005    AL  Barbour County              26.2              34.9   \n\n   PCT_POP_some_college  PCT_POP_with_BA  \n0                  29.1             30.3  \n1                  29.8             24.0  \n2                  28.7             24.6  \n3                  31.8             29.5  \n4                  26.0             12.9  "
                    },
                    "execution_count": 19,
                    "metadata": {},
                    "output_type": "execute_result"
                }
            ],
            "source": "features = ['fips','State','area','PCT_POP_less_HSD','PCT_POP_with_HSD','PCT_POP_some_college','PCT_POP_with_BA']\nEducation_data = Education_data[features]\nEducation_data.head()"
        },
        {
            "cell_type": "code",
            "execution_count": 20,
            "metadata": {},
            "outputs": [],
            "source": "Principal_data = pd.merge (loss_of_life_data, Education_data, on='fips')"
        },
        {
            "cell_type": "code",
            "execution_count": 21,
            "metadata": {},
            "outputs": [
                {
                    "data": {
                        "text/html": "<div>\n<style scoped>\n    .dataframe tbody tr th:only-of-type {\n        vertical-align: middle;\n    }\n\n    .dataframe tbody tr th {\n        vertical-align: top;\n    }\n\n    .dataframe thead th {\n        text-align: right;\n    }\n</style>\n<table border=\"1\" class=\"dataframe\">\n  <thead>\n    <tr style=\"text-align: right;\">\n      <th></th>\n      <th>County</th>\n      <th>fips</th>\n      <th>Deaths</th>\n      <th>Population</th>\n      <th>DeathRate</th>\n      <th>Crisis</th>\n      <th>State</th>\n      <th>area</th>\n      <th>PCT_POP_less_HSD</th>\n      <th>PCT_POP_with_HSD</th>\n      <th>PCT_POP_some_college</th>\n      <th>PCT_POP_with_BA</th>\n    </tr>\n  </thead>\n  <tbody>\n    <tr>\n      <th>0</th>\n      <td>Wyoming County, WV</td>\n      <td>54109</td>\n      <td>103</td>\n      <td>112804</td>\n      <td>91.3</td>\n      <td>1</td>\n      <td>WV</td>\n      <td>Wyoming County</td>\n      <td>22.6</td>\n      <td>47.6</td>\n      <td>21.5</td>\n      <td>8.2</td>\n    </tr>\n    <tr>\n      <th>1</th>\n      <td>Boone County, WV</td>\n      <td>54005</td>\n      <td>94</td>\n      <td>118604</td>\n      <td>79.3</td>\n      <td>1</td>\n      <td>WV</td>\n      <td>Boone County</td>\n      <td>20.8</td>\n      <td>50.5</td>\n      <td>20.0</td>\n      <td>8.7</td>\n    </tr>\n    <tr>\n      <th>2</th>\n      <td>McDowell County, WV</td>\n      <td>54047</td>\n      <td>79</td>\n      <td>101626</td>\n      <td>77.7</td>\n      <td>1</td>\n      <td>WV</td>\n      <td>McDowell County</td>\n      <td>35.1</td>\n      <td>44.9</td>\n      <td>14.8</td>\n      <td>5.2</td>\n    </tr>\n    <tr>\n      <th>3</th>\n      <td>Mingo County, WV</td>\n      <td>54059</td>\n      <td>95</td>\n      <td>127658</td>\n      <td>74.4</td>\n      <td>1</td>\n      <td>WV</td>\n      <td>Mingo County</td>\n      <td>26.1</td>\n      <td>41.2</td>\n      <td>22.8</td>\n      <td>9.9</td>\n    </tr>\n    <tr>\n      <th>4</th>\n      <td>Rio Arriba County, NM</td>\n      <td>35039</td>\n      <td>148</td>\n      <td>199672</td>\n      <td>74.1</td>\n      <td>1</td>\n      <td>NM</td>\n      <td>Rio Arriba County</td>\n      <td>15.8</td>\n      <td>33.0</td>\n      <td>33.1</td>\n      <td>18.1</td>\n    </tr>\n  </tbody>\n</table>\n</div>",
                        "text/plain": "                  County   fips  Deaths  Population  DeathRate  Crisis State  \\\n0     Wyoming County, WV  54109     103      112804       91.3       1    WV   \n1       Boone County, WV  54005      94      118604       79.3       1    WV   \n2    McDowell County, WV  54047      79      101626       77.7       1    WV   \n3       Mingo County, WV  54059      95      127658       74.4       1    WV   \n4  Rio Arriba County, NM  35039     148      199672       74.1       1    NM   \n\n                area  PCT_POP_less_HSD  PCT_POP_with_HSD  \\\n0     Wyoming County              22.6              47.6   \n1       Boone County              20.8              50.5   \n2    McDowell County              35.1              44.9   \n3       Mingo County              26.1              41.2   \n4  Rio Arriba County              15.8              33.0   \n\n   PCT_POP_some_college  PCT_POP_with_BA  \n0                  21.5              8.2  \n1                  20.0              8.7  \n2                  14.8              5.2  \n3                  22.8              9.9  \n4                  33.1             18.1  "
                    },
                    "execution_count": 21,
                    "metadata": {},
                    "output_type": "execute_result"
                }
            ],
            "source": "Principal_data.head()"
        },
        {
            "cell_type": "code",
            "execution_count": null,
            "metadata": {
                "pixiedust": {
                    "displayParams": {
                        "brunelMapType": "Chord",
                        "charttype": "subplots",
                        "clusterby": "Crisis",
                        "dynamicfilter": "DeathRate",
                        "handlerId": "mapView",
                        "keyFields": "DeathRate,PCT_POP_less_HSD,PCT_POP_some_college,PCT_POP_with_BA,PCT_POP_with_HSD,County",
                        "rendererId": "brunel",
                        "valueFields": "Population"
                    }
                }
            },
            "outputs": [
                {
                    "data": {
                        "text/html": "<style type=\"text/css\">.pd_warning{display:none;}</style><div class=\"pd_warning\"><em>Hey, there's something awesome here! To see it, open this notebook outside GitHub, in a viewer like Jupyter</em></div>\n        <div class=\"pd_save is-viewer-good\" style=\"padding-right:10px;text-align: center;line-height:initial !important;font-size: xx-large;font-weight: 500;color: coral;\">\n            \n        </div>\n    <div id=\"chartFiguredf7742e8\" class=\"pd_save is-viewer-good\" style=\"overflow-x:auto\">\n            <!--\n  ~ Copyright (c) 2015 IBM Corporation and others.\n  ~\n  ~ Licensed under the Apache License, Version 2.0 (the \"License\");\n  ~ You may not use this file except in compliance with the License.\n  ~ You may obtain a copy of the License at\n  ~\n  ~     http://www.apache.org/licenses/LICENSE-2.0\n  ~\n  ~ Unless required by applicable law or agreed to in writing, software\n  ~ distributed under the License is distributed on an \"AS IS\" BASIS,\n  ~ WITHOUT WARRANTIES OR CONDITIONS OF ANY KIND, either express or implied.\n  ~ See the License for the specific language governing permissions and\n  ~ limitations under the License.\n  -->\n\n\n<link rel=\"stylesheet\" type=\"text/css\" href=\"/data/jupyter2/static-file-content-delivery-network/nbextensions/brunel_ext/brunel.2.3.css\">\n<link rel=\"stylesheet\" type=\"text/css\" href=\"/data/jupyter2/static-file-content-delivery-network/nbextensions/brunel_ext/sumoselect.css\">\n\n<style>\n    \n</style>\n\n<div id=\"controlsid5ba2a600-6a19-11ea-8c0a-9fcaf84ec0b2\" class=\"brunel\"></div>\n<svg id=\"visid5ba2a466-6a19-11ea-8c0a-9fcaf84ec0b2\" width=\"1464\" height=\"500\"></svg>\n<script type=\"text/javascript\">\n                        window.linkpackage = function(item){\n                            var parts = item.parent.data.key.split('|');\n                            if ( parts.length >= 3){\n                                window.open(\"https://code.amazon.com/packages/\" + parts[2],'_blank');\n                            }\n                        }\n                    </script>\n<script type=\"text/javascript\">/*\n * Copyright (c) 2015 IBM Corporation and others.\n *\n * Licensed under the Apache License, Version 2.0 (the \"License\");\n * You may not use this file except in compliance with the License.\n * You may obtain a copy of the License at\n *\n *     http://www.apache.org/licenses/LICENSE-2.0\n *\n * Unless required by applicable law or agreed to in writing, software\n * distributed under the License is distributed on an \"AS IS\" BASIS,\n * WITHOUT WARRANTIES OR CONDITIONS OF ANY KIND, either express or implied.\n * See the License for the specific language governing permissions and\n * limitations under the License.\n */\n\nrequire.config({\n    waitSeconds: 60,\n    paths: {\n        'd3': '//cdnjs.cloudflare.com/ajax/libs/d3/4.2.1/d3.min',\n        'topojson': '//cdnjs.cloudflare.com/ajax/libs/topojson/1.6.20/topojson.min',\n        'brunel' : '/data/jupyter2/static-file-content-delivery-network/nbextensions/brunel_ext/brunel.2.3.min',\n        'brunelControls' : '/data/jupyter2/static-file-content-delivery-network/nbextensions/brunel_ext/brunel.controls.2.3.min'\n    },\n    shim: {\n       'brunel' : {\n            exports: 'BrunelD3',\n            deps: ['d3', 'topojson'],\n            init: function() {\n               return {\n                 BrunelD3 : BrunelD3,\n                 BrunelData : BrunelData\n              }\n            }\n        },\n       'brunelControls' : {\n            exports: 'BrunelEventHandlers',\n            init: function() {\n               return {\n                 BrunelEventHandlers: BrunelEventHandlers,\n                 BrunelJQueryControlFactory: BrunelJQueryControlFactory\n              }\n            }\n        }\n\n    }\n\n});\n\nrequire([\"d3\"], function(d3) {\n    require([\"brunel\", \"brunelControls\"], function(brunel, brunelControls) {\n        function  BrunelVis(visId) {\n  \"use strict\";                                                                       // strict mode\n  var datasets = [],                                      // array of datasets for the original data\n      pre = function(d, i) { return d },                         // default pre-process does nothing\n      post = function(d, i) { return d },                       // default post-process does nothing\n      transitionTime = 200,                                        // transition time for animations\n      charts = [],                                                       // the charts in the system\n      vis = d3.select('#' + visId).attr('class', 'brunel');                     // the SVG container\n\n  BrunelD3.addDefinitions(vis);                                   // ensure standard symbols present\n\n  // Define chart #1 in the visualization //////////////////////////////////////////////////////////\n\n  charts[0] = function(parentNode, filterRows) {\n    var geom = BrunelD3.geometry(parentNode || vis.node(), 0, 0, 1, 1, 0, 0, 0, 60),\n      elements = [];                                              // array of elements in this chart\n\n    // Define groups for the chart parts ///////////////////////////////////////////////////////////\n\n    var chart =  vis.append('g').attr('class', 'chart1')\n      .attr('transform','translate(' + geom.chart_left + ',' + geom.chart_top + ')');\n    var overlay = chart.append('g').attr('class', 'element').attr('class', 'overlay');\n    var zoom = d3.zoom().scaleExtent([1/3,3]);\n    var zoomNode = overlay.append('rect').attr('class', 'overlay')\n      .attr('x', geom.inner_left).attr('y', geom.inner_top)\n      .attr('width', geom.inner_rawWidth).attr('height', geom.inner_rawHeight)\n      .style('cursor', 'default')\n      .node();\n    zoomNode.__zoom = d3.zoomIdentity;\n    chart.append('rect').attr('class', 'background').attr('width', geom.chart_right-geom.chart_left).attr('height', geom.chart_bottom-geom.chart_top);\n    var interior = chart.append('g').attr('class', 'interior zoomNone')\n      .attr('transform','translate(' + geom.inner_left + ',' + geom.inner_top + ')')\n      .attr('clip-path', 'url(#clip_visid5ba2a466-6a19-11ea-8c0a-9fcaf84ec0b2_chart1_inner)');\n    interior.append('rect').attr('class', 'inner').attr('width', geom.inner_width).attr('height', geom.inner_height);\n    var gridGroup = interior.append('g').attr('class', 'grid');\n    var legends = chart.append('g').attr('class', 'legend')\n      .attr('transform','translate(' + (geom.chart_right-geom.chart_left - 3) + ',' + 0 + ')');\n    vis.append('clipPath').attr('id', 'clip_visid5ba2a466-6a19-11ea-8c0a-9fcaf84ec0b2_chart1_inner').append('rect')\n      .attr('x', 0).attr('y', 0)\n      .attr('width', geom.inner_rawWidth+1).attr('height', geom.inner_rawHeight+1);\n    var scale_x = d3.scaleLinear(), scale_y = d3.scaleLinear();\n    var base_scales = [scale_x, scale_y];                           // untransformed original scales\n    zoom.on('zoom', function(t, time) {\n        t = t || d3.event.transform;\n        zoomNode.__zoom = t;\n        interior.attr('class', 'interior ' + BrunelD3.zoomLabel(t.k));;\n        build(time || -1);\n    });\n\n    // Define element #1 ///////////////////////////////////////////////////////////////////////////\n\n    elements[0] = function() {\n      var original, processed,                           // data sets passed in and then transformed\n        element, data,                                 // brunel element information and brunel data\n        selection, merged;                                      // d3 selection and merged selection\n      var elementGroup = interior.append('g').attr('class', 'element1')\n        .attr('transform','translate(' + geom.inner_width/2 + ',' + geom.inner_height/2 + ')'),\n        main = elementGroup.append('g').attr('class', 'main'),\n        labels = BrunelD3.undoTransform(elementGroup.append('g').attr('class', 'labels').attr('aria-hidden', 'true'), elementGroup),\n        diagramExtras = elementGroup.append('g').attr('class', 'extras');\n\n      function makeData() {\n        original = datasets[0];\n        if (filterRows) original = original.retainRows(filterRows);\n        processed = pre(original, 0)\n          .summarize('#count=#count:sum; DeathRate=DeathRate:base; PCT_POP_less_HSD=PCT_POP_less_HSD:base; PCT_POP_some_college=PCT_POP_some_college:base; PCT_POP_with_BA=PCT_POP_with_BA:base; PCT_POP_with_HSD=PCT_POP_with_HSD:base; Population=Population');\n        processed = post(processed, 0);\n        var f0 = processed.field('DeathRate'),\n          f1 = processed.field('PCT_POP_less_HSD'),\n          f2 = processed.field('PCT_POP_some_college'),\n          f3 = processed.field('PCT_POP_with_BA'),\n          f4 = processed.field('PCT_POP_with_HSD'),\n          f5 = processed.field('Population'),\n          f6 = processed.field('#count'),\n          f7 = processed.field('#row'),\n          f8 = processed.field('#selection');\n        var keyFunc = function(d) { return f0.value(d)+ '|' + f1.value(d)+ '|' + f2.value(d)+ '|' + f3.value(d)+ '|' + f4.value(d)+ '|' + f5.value(d) };\n        data = {\n          DeathRate:    function(d) { return f0.value(d.row) },\n          PCT_POP_less_HSD:function(d) { return f1.value(d.row) },\n          PCT_POP_some_college:function(d) { return f2.value(d.row) },\n          PCT_POP_with_BA:function(d) { return f3.value(d.row) },\n          PCT_POP_with_HSD:function(d) { return f4.value(d.row) },\n          Population:   function(d) { return f5.value(d.row) },\n          $count:       function(d) { return f6.value(d.row) },\n          $row:         function(d) { return f7.value(d.row) },\n          $selection:   function(d) { return f8.value(d.row) },\n          DeathRate_f:  function(d) { return f0.valueFormatted(d.row) },\n          PCT_POP_less_HSD_f:function(d) { return f1.valueFormatted(d.row) },\n          PCT_POP_some_college_f:function(d) { return f2.valueFormatted(d.row) },\n          PCT_POP_with_BA_f:function(d) { return f3.valueFormatted(d.row) },\n          PCT_POP_with_HSD_f:function(d) { return f4.valueFormatted(d.row) },\n          Population_f: function(d) { return f5.valueFormatted(d.row) },\n          $count_f:     function(d) { return f6.valueFormatted(d.row) },\n          $row_f:       function(d) { return f7.valueFormatted(d.row) },\n          $selection_f: function(d) { return f8.valueFormatted(d.row) },\n          _split:       function(d) { return f6.value(d.row) },\n          _key:         keyFunc,\n          _rows:        BrunelD3.makeRowsWithKeys(keyFunc, processed.rowCount())\n        };\n      }\n      // Aesthetic Functions\n      var scale_color = d3.scaleLinear().domain([1, 1, 1, 1, 1])\n        .interpolate(d3.interpolateHcl)\n        .range([ '#f1eef6', '#bdc9e1', '#74a9cf', '#2b8cbe', '#045a8d']);\n      var color = function(d) { return scale_color(data.$count(d)) };\n      legends._legend = legends._legend || { title: ['Count'], \n        ticks: [2, 1.5, 1, 0.5, 0]};\n      legends._legend.color = scale_color;\n\n      // Build element from data ///////////////////////////////////////////////////////////////////\n\n      function build(transitionMillis) {\n        element = elements[0];\n        // Define chord data structures using Brunel's enhanced chord diagram builder\n        var chords = BrunelData.diagram_Chord.make(processed,'DeathRate', 'PCT_POP_less_HSD');\n        var arc_width = 9.6;                                                // width of exterior arc\n        function keyFunction(d) { return d.source.index + '|' + d.target.index };//  special key function for the edges\n        var R = scale_x(geom.inner_radius)-scale_x(0), svgTrans = 'translate(' + scale_x(0) + ',' + scale_y(0) + ')';\n        main.attr('class', 'diagram chord');\n\n        // Define selection entry operations\n        function initialState(selection) {\n          selection\n            .attr('class', 'element edge filled')\n        }\n\n        // Define selection update operations on merged data\n        function updateState(selection) {\n          selection\n            .attr('d', d3.ribbon().radius(R-arc_width))\n            .attr('class', 'element edge')\n            .attr('transform', svgTrans)\n            .filter(BrunelD3.hasData)                     // following only performed for data items\n            .style('fill', color)\n\n          // Add in the arcs on the outside for the groups\n          diagramExtras.attr('class', 'diagram chord arcs');\n          var arcGroup = diagramExtras.selectAll('g').data(chords.groups),\n            addedArcGroups = arcGroup.enter().append('g'),\n            arcPath = d3.arc().innerRadius(R - arc_width).outerRadius(R);\n          addedArcGroups.append('path').attr('class', 'box')\n            .attr('id', function(d, i) { return 'arc' + i; });\n          addedArcGroups.append('text').attr('class', 'label')\n            .attr('dy', arc_width*0.72).attr('class', 'label')\n            .append('textPath').attr('xlink:href', function(d, i) { return '#arc' + i });\n          var mergedArcGroups = addedArcGroups.merge(arcGroup);\n          BrunelD3.tween(mergedArcGroups, transitionMillis, function(d, i) { \n              var group = d3.select(this);\n              group.attr('transform', svgTrans);\n              return function() {\n                  group.select('path').attr('d', arcPath(d));\n                  group.select('textPath').text(d.name);\n                  BrunelD3.centerInWedge(group.select('text'), arc_width);\n              }\n          });\n\n          BrunelD3.transition(arcGroup.exit(), transitionMillis/3)\n            .style('opacity', 0.5).each( function() {\n              this.remove(); BrunelD3.removeLabels(this); \n          });\n          ;\n        }\n\n        // Define labeling for the selection\n        function label(selection, transitionMillis) {\n\n          var tooltipLabeling  = {\n            index: -1, method: 'poly', location: ['center', 'center'], inside: true, align: 'middle', pad: 0, dy: 0.3,\n            fit: true, granularity: 0,\n            content: function(d) {\n              return d.row == null ? null : '<span class=\"title\">Death Rate: </span>'\n\t\t\t+ '<span class=\"field\">' + data.DeathRate_f(d) + '</span>'\n\t\t\t+ '<br/>'\n\t\t\t+ '<span class=\"title\">PCT POP Less HSD: </span>'\n\t\t\t+ '<span class=\"field\">' + data.PCT_POP_less_HSD_f(d) + '</span>'\n\t\t\t+ '<br/>'\n\t\t\t+ '<span class=\"title\">PCT POP Some College: </span>'\n\t\t\t+ '<span class=\"field\">' + data.PCT_POP_some_college_f(d) + '</span>'\n\t\t\t+ '<br/>'\n\t\t\t+ '<span class=\"title\">PCT POP With BA: </span>'\n\t\t\t+ '<span class=\"field\">' + data.PCT_POP_with_BA_f(d) + '</span>'\n\t\t\t+ '<br/>'\n\t\t\t+ '<span class=\"title\">PCT POP With HSD: </span>'\n\t\t\t+ '<span class=\"field\">' + data.PCT_POP_with_HSD_f(d) + '</span>'\n\t\t\t+ '<br/>'\n\t\t\t+ '<span class=\"title\">Population: </span>'\n\t\t\t+ '<span class=\"field\">' + data.Population_f(d) + '</span>'\n\t\t\t+ '<br/>'\n\t\t\t+ '<span class=\"title\">Count: </span>'\n\t\t\t+ '<span class=\"field\">' + data.$count_f(d) + '</span>'\n            }\n          };\n          BrunelD3.addTooltip(selection, tooltipLabeling, geom);\n        }\n        // Create selections, set the initial state and transition updates\n        selection = main.selectAll('.element').data(chords.chords, function(d) { return d.source.index + '|' + d.target.index });\n        var added = selection.enter().append('path');\n        merged = selection.merge(added);\n        initialState(added);\n        selection.filter(BrunelD3.hasData)\n          .classed('selected', BrunelD3.isSelected(data))\n          .filter(BrunelD3.isSelected(data)).raise();\n        updateState(BrunelD3.transition(merged, transitionMillis));\n        label(merged, transitionMillis);\n\n        BrunelD3.transition(selection.exit(), transitionMillis/3)\n          .style('opacity', 0.5).each( function() {\n            this.remove(); BrunelD3.removeLabels(this); \n        });\n      }\n\n      return {\n        data:           function() { return processed },\n        original:       function() { return original },\n        internal:       function() { return data },\n        selection:      function() { return merged },\n        makeData:       makeData,\n        build:          build,\n        chart:          function() { return charts[0] },\n        group:          function() { return elementGroup },\n        fields: {\n          x:            ['DeathRate', 'PCT_POP_less_HSD', 'PCT_POP_some_college', 'PCT_POP_with_BA', \n              'PCT_POP_with_HSD'],\n          y:            ['Population'],\n          key:          ['DeathRate', 'PCT_POP_less_HSD', 'PCT_POP_some_college', 'PCT_POP_with_BA', \n              'PCT_POP_with_HSD', 'Population'],\n          color:        ['#count']\n        }\n      };\n    }();\n\n    function build(time, noData) {\n      var first = elements[0].data() == null;\n      if (first) time = 0;                                           // no transition for first call\n      if ((first || time > -1) && !noData) {\n        elements[0].makeData();\n        BrunelD3.addLegend(legends, legends._legend);\n      }\n      elements[0].build(time);\n    }\n\n    // Expose the following components of the chart\n    return {\n      elements : elements,\n      interior : interior,\n      zoom: function(params, time) {\n          if (params) zoom.on('zoom').call(zoomNode, params, time);\n          return d3.zoomTransform(zoomNode);\n      },\n      build : build\n    };\n    }();\n\n  function setData(rowData, i) { datasets[i||0] = BrunelD3.makeData(rowData) }\n  function updateAll(time) { charts.forEach(function(x) {x.build(time || 0)}) }\n  function buildAll() {\n    for (var i=0;i<arguments.length;i++) setData(arguments[i], i);\n    updateAll(transitionTime);\n  }\n\n  return {\n    dataPreProcess:     function(f) { if (f) pre = f; return pre },\n    dataPostProcess:    function(f) { if (f) post = f; return post },\n    data:               function(d,i) { if (d) setData(d,i); return datasets[i||0] },\n    visId:              visId,\n    build:              buildAll,\n    rebuild:            updateAll,\n    charts:             charts\n  }\n}\n\n// Data Tables /////////////////////////////////////////////////////////////////////////////////////\n\nvar table1 = {\n   summarized: false,\n   names: ['DeathRate', 'PCT_POP_less_HSD', 'PCT_POP_some_college', 'PCT_POP_with_BA', 'PCT_POP_with_HSD', 'Population'], \n   options: ['numeric', 'numeric', 'numeric', 'numeric', 'numeric', 'numeric'], \n   rows: [[0, 4.2, 29.4, 49.8, 16.7, 237031], [0, 4.4, 34.6, 28.8, 32.1, 240500],\n  [0, 6.7, 37.1, 26.4, 29.9, 343657], [0, 7.9, 34.2, 18.5, 39.3, 76415],\n  [0, 8, 26.6, 31, 34.4, 182175], [0, 8.6, 41.1, 18.9, 31.4, 81744],\n  [0, 9.2, 28.3, 20.6, 41.9, 174373], [0, 10, 28.6, 19.8, 41.6, 90333],\n  [0, 10.6, 39.5, 16.6, 33.3, 120825], [0, 11.4, 22.7, 14.7, 51.2, 228689],\n  [0, 11.9, 25.7, 21.4, 40.9, 57955], [0, 12.4, 28.7, 24.6, 34.3, 276918],\n  [0, 12.5, 32.6, 17.8, 37.2, 259979], [0, 12.6, 34.4, 18.4, 34.6, 148744],\n  [0, 12.8, 34.5, 18.5, 34.2, 103770], [0, 13.3, 22.1, 13.8, 50.8, 244236],\n  [0, 14.2, 40.2, 17.1, 28.4, 92527], [0, 14.3, 33, 17.1, 35.6, 130908],\n  [0, 14.6, 30.9, 18.4, 36.1, 255814], [0, 15, 25.8, 16.9, 42.3, 105571],\n  [0, 15.8, 29.8, 20.1, 34.3, 72847], [0, 15.9, 27.5, 18.3, 38.2, 106591],\n  [0, 16.9, 24.4, 10.7, 47.9, 80070], [0, 17.2, 27.6, 15.5, 39.7, 141556],\n  [0, 17.4, 34.4, 17, 31.2, 294845], [0, 18.4, 28.8, 18.6, 34.3, 91452],\n  [0, 18.7, 31.4, 14, 36, 129845], [0, 20.3, 27.4, 15.6, 36.7, 171650],\n  [0, 20.5, 24.6, 12.1, 42.8, 155778], [0, 21.6, 29.1, 18.7, 30.5, 235161],\n  [0, 26.1, 18.7, 9.2, 46, 44171], [0, 26.6, 26.5, 10.7, 36.2, 207318],\n  [2.2, 14.5, 28.7, 31.5, 25.4, 1135865], [4, 19.5, 25.5, 18.3, 36.7, 1009408],\n  [4.5, 8.5, 31.4, 34.5, 25.6, 620394], [5.2, 15.9, 33.5, 18.4, 32.3, 1015078],\n  [5.5, 8.3, 18.7, 60.3, 12.7, 5667950], [6.2, 8.9, 31, 23.9, 36.2, 677402],\n  [6.7, 10.4, 28.1, 43.1, 18.4, 5061452], [6.9, 6.9, 24.8, 57.1, 11.3, 1297056],\n  [6.9, 8.4, 31.1, 23.6, 36.9, 576217], [6.9, 31.1, 26.8, 13.6, 28.5, 518651],\n  [7, 13.4, 34.8, 25, 26.8, 1000188], [7.3, 8.9, 33.5, 26.5, 31.2, 410504],\n  [7.4, 11.8, 24.7, 46.4, 17, 5743564], [7.5, 8.3, 33.6, 22.6, 35.4, 334906],\n  [8.3, 8.3, 31.2, 35.6, 25, 2297005], [8.4, 8.7, 35.2, 23.2, 32.9, 449794],\n  [8.4, 12, 35.4, 24.5, 28, 510432], [8.5, 5.2, 32.5, 43, 19.3, 269985],\n  [8.5, 5.2, 40.2, 31.7, 22.8, 400482], [8.8, 12.3, 28.7, 29.1, 30, 604323],\n  [8.9, 6, 20.4, 51.9, 21.7, 2495055], [9.1, 26.2, 29.3, 11, 33.5, 372053],\n  [9.2, 7, 36.1, 33.3, 23.6, 855194], [9.5, 9.8, 35.6, 17.8, 36.9, 441428],\n  [9.6, 11.7, 25.7, 16.3, 46.2, 228402], [9.7, 11.5, 31.6, 29.5, 27.4, 1229065],\n  [9.9, 15.1, 37.2, 18.5, 29.2, 2003757], [10, 9.2, 29.4, 26.3, 35.1, 259255],\n  [10.2, 7.2, 34.9, 25, 32.9, 677193], [10.2, 11.9, 31.9, 15, 41.2, 206415],\n  [10.2, 12, 28.2, 38.9, 20.9, 263631], [10.4, 10.4, 30.1, 24.6, 34.8, 192982],\n  [10.5, 21.4, 22.3, 13.2, 43.2, 200724], [10.6, 9.3, 30.2, 17.1, 43.4, 244834],\n  [12.7, 7.2, 33.1, 27.4, 32.3, 772026], [12.7, 9.1, 32.5, 23.5, 34.9, 1067308],\n  [13.7, 16.7, 24.6, 17.5, 41.2, 168161], [13.8, 10, 26.3, 26.1, 37.6, 1064365],\n  [14.2, 6.6, 34.1, 35.8, 23.4, 2214018], [14.5, 7.2, 41.2, 27.6, 24, 760404],\n  [14.8, 7.2, 35.1, 22.7, 35, 283477], [15.1, 6.9, 27.9, 30.2, 34.9, 198493],\n  [15.4, 9.2, 30.6, 14.7, 45.5, 278564], [15.6, 19.4, 27.6, 13.3, 39.6, 185928],\n  [15.9, 9.3, 30.3, 42.7, 17.6, 3892163], [16.8, 11.5, 27.6, 27, 33.9, 190479],\n  [16.9, 10.1, 32.2, 15.4, 42.2, 338098], [17.8, 10.7, 33, 17.4, 38.9, 523646],\n  [17.9, 12.1, 30.3, 15.8, 41.8, 256807], [18.5, 11.5, 33.8, 20.7, 34, 975540],\n  [18.9, 9.4, 30.5, 20, 40.2, 248027], [19.1, 11.2, 30.9, 31.3, 26.6, 1231305],\n  [19.8, 12.7, 37.2, 14.1, 36, 101131], [20.6, 11.1, 32.8, 28.1, 28, 4502420],\n  [21.1, 16, 27.9, 14, 42.1, 156749], [21.7, 19.5, 24.7, 15.4, 40.4, 151883],\n  [22.8, 15.3, 28.7, 24.8, 31.1, 2176957], [23.3, 12.1, 33.6, 20.2, 34.1, 570553],\n  [23.3, 13.1, 28.8, 20.1, 38, 748218], [25.9, 14.7, 25.1, 12.4, 47.7, 220359],\n  [26.7, 14.5, 28.4, 24, 33.2, 378171], [27.6, 11.2, 33.3, 25.1, 30.4, 2175854],\n  [27.6, 12.3, 28.2, 21.6, 37.9, 343988], [33.4, 16.3, 27.2, 26.5, 30, 2773152],\n  [34.6, 23.1, 30.2, 13.8, 32.9, 344409], [40.1, 18.7, 18.1, 13.4, 49.9, 67404],\n  [42.8, 20.9, 25.9, 9, 44.1, 107394], [91.3, 22.6, 21.5, 8.2, 47.6, 112804]]\n};\n\n// Call Code to Build the system ///////////////////////////////////////////////////////////////////\n\nvar v  = new BrunelVis('visid5ba2a466-6a19-11ea-8c0a-9fcaf84ec0b2');\nvar eventHandler = BrunelEventHandlers( v);\neventHandler.make_filter_handler( {\"DeathRate\":{\"filter_type\":\"range\",\"datasetIndex\":0,\"filter\":{\"min\":0.0,\"max\":91.3}}});\nv.build(table1);\n\n// Create and wire controls ////////////////////////////////////////////////////////////////////////\n\n$(function() {\n  $( '#controlsid5ba2a600-6a19-11ea-8c0a-9fcaf84ec0b2').append( BrunelJQueryControlFactory .make_range_slider( 'visid5ba2a466-6a19-11ea-8c0a-9fcaf84ec0b2', 0, 'DeathRate', 'Death Rate', null, null, v.data(null, 0).field( 'DeathRate'), false, null, null));\n\n});\n\n    });\n});</script>\n        </div>",
                        "text/plain": "<IPython.core.display.HTML object>"
                    },
                    "metadata": {},
                    "output_type": "display_data"
                }
            ],
            "source": "display(Principal_data)"
        },
        {
            "cell_type": "markdown",
            "metadata": {},
            "source": "# Employment Data "
        },
        {
            "cell_type": "code",
            "execution_count": 23,
            "metadata": {},
            "outputs": [
                {
                    "data": {
                        "text/html": "<div>\n<style scoped>\n    .dataframe tbody tr th:only-of-type {\n        vertical-align: middle;\n    }\n\n    .dataframe tbody tr th {\n        vertical-align: top;\n    }\n\n    .dataframe thead th {\n        text-align: right;\n    }\n</style>\n<table border=\"1\" class=\"dataframe\">\n  <thead>\n    <tr style=\"text-align: right;\">\n      <th></th>\n      <th>fips</th>\n      <th>State</th>\n      <th>Area_name</th>\n      <th>Rural_urban_continuum_code_2013</th>\n      <th>Urban_influence_code_2013</th>\n      <th>Metro_2013</th>\n      <th>Civilian_labor_force_2016</th>\n      <th>Employed_2016</th>\n      <th>Unemployed_2016</th>\n      <th>Unemployment_rate_2016</th>\n      <th>Civilian_labor_force_2017</th>\n      <th>Employed_2017</th>\n      <th>Unemployed_2017</th>\n      <th>Unemployment_rate_2017</th>\n      <th>Median_Household_Income_2016</th>\n      <th>Med_HH_Income_Percent_of_State_Total_2016</th>\n    </tr>\n  </thead>\n  <tbody>\n    <tr>\n      <th>0</th>\n      <td>0</td>\n      <td>US</td>\n      <td>United States</td>\n      <td>NaN</td>\n      <td>NaN</td>\n      <td>NaN</td>\n      <td>158,921,892</td>\n      <td>151,183,680</td>\n      <td>7,738,212</td>\n      <td>4.9</td>\n      <td>160,588,515</td>\n      <td>153,594,100</td>\n      <td>6,994,415</td>\n      <td>4.4</td>\n      <td>$57,617</td>\n      <td>NaN</td>\n    </tr>\n    <tr>\n      <th>1</th>\n      <td>1000</td>\n      <td>AL</td>\n      <td>Alabama</td>\n      <td>NaN</td>\n      <td>NaN</td>\n      <td>NaN</td>\n      <td>2,173,175</td>\n      <td>2,045,624</td>\n      <td>127,551</td>\n      <td>5.9</td>\n      <td>2168444</td>\n      <td>2073106</td>\n      <td>95338</td>\n      <td>4.4</td>\n      <td>$46,309</td>\n      <td>100.0</td>\n    </tr>\n    <tr>\n      <th>2</th>\n      <td>1001</td>\n      <td>AL</td>\n      <td>Autauga County, AL</td>\n      <td>2.0</td>\n      <td>2.0</td>\n      <td>1.0</td>\n      <td>25,918</td>\n      <td>24,593</td>\n      <td>1,325</td>\n      <td>5.1</td>\n      <td>25909</td>\n      <td>24908</td>\n      <td>1001</td>\n      <td>3.9</td>\n      <td>$54,487</td>\n      <td>117.7</td>\n    </tr>\n    <tr>\n      <th>3</th>\n      <td>1003</td>\n      <td>AL</td>\n      <td>Baldwin County, AL</td>\n      <td>3.0</td>\n      <td>2.0</td>\n      <td>1.0</td>\n      <td>90,500</td>\n      <td>85,656</td>\n      <td>4,844</td>\n      <td>5.4</td>\n      <td>91567</td>\n      <td>87915</td>\n      <td>3652</td>\n      <td>4.0</td>\n      <td>$56,460</td>\n      <td>121.9</td>\n    </tr>\n    <tr>\n      <th>4</th>\n      <td>1005</td>\n      <td>AL</td>\n      <td>Barbour County, AL</td>\n      <td>6.0</td>\n      <td>6.0</td>\n      <td>0.0</td>\n      <td>8,402</td>\n      <td>7,700</td>\n      <td>702</td>\n      <td>8.4</td>\n      <td>8236</td>\n      <td>7750</td>\n      <td>486</td>\n      <td>5.9</td>\n      <td>$32,884</td>\n      <td>71.0</td>\n    </tr>\n  </tbody>\n</table>\n</div>",
                        "text/plain": "   fips State           Area_name  Rural_urban_continuum_code_2013  \\\n0     0    US       United States                              NaN   \n1  1000    AL             Alabama                              NaN   \n2  1001    AL  Autauga County, AL                              2.0   \n3  1003    AL  Baldwin County, AL                              3.0   \n4  1005    AL  Barbour County, AL                              6.0   \n\n   Urban_influence_code_2013  Metro_2013  Civilian_labor_force_2016   \\\n0                        NaN         NaN                 158,921,892   \n1                        NaN         NaN                   2,173,175   \n2                        2.0         1.0                      25,918   \n3                        2.0         1.0                      90,500   \n4                        6.0         0.0                       8,402   \n\n   Employed_2016   Unemployed_2016   Unemployment_rate_2016  \\\n0     151,183,680         7,738,212                     4.9   \n1       2,045,624           127,551                     5.9   \n2          24,593             1,325                     5.1   \n3          85,656             4,844                     5.4   \n4           7,700               702                     8.4   \n\n  Civilian_labor_force_2017 Employed_2017 Unemployed_2017  \\\n0               160,588,515   153,594,100       6,994,415   \n1                   2168444       2073106           95338   \n2                     25909         24908            1001   \n3                     91567         87915            3652   \n4                      8236          7750             486   \n\n   Unemployment_rate_2017 Median_Household_Income_2016  \\\n0                     4.4                     $57,617    \n1                     4.4                     $46,309    \n2                     3.9                     $54,487    \n3                     4.0                     $56,460    \n4                     5.9                     $32,884    \n\n   Med_HH_Income_Percent_of_State_Total_2016  \n0                                        NaN  \n1                                      100.0  \n2                                      117.7  \n3                                      121.9  \n4                                       71.0  "
                    },
                    "execution_count": 23,
                    "metadata": {},
                    "output_type": "execute_result"
                }
            ],
            "source": "# define filename\nDATA_PATH = 'Unemployment_clean.csv'\n\n# Using pandas to read the data \ndata_path = get_file_handle(DATA_PATH)\nUnemployment_data = pd.read_csv(data_path)\nUnemployment_data.rename(columns = {\"FIPStxt\":\"fips\"}, inplace = True)\nUnemployment_data.fips = Unemployment_data.fips.astype(\"int\")\n# Display the first five rows\nUnemployment_data.head()"
        },
        {
            "cell_type": "code",
            "execution_count": 24,
            "metadata": {},
            "outputs": [],
            "source": "Principal_data = pd.merge(Principal_data,Unemployment_data, on=\"fips\")"
        },
        {
            "cell_type": "code",
            "execution_count": 25,
            "metadata": {},
            "outputs": [
                {
                    "data": {
                        "text/plain": "Index(['County', 'fips', 'Deaths', 'Population', 'DeathRate', 'Crisis',\n       'State_x', 'area', 'PCT_POP_less_HSD', 'PCT_POP_with_HSD',\n       'PCT_POP_some_college', 'PCT_POP_with_BA', 'State_y', 'Area_name',\n       'Rural_urban_continuum_code_2013', 'Urban_influence_code_2013',\n       'Metro_2013', ' Civilian_labor_force_2016 ', ' Employed_2016 ',\n       ' Unemployed_2016 ', 'Unemployment_rate_2016',\n       'Civilian_labor_force_2017', 'Employed_2017', 'Unemployed_2017',\n       'Unemployment_rate_2017', 'Median_Household_Income_2016',\n       'Med_HH_Income_Percent_of_State_Total_2016'],\n      dtype='object')"
                    },
                    "execution_count": 25,
                    "metadata": {},
                    "output_type": "execute_result"
                }
            ],
            "source": "Principal_data.columns"
        },
        {
            "cell_type": "code",
            "execution_count": 26,
            "metadata": {},
            "outputs": [],
            "source": "Principal_data = Principal_data.drop(['State_y','Area_name', 'Civilian_labor_force_2017','Employed_2017','Unemployment_rate_2017','Unemployed_2017',' Civilian_labor_force_2016 ', ' Employed_2016 ',\n       ' Unemployed_2016 ',], axis= 1)\nPrincipal_data.rename(columns = {'State_x':'state','Unemployment_rate_2016':'unemployment_rate','Median_Household_Income_2016':'HH_income',\n                                'Med_HH_Income_Percent_of_State_Total_2016':'HH_income_PCT' },inplace = True )\n"
        },
        {
            "cell_type": "code",
            "execution_count": 27,
            "metadata": {},
            "outputs": [
                {
                    "data": {
                        "text/plain": "Index(['County', 'fips', 'Deaths', 'Population', 'DeathRate', 'Crisis',\n       'state', 'area', 'PCT_POP_less_HSD', 'PCT_POP_with_HSD',\n       'PCT_POP_some_college', 'PCT_POP_with_BA',\n       'Rural_urban_continuum_code_2013', 'Urban_influence_code_2013',\n       'Metro_2013', 'unemployment_rate', 'HH_income', 'HH_income_PCT'],\n      dtype='object')"
                    },
                    "execution_count": 27,
                    "metadata": {},
                    "output_type": "execute_result"
                }
            ],
            "source": "Principal_data.columns"
        },
        {
            "cell_type": "code",
            "execution_count": 28,
            "metadata": {},
            "outputs": [
                {
                    "data": {
                        "text/html": "<div>\n<style scoped>\n    .dataframe tbody tr th:only-of-type {\n        vertical-align: middle;\n    }\n\n    .dataframe tbody tr th {\n        vertical-align: top;\n    }\n\n    .dataframe thead th {\n        text-align: right;\n    }\n</style>\n<table border=\"1\" class=\"dataframe\">\n  <thead>\n    <tr style=\"text-align: right;\">\n      <th></th>\n      <th>state</th>\n      <th>area</th>\n      <th>fips</th>\n      <th>Deaths</th>\n      <th>Population</th>\n      <th>DeathRate</th>\n      <th>PCT_POP_less_HSD</th>\n      <th>PCT_POP_with_HSD</th>\n      <th>PCT_POP_some_college</th>\n      <th>PCT_POP_with_BA</th>\n      <th>Rural_urban_continuum_code_2013</th>\n      <th>Urban_influence_code_2013</th>\n      <th>Metro_2013</th>\n      <th>unemployment_rate</th>\n      <th>HH_income</th>\n      <th>HH_income_PCT</th>\n      <th>Crisis</th>\n    </tr>\n  </thead>\n  <tbody>\n    <tr>\n      <th>0</th>\n      <td>WV</td>\n      <td>Wyoming County</td>\n      <td>54109</td>\n      <td>103</td>\n      <td>112804</td>\n      <td>91.3</td>\n      <td>22.6</td>\n      <td>47.6</td>\n      <td>21.5</td>\n      <td>8.2</td>\n      <td>6.0</td>\n      <td>7.0</td>\n      <td>0.0</td>\n      <td>10.2</td>\n      <td>$36,018</td>\n      <td>83.4</td>\n      <td>1</td>\n    </tr>\n    <tr>\n      <th>1</th>\n      <td>WV</td>\n      <td>Boone County</td>\n      <td>54005</td>\n      <td>94</td>\n      <td>118604</td>\n      <td>79.3</td>\n      <td>20.8</td>\n      <td>50.5</td>\n      <td>20.0</td>\n      <td>8.7</td>\n      <td>3.0</td>\n      <td>2.0</td>\n      <td>1.0</td>\n      <td>9.1</td>\n      <td>$36,313</td>\n      <td>84.1</td>\n      <td>1</td>\n    </tr>\n    <tr>\n      <th>2</th>\n      <td>WV</td>\n      <td>McDowell County</td>\n      <td>54047</td>\n      <td>79</td>\n      <td>101626</td>\n      <td>77.7</td>\n      <td>35.1</td>\n      <td>44.9</td>\n      <td>14.8</td>\n      <td>5.2</td>\n      <td>7.0</td>\n      <td>10.0</td>\n      <td>0.0</td>\n      <td>12.2</td>\n      <td>$24,460</td>\n      <td>56.7</td>\n      <td>1</td>\n    </tr>\n    <tr>\n      <th>3</th>\n      <td>WV</td>\n      <td>Mingo County</td>\n      <td>54059</td>\n      <td>95</td>\n      <td>127658</td>\n      <td>74.4</td>\n      <td>26.1</td>\n      <td>41.2</td>\n      <td>22.8</td>\n      <td>9.9</td>\n      <td>7.0</td>\n      <td>9.0</td>\n      <td>0.0</td>\n      <td>12.6</td>\n      <td>$30,638</td>\n      <td>71.0</td>\n      <td>1</td>\n    </tr>\n    <tr>\n      <th>4</th>\n      <td>NM</td>\n      <td>Rio Arriba County</td>\n      <td>35039</td>\n      <td>148</td>\n      <td>199672</td>\n      <td>74.1</td>\n      <td>15.8</td>\n      <td>33.0</td>\n      <td>33.1</td>\n      <td>18.1</td>\n      <td>4.0</td>\n      <td>5.0</td>\n      <td>0.0</td>\n      <td>7.5</td>\n      <td>$37,174</td>\n      <td>79.4</td>\n      <td>1</td>\n    </tr>\n  </tbody>\n</table>\n</div>",
                        "text/plain": "  state               area   fips  Deaths  Population  DeathRate  \\\n0    WV     Wyoming County  54109     103      112804       91.3   \n1    WV       Boone County  54005      94      118604       79.3   \n2    WV    McDowell County  54047      79      101626       77.7   \n3    WV       Mingo County  54059      95      127658       74.4   \n4    NM  Rio Arriba County  35039     148      199672       74.1   \n\n   PCT_POP_less_HSD  PCT_POP_with_HSD  PCT_POP_some_college  PCT_POP_with_BA  \\\n0              22.6              47.6                  21.5              8.2   \n1              20.8              50.5                  20.0              8.7   \n2              35.1              44.9                  14.8              5.2   \n3              26.1              41.2                  22.8              9.9   \n4              15.8              33.0                  33.1             18.1   \n\n   Rural_urban_continuum_code_2013  Urban_influence_code_2013  Metro_2013  \\\n0                              6.0                        7.0         0.0   \n1                              3.0                        2.0         1.0   \n2                              7.0                       10.0         0.0   \n3                              7.0                        9.0         0.0   \n4                              4.0                        5.0         0.0   \n\n   unemployment_rate HH_income  HH_income_PCT  Crisis  \n0               10.2  $36,018            83.4       1  \n1                9.1  $36,313            84.1       1  \n2               12.2  $24,460            56.7       1  \n3               12.6  $30,638            71.0       1  \n4                7.5  $37,174            79.4       1  "
                    },
                    "execution_count": 28,
                    "metadata": {},
                    "output_type": "execute_result"
                }
            ],
            "source": "column_order = ['state','area','County','fips','Deaths','Population', 'DeathRate', 'PCT_POP_less_HSD', 'PCT_POP_with_HSD',\n       'PCT_POP_some_college', 'PCT_POP_with_BA',\n       'Rural_urban_continuum_code_2013', 'Urban_influence_code_2013',\n       'Metro_2013','unemployment_rate', 'HH_income', 'HH_income_PCT','Crisis']\nPrincipal_data = Principal_data[column_order]\nPrincipal_data.drop('County',axis = 1 , inplace = True)\nPrincipal_data.head()"
        },
        {
            "cell_type": "markdown",
            "metadata": {},
            "source": "# Pverty Estimates Data"
        },
        {
            "cell_type": "code",
            "execution_count": 29,
            "metadata": {},
            "outputs": [
                {
                    "data": {
                        "text/html": "<div>\n<style scoped>\n    .dataframe tbody tr th:only-of-type {\n        vertical-align: middle;\n    }\n\n    .dataframe tbody tr th {\n        vertical-align: top;\n    }\n\n    .dataframe thead th {\n        text-align: right;\n    }\n</style>\n<table border=\"1\" class=\"dataframe\">\n  <thead>\n    <tr style=\"text-align: right;\">\n      <th></th>\n      <th>fips</th>\n      <th>State</th>\n      <th>Area_Name</th>\n      <th>PCTPOVALL_2016</th>\n      <th>PCTPOV017_2016</th>\n      <th>PCTPOV517_2016</th>\n    </tr>\n  </thead>\n  <tbody>\n    <tr>\n      <th>0</th>\n      <td>0</td>\n      <td>US</td>\n      <td>United States</td>\n      <td>14.0</td>\n      <td>20.0</td>\n      <td>18.0</td>\n    </tr>\n    <tr>\n      <th>1</th>\n      <td>1000</td>\n      <td>AL</td>\n      <td>Alabama</td>\n      <td>17.0</td>\n      <td>25.0</td>\n      <td>24.0</td>\n    </tr>\n    <tr>\n      <th>2</th>\n      <td>1001</td>\n      <td>AL</td>\n      <td>Autauga County</td>\n      <td>14.0</td>\n      <td>19.0</td>\n      <td>18.0</td>\n    </tr>\n    <tr>\n      <th>3</th>\n      <td>1003</td>\n      <td>AL</td>\n      <td>Baldwin County</td>\n      <td>12.0</td>\n      <td>18.0</td>\n      <td>17.0</td>\n    </tr>\n    <tr>\n      <th>4</th>\n      <td>1005</td>\n      <td>AL</td>\n      <td>Barbour County</td>\n      <td>30.0</td>\n      <td>40.0</td>\n      <td>37.0</td>\n    </tr>\n  </tbody>\n</table>\n</div>",
                        "text/plain": "   fips State       Area_Name  PCTPOVALL_2016  PCTPOV017_2016  PCTPOV517_2016\n0     0    US   United States            14.0            20.0            18.0\n1  1000    AL         Alabama            17.0            25.0            24.0\n2  1001    AL  Autauga County            14.0            19.0            18.0\n3  1003    AL  Baldwin County            12.0            18.0            17.0\n4  1005    AL  Barbour County            30.0            40.0            37.0"
                    },
                    "execution_count": 29,
                    "metadata": {},
                    "output_type": "execute_result"
                }
            ],
            "source": "# define filename\nDATA_PATH = 'PovertyEstimates_clean.csv'\n\n# Using pandas to read the data \ndata_path = get_file_handle(DATA_PATH)\nPoverty_data = pd.read_csv(data_path)\nPoverty_data.rename(columns = {\"FIPStxt\":\"fips\"}, inplace = True)\nPoverty_data.fips = Poverty_data.fips.astype(\"int\")\nPoverty_data.drop(['POVALL_2016','POV017_2016','POV517_2016'], axis = 1, inplace = True)\n\n# Display the first five rows\nPoverty_data.head()\n\n"
        },
        {
            "cell_type": "code",
            "execution_count": 30,
            "metadata": {},
            "outputs": [],
            "source": "Principal_data = pd.merge(Principal_data,Poverty_data, on=\"fips\")"
        },
        {
            "cell_type": "code",
            "execution_count": 31,
            "metadata": {},
            "outputs": [
                {
                    "data": {
                        "text/plain": "Index(['state', 'area', 'fips', 'Deaths', 'Population', 'DeathRate',\n       'PCT_POP_less_HSD', 'PCT_POP_with_HSD', 'PCT_POP_some_college',\n       'PCT_POP_with_BA', 'Rural_urban_continuum_code_2013',\n       'Urban_influence_code_2013', 'Metro_2013', 'unemployment_rate',\n       'HH_income', 'HH_income_PCT', 'Crisis', 'State', 'Area_Name',\n       'PCTPOVALL_2016', 'PCTPOV017_2016', 'PCTPOV517_2016'],\n      dtype='object')"
                    },
                    "execution_count": 31,
                    "metadata": {},
                    "output_type": "execute_result"
                }
            ],
            "source": "Principal_data.columns"
        },
        {
            "cell_type": "code",
            "execution_count": 32,
            "metadata": {},
            "outputs": [],
            "source": "Principal_data.drop(['State', 'Area_Name'],axis =1, inplace = True)"
        },
        {
            "cell_type": "code",
            "execution_count": 33,
            "metadata": {},
            "outputs": [],
            "source": "column_order = ['state', 'area', 'fips', 'Deaths', 'Population', 'DeathRate',\n       'PCT_POP_less_HSD', 'PCT_POP_with_HSD', 'PCT_POP_some_college',\n       'PCT_POP_with_BA', 'Rural_urban_continuum_code_2013',\n       'Urban_influence_code_2013', 'Metro_2013', 'unemployment_rate', 'HH_income',\n       'HH_income_PCT', 'PCTPOVALL_2016', 'PCTPOV017_2016',\n       'PCTPOV517_2016','Crisis']\nPrincipal_data = Principal_data[column_order ]\n"
        },
        {
            "cell_type": "code",
            "execution_count": 34,
            "metadata": {},
            "outputs": [],
            "source": "Principal_data.HH_income = Principal_data.HH_income.str.replace(\"$\",'')\nPrincipal_data.HH_income = Principal_data.HH_income.str.replace(\",\",'')"
        },
        {
            "cell_type": "code",
            "execution_count": 35,
            "metadata": {},
            "outputs": [],
            "source": "Principal_data[\"HH_income\"] = Principal_data.HH_income .astype(\"float64\")"
        },
        {
            "cell_type": "code",
            "execution_count": 36,
            "metadata": {},
            "outputs": [
                {
                    "data": {
                        "text/html": "<div>\n<style scoped>\n    .dataframe tbody tr th:only-of-type {\n        vertical-align: middle;\n    }\n\n    .dataframe tbody tr th {\n        vertical-align: top;\n    }\n\n    .dataframe thead th {\n        text-align: right;\n    }\n</style>\n<table border=\"1\" class=\"dataframe\">\n  <thead>\n    <tr style=\"text-align: right;\">\n      <th></th>\n      <th>state</th>\n      <th>area</th>\n      <th>fips</th>\n      <th>Deaths</th>\n      <th>Population</th>\n      <th>DeathRate</th>\n      <th>PCT_POP_less_HSD</th>\n      <th>PCT_POP_with_HSD</th>\n      <th>PCT_POP_some_college</th>\n      <th>PCT_POP_with_BA</th>\n      <th>Rural_urban_continuum_code_2013</th>\n      <th>Urban_influence_code_2013</th>\n      <th>Metro_2013</th>\n      <th>unemployment_rate</th>\n      <th>HH_income</th>\n      <th>HH_income_PCT</th>\n      <th>PCTPOVALL_2016</th>\n      <th>PCTPOV017_2016</th>\n      <th>PCTPOV517_2016</th>\n      <th>Crisis</th>\n    </tr>\n  </thead>\n  <tbody>\n    <tr>\n      <th>0</th>\n      <td>WV</td>\n      <td>Wyoming County</td>\n      <td>54109</td>\n      <td>103</td>\n      <td>112804</td>\n      <td>91.3</td>\n      <td>22.6</td>\n      <td>47.6</td>\n      <td>21.5</td>\n      <td>8.2</td>\n      <td>6.0</td>\n      <td>7.0</td>\n      <td>0.0</td>\n      <td>10.2</td>\n      <td>36018.0</td>\n      <td>83.4</td>\n      <td>24.0</td>\n      <td>31.0</td>\n      <td>28.0</td>\n      <td>1</td>\n    </tr>\n    <tr>\n      <th>1</th>\n      <td>WV</td>\n      <td>Boone County</td>\n      <td>54005</td>\n      <td>94</td>\n      <td>118604</td>\n      <td>79.3</td>\n      <td>20.8</td>\n      <td>50.5</td>\n      <td>20.0</td>\n      <td>8.7</td>\n      <td>3.0</td>\n      <td>2.0</td>\n      <td>1.0</td>\n      <td>9.1</td>\n      <td>36313.0</td>\n      <td>84.1</td>\n      <td>24.0</td>\n      <td>30.0</td>\n      <td>28.0</td>\n      <td>1</td>\n    </tr>\n    <tr>\n      <th>2</th>\n      <td>WV</td>\n      <td>McDowell County</td>\n      <td>54047</td>\n      <td>79</td>\n      <td>101626</td>\n      <td>77.7</td>\n      <td>35.1</td>\n      <td>44.9</td>\n      <td>14.8</td>\n      <td>5.2</td>\n      <td>7.0</td>\n      <td>10.0</td>\n      <td>0.0</td>\n      <td>12.2</td>\n      <td>24460.0</td>\n      <td>56.7</td>\n      <td>36.0</td>\n      <td>44.0</td>\n      <td>42.0</td>\n      <td>1</td>\n    </tr>\n    <tr>\n      <th>3</th>\n      <td>WV</td>\n      <td>Mingo County</td>\n      <td>54059</td>\n      <td>95</td>\n      <td>127658</td>\n      <td>74.4</td>\n      <td>26.1</td>\n      <td>41.2</td>\n      <td>22.8</td>\n      <td>9.9</td>\n      <td>7.0</td>\n      <td>9.0</td>\n      <td>0.0</td>\n      <td>12.6</td>\n      <td>30638.0</td>\n      <td>71.0</td>\n      <td>28.0</td>\n      <td>37.0</td>\n      <td>36.0</td>\n      <td>1</td>\n    </tr>\n    <tr>\n      <th>4</th>\n      <td>NM</td>\n      <td>Rio Arriba County</td>\n      <td>35039</td>\n      <td>148</td>\n      <td>199672</td>\n      <td>74.1</td>\n      <td>15.8</td>\n      <td>33.0</td>\n      <td>33.1</td>\n      <td>18.1</td>\n      <td>4.0</td>\n      <td>5.0</td>\n      <td>0.0</td>\n      <td>7.5</td>\n      <td>37174.0</td>\n      <td>79.4</td>\n      <td>23.0</td>\n      <td>28.0</td>\n      <td>29.0</td>\n      <td>1</td>\n    </tr>\n  </tbody>\n</table>\n</div>",
                        "text/plain": "  state               area   fips  Deaths  Population  DeathRate  \\\n0    WV     Wyoming County  54109     103      112804       91.3   \n1    WV       Boone County  54005      94      118604       79.3   \n2    WV    McDowell County  54047      79      101626       77.7   \n3    WV       Mingo County  54059      95      127658       74.4   \n4    NM  Rio Arriba County  35039     148      199672       74.1   \n\n   PCT_POP_less_HSD  PCT_POP_with_HSD  PCT_POP_some_college  PCT_POP_with_BA  \\\n0              22.6              47.6                  21.5              8.2   \n1              20.8              50.5                  20.0              8.7   \n2              35.1              44.9                  14.8              5.2   \n3              26.1              41.2                  22.8              9.9   \n4              15.8              33.0                  33.1             18.1   \n\n   Rural_urban_continuum_code_2013  Urban_influence_code_2013  Metro_2013  \\\n0                              6.0                        7.0         0.0   \n1                              3.0                        2.0         1.0   \n2                              7.0                       10.0         0.0   \n3                              7.0                        9.0         0.0   \n4                              4.0                        5.0         0.0   \n\n   unemployment_rate  HH_income  HH_income_PCT  PCTPOVALL_2016  \\\n0               10.2    36018.0           83.4            24.0   \n1                9.1    36313.0           84.1            24.0   \n2               12.2    24460.0           56.7            36.0   \n3               12.6    30638.0           71.0            28.0   \n4                7.5    37174.0           79.4            23.0   \n\n   PCTPOV017_2016  PCTPOV517_2016  Crisis  \n0            31.0            28.0       1  \n1            30.0            28.0       1  \n2            44.0            42.0       1  \n3            37.0            36.0       1  \n4            28.0            29.0       1  "
                    },
                    "execution_count": 36,
                    "metadata": {},
                    "output_type": "execute_result"
                }
            ],
            "source": "Principal_data.head()"
        },
        {
            "cell_type": "code",
            "execution_count": 37,
            "metadata": {},
            "outputs": [
                {
                    "data": {
                        "text/plain": "state                               object\narea                                object\nfips                                 int64\nDeaths                               int64\nPopulation                           int64\nDeathRate                          float64\nPCT_POP_less_HSD                   float64\nPCT_POP_with_HSD                   float64\nPCT_POP_some_college               float64\nPCT_POP_with_BA                    float64\nRural_urban_continuum_code_2013    float64\nUrban_influence_code_2013          float64\nMetro_2013                         float64\nunemployment_rate                  float64\nHH_income                          float64\nHH_income_PCT                      float64\nPCTPOVALL_2016                     float64\nPCTPOV017_2016                     float64\nPCTPOV517_2016                     float64\nCrisis                               int64\ndtype: object"
                    },
                    "execution_count": 37,
                    "metadata": {},
                    "output_type": "execute_result"
                }
            ],
            "source": "Principal_data.dtypes\n"
        },
        {
            "cell_type": "code",
            "execution_count": 39,
            "metadata": {},
            "outputs": [],
            "source": "#Principal_data = Principal_data.loc[:,~Principal_data.columns.duplicated()]"
        },
        {
            "cell_type": "markdown",
            "metadata": {},
            "source": "# Principal Data Dictonary"
        },
        {
            "cell_type": "markdown",
            "metadata": {},
            "source": "'state': = State Abbreviation\n\n'area': = County Name; Note: These are only counties that have at least 1 instance of opioid use from 2012 - 2016\n\n'fips': Federal Information Processing Standards code which uniquely identifies counties in the United States\n\n'deaths': The number of deaths officially attributed at least in part to ICD-10 codes relating to opiate abuse\n\n'population': Population of the county\n\n'death_rate': Crude Rate = Death Count / County Population * 100,000\n\n'PCT_POP_less_HSD ': Percentage of the population of the county with less education than a high school diploma\n\n'PCT_POP_with_HSD  ': Percentage of the population of the county with only a high school diploma\n\n'PCT_POP_some_college ': Percentage of the population of the county that has attended but not completed college\n\n'PCT_POP_with_BA': Percentage of the population of the county with a college degree\n\n'Rural_urban_continuum_code_2013': A classification scheme that distinguishes metropolitan counties by the population size of their metro area, and nonmetropolitan counties by degree of urbanization and adjacency to a metro area; Scaled 1-9\n\n'Urban_influence_code_2013': A classification scheme that distinguishes metropolitan counties by population size of their metro area, and nonmetropolitan counties by size of the largest city or town and proximity to metro and micropolitan areas; Scaled 1-12\n\n'Metro_2013': A dummy variable that classifies the county as metropolitan (1) or rural (0)\n\n'unemployment_rate': Rate of unemployment in 2016\n\n'HH_income': Median county household income in 2016\n\n'HH_income_pct': County Household Median Income as a percent of the State Total Median Household Income\n\n'PCTPOVALL_2016': Estimate of people of all ages in poverty in 2016\n\n'PCTPOV017_2016': Estimate of people age 0-17 in poverty 2016\n\n'PCTPOV517_2016': Estimate of people age 5-17 in poverty 2016\n\n'crisis': Boolean response variable indicating whether the level of opioid use is categorized as a crisis (1) or not (0). Note: this classification is based on our 90% thresholding."
        },
        {
            "cell_type": "code",
            "execution_count": null,
            "metadata": {},
            "outputs": [],
            "source": "predictions.to_csv('regression_submission.csv', index=False)"
        },
        {
            "cell_type": "markdown",
            "metadata": {},
            "source": "# Scaling and Normalazing Principla Data"
        },
        {
            "cell_type": "code",
            "execution_count": 40,
            "metadata": {},
            "outputs": [],
            "source": "RUCC = pd.get_dummies(Principal_data['Rural_urban_continuum_code_2013'], prefix = 'RUCC')\nUIC = pd.get_dummies(Principal_data['Urban_influence_code_2013'], prefix = 'UIC')\n\nNorm_Principal_data = pd.concat([Principal_data,RUCC,UIC], axis = 1)"
        },
        {
            "cell_type": "code",
            "execution_count": 41,
            "metadata": {},
            "outputs": [
                {
                    "data": {
                        "text/plain": "Index(['state', 'area', 'fips', 'Deaths', 'Population', 'DeathRate',\n       'PCT_POP_less_HSD', 'PCT_POP_with_HSD', 'PCT_POP_some_college',\n       'PCT_POP_with_BA', 'Metro_2013', 'unemployment_rate', 'HH_income',\n       'HH_income_PCT', 'PCTPOVALL_2016', 'PCTPOV017_2016', 'PCTPOV517_2016',\n       'Crisis', 'RUCC_1.0', 'RUCC_2.0', 'RUCC_3.0', 'RUCC_4.0', 'RUCC_5.0',\n       'RUCC_6.0', 'RUCC_7.0', 'RUCC_8.0', 'RUCC_9.0', 'UIC_1.0', 'UIC_2.0',\n       'UIC_3.0', 'UIC_4.0', 'UIC_5.0', 'UIC_6.0', 'UIC_7.0', 'UIC_8.0',\n       'UIC_9.0', 'UIC_10.0', 'UIC_11.0', 'UIC_12.0'],\n      dtype='object')"
                    },
                    "execution_count": 41,
                    "metadata": {},
                    "output_type": "execute_result"
                }
            ],
            "source": "Norm_Principal_data = Norm_Principal_data.drop (['Rural_urban_continuum_code_2013','Urban_influence_code_2013'], axis = 1)\nNorm_Principal_data.columns"
        },
        {
            "cell_type": "code",
            "execution_count": 42,
            "metadata": {},
            "outputs": [],
            "source": "from sklearn import preprocessing as pp"
        },
        {
            "cell_type": "code",
            "execution_count": 43,
            "metadata": {},
            "outputs": [
                {
                    "data": {
                        "text/html": "<div>\n<style scoped>\n    .dataframe tbody tr th:only-of-type {\n        vertical-align: middle;\n    }\n\n    .dataframe tbody tr th {\n        vertical-align: top;\n    }\n\n    .dataframe thead th {\n        text-align: right;\n    }\n</style>\n<table border=\"1\" class=\"dataframe\">\n  <thead>\n    <tr style=\"text-align: right;\">\n      <th></th>\n      <th>state</th>\n      <th>area</th>\n      <th>fips</th>\n      <th>Deaths</th>\n      <th>Population</th>\n      <th>DeathRate</th>\n      <th>PCT_POP_less_HSD</th>\n      <th>PCT_POP_with_HSD</th>\n      <th>PCT_POP_some_college</th>\n      <th>PCT_POP_with_BA</th>\n      <th>...</th>\n      <th>UIC_3.0</th>\n      <th>UIC_4.0</th>\n      <th>UIC_5.0</th>\n      <th>UIC_6.0</th>\n      <th>UIC_7.0</th>\n      <th>UIC_8.0</th>\n      <th>UIC_9.0</th>\n      <th>UIC_10.0</th>\n      <th>UIC_11.0</th>\n      <th>UIC_12.0</th>\n    </tr>\n  </thead>\n  <tbody>\n    <tr>\n      <th>0</th>\n      <td>WV</td>\n      <td>Wyoming County</td>\n      <td>54109</td>\n      <td>103</td>\n      <td>112804</td>\n      <td>91.3</td>\n      <td>1.631471</td>\n      <td>1.931206</td>\n      <td>-1.784319</td>\n      <td>-1.493169</td>\n      <td>...</td>\n      <td>0</td>\n      <td>0</td>\n      <td>0</td>\n      <td>0</td>\n      <td>1</td>\n      <td>0</td>\n      <td>0</td>\n      <td>0</td>\n      <td>0</td>\n      <td>0</td>\n    </tr>\n    <tr>\n      <th>1</th>\n      <td>WV</td>\n      <td>Boone County</td>\n      <td>54005</td>\n      <td>94</td>\n      <td>118604</td>\n      <td>79.3</td>\n      <td>1.311588</td>\n      <td>2.315505</td>\n      <td>-2.093279</td>\n      <td>-1.444026</td>\n      <td>...</td>\n      <td>0</td>\n      <td>0</td>\n      <td>0</td>\n      <td>0</td>\n      <td>0</td>\n      <td>0</td>\n      <td>0</td>\n      <td>0</td>\n      <td>0</td>\n      <td>0</td>\n    </tr>\n    <tr>\n      <th>2</th>\n      <td>WV</td>\n      <td>McDowell County</td>\n      <td>54047</td>\n      <td>79</td>\n      <td>101626</td>\n      <td>77.7</td>\n      <td>3.852880</td>\n      <td>1.573410</td>\n      <td>-3.164339</td>\n      <td>-1.788028</td>\n      <td>...</td>\n      <td>0</td>\n      <td>0</td>\n      <td>0</td>\n      <td>0</td>\n      <td>0</td>\n      <td>0</td>\n      <td>0</td>\n      <td>1</td>\n      <td>0</td>\n      <td>0</td>\n    </tr>\n    <tr>\n      <th>3</th>\n      <td>WV</td>\n      <td>Mingo County</td>\n      <td>54059</td>\n      <td>95</td>\n      <td>127658</td>\n      <td>74.4</td>\n      <td>2.253466</td>\n      <td>1.083097</td>\n      <td>-1.516554</td>\n      <td>-1.326082</td>\n      <td>...</td>\n      <td>0</td>\n      <td>0</td>\n      <td>0</td>\n      <td>0</td>\n      <td>0</td>\n      <td>0</td>\n      <td>1</td>\n      <td>0</td>\n      <td>0</td>\n      <td>0</td>\n    </tr>\n    <tr>\n      <th>4</th>\n      <td>NM</td>\n      <td>Rio Arriba County</td>\n      <td>35039</td>\n      <td>148</td>\n      <td>199672</td>\n      <td>74.1</td>\n      <td>0.423024</td>\n      <td>-0.003543</td>\n      <td>0.604970</td>\n      <td>-0.520133</td>\n      <td>...</td>\n      <td>0</td>\n      <td>0</td>\n      <td>1</td>\n      <td>0</td>\n      <td>0</td>\n      <td>0</td>\n      <td>0</td>\n      <td>0</td>\n      <td>0</td>\n      <td>0</td>\n    </tr>\n  </tbody>\n</table>\n<p>5 rows \u00d7 39 columns</p>\n</div>",
                        "text/plain": "  state               area   fips  Deaths  Population  DeathRate  \\\n0    WV     Wyoming County  54109     103      112804       91.3   \n1    WV       Boone County  54005      94      118604       79.3   \n2    WV    McDowell County  54047      79      101626       77.7   \n3    WV       Mingo County  54059      95      127658       74.4   \n4    NM  Rio Arriba County  35039     148      199672       74.1   \n\n   PCT_POP_less_HSD  PCT_POP_with_HSD  PCT_POP_some_college  PCT_POP_with_BA  \\\n0          1.631471          1.931206             -1.784319        -1.493169   \n1          1.311588          2.315505             -2.093279        -1.444026   \n2          3.852880          1.573410             -3.164339        -1.788028   \n3          2.253466          1.083097             -1.516554        -1.326082   \n4          0.423024         -0.003543              0.604970        -0.520133   \n\n   ...  UIC_3.0  UIC_4.0  UIC_5.0  UIC_6.0  UIC_7.0  UIC_8.0  UIC_9.0  \\\n0  ...        0        0        0        0        1        0        0   \n1  ...        0        0        0        0        0        0        0   \n2  ...        0        0        0        0        0        0        0   \n3  ...        0        0        0        0        0        0        1   \n4  ...        0        0        1        0        0        0        0   \n\n   UIC_10.0  UIC_11.0  UIC_12.0  \n0         0         0         0  \n1         0         0         0  \n2         1         0         0  \n3         0         0         0  \n4         0         0         0  \n\n[5 rows x 39 columns]"
                    },
                    "execution_count": 43,
                    "metadata": {},
                    "output_type": "execute_result"
                }
            ],
            "source": "scale_cols = ['PCT_POP_less_HSD', 'PCT_POP_with_HSD', 'PCT_POP_some_college',\n       'PCT_POP_with_BA', 'Metro_2013', 'unemployment_rate', 'HH_income',\n       'HH_income_PCT', 'PCTPOVALL_2016', 'PCTPOV017_2016', 'PCTPOV517_2016']\n\nscaler = pp.StandardScaler()\n\nNorm_Principal_data[scale_cols] = scaler.fit_transform(Norm_Principal_data[scale_cols])\nNorm_Principal_data.head()"
        },
        {
            "cell_type": "code",
            "execution_count": 48,
            "metadata": {},
            "outputs": [
                {
                    "data": {
                        "text/plain": "{'file_name': 'Norm_Principal_data.csv',\n 'message': 'File saved to project storage.',\n 'bucket_name': 'opioidmodel-donotdelete-pr-hbvzxejrpvbld5',\n 'asset_id': '8abde439-6f1d-4d9c-8cd3-3eebb8cb249d'}"
                    },
                    "execution_count": 48,
                    "metadata": {},
                    "output_type": "execute_result"
                }
            ],
            "source": "project.save_data(\"Norm_Principal_data.csv\", Norm_Principal_data.to_csv(index=False))\n\n# the function returns a dict which contains the asset_id, bucket_name and file_name\n# upon successful saving of the data"
        },
        {
            "cell_type": "code",
            "execution_count": null,
            "metadata": {},
            "outputs": [],
            "source": ""
        }
    ],
    "metadata": {
        "kernelspec": {
            "display_name": "Python 3.6",
            "language": "python",
            "name": "python3"
        },
        "language_info": {
            "codemirror_mode": {
                "name": "ipython",
                "version": 3
            },
            "file_extension": ".py",
            "mimetype": "text/x-python",
            "name": "python",
            "nbconvert_exporter": "python",
            "pygments_lexer": "ipython3",
            "version": "3.6.9"
        }
    },
    "nbformat": 4,
    "nbformat_minor": 1
}